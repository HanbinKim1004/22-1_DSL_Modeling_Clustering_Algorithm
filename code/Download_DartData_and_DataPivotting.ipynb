{
 "cells": [
  {
   "cell_type": "code",
   "execution_count": 2,
   "metadata": {
    "ExecuteTime": {
     "end_time": "2022-04-14T02:19:09.038768Z",
     "start_time": "2022-04-14T02:19:02.188436Z"
    }
   },
   "outputs": [],
   "source": [
    "# open Dart APi 주소 = https://opendart.fss.or.kr/guide/detail.do?apiGrpCd=DS001&apiId=2019001\n",
    "\n",
    "from bs4 import BeautifulSoup\n",
    "import urllib.request\n",
    "from urllib.request import urlopen\n",
    "from html_table_parser import parser_functions as parser\n",
    "import webbrowser\n",
    "import requests #웹상 정보 요청\n",
    "\n",
    "import pandas as pd\n",
    "import numpy as np\n",
    "import csv\n",
    "import re # 정규표현식\n",
    "\n",
    "from zipfile import ZipFile\n",
    "import xml.etree.ElementTree\n",
    "\n",
    "from io import BytesIO  # Bytes 데이터 변환 라이브러리 "
   ]
  },
  {
   "cell_type": "code",
   "execution_count": null,
   "metadata": {},
   "outputs": [],
   "source": [
    "# 로컬 경로 지정 \n",
    "path = # insert your personal path \n",
    "\n",
    "# 크롬 본인인증 키 \n",
    "user_agent = # insert your User Agent\n",
    "\n",
    "# DART API Key\n",
    "dart_auth = # insert your DART Authorization"
   ]
  },
  {
   "cell_type": "markdown",
   "metadata": {},
   "source": [
    "## corp_code 데이터 확보"
   ]
  },
  {
   "cell_type": "code",
   "execution_count": null,
   "metadata": {},
   "outputs": [],
   "source": [
    "with urllib.request.urlopen(url) as zipresponse:\n",
    "    with ZipFile(BytesIO(zipresponse.read())) as zipfile:\n",
    "        zipfile.extractall('corpCode')"
   ]
  },
  {
   "cell_type": "code",
   "execution_count": null,
   "metadata": {},
   "outputs": [],
   "source": [
    "tree = xml.etree.ElementTree.parse('CORPCODE.xml')\n",
    "root = tree.getroot()\n",
    "\n",
    "file = open(\"corpcode.csv\", mode = 'w')\n",
    "writer = csv.writer(file)\n",
    "writer.writerow(['corp_code', 'corp_name','stock_code', 'stock_name', 'modify_date'])"
   ]
  },
  {
   "cell_type": "code",
   "execution_count": null,
   "metadata": {},
   "outputs": [],
   "source": [
    "for country in root.iter(\"list\"):\n",
    "    \n",
    "    stock_code = country.findtext(\"stock_code\")\n",
    "    stock_code = stock_code.strip()\n",
    "    if stock_code:\n",
    "        country_dic = {\n",
    "            \"corp_code\": country.findtext(\"corp_code\"),\n",
    "            \"corp_name\": country.findtext(\"corp_name\"),\n",
    "            \"stock_code\": country.findtext(\"stock_code\"),\n",
    "            \"stock_name\": country.findtext(\"stock_name\"),\n",
    "            \"modify_date\": country.findtext(\"modify_date\")\n",
    "            \n",
    "        }\n",
    "        writer.writerow(list(country_dic.values()))\n",
    "# 작업 완료 후 작업중인 폴더 내에서 파일 수정후 load필요\n",
    "# 본인은 corpcode.csv를 DART_corp_info.csv로 수정한 후 파일 가져옴"
   ]
  },
  {
   "cell_type": "markdown",
   "metadata": {},
   "source": [
    "## rcept_no 확보"
   ]
  },
  {
   "cell_type": "code",
   "execution_count": null,
   "metadata": {},
   "outputs": [],
   "source": [
    "DART_corp_info = pd.read_csv(\"./DART_corp_info.csv\")"
   ]
  },
  {
   "cell_type": "code",
   "execution_count": null,
   "metadata": {},
   "outputs": [],
   "source": [
    "# 사용 칼럼 정리\n",
    "DART_corp_info = DART_corp_info[['corp_code', 'corp_code', 'corp_name_eng', 'stock_name', 'stock_code', 'ceo_nm', 'corp_cls', 'jurir_no', 'bizr_no', 'adres', 'hm_url', 'phn_no', 'fax_no', 'induty_code', 'est_dt']]\n",
    "DART_corp_info.columns = ['new_corp_code', 'corp_code', 'corp_name_eng', 'stock_name', 'stock_code', 'ceo_nm', 'corp_cls', 'jurir_no', 'bizr_no', 'adres', 'hm_url', 'phn_no', 'fax_no', 'induty_code', 'est_dt']"
   ]
  },
  {
   "cell_type": "code",
   "execution_count": null,
   "metadata": {},
   "outputs": [],
   "source": [
    "# open dart api 최신화에 따른 corpcode 데이터 수정 6자리 -> 8자리\n",
    "for i in range(len(DART_corp_info['new_corp_code'])):\n",
    "    DART_corp_info['new_corp_code'] = DART_corp_info['new_corp_code'].astype(str)\n",
    "    \n",
    "    if len(DART_corp_info['new_corp_code'][i]) == 6:\n",
    "        DART_corp_info['new_corp_code'][i] = '00' + DART_corp_info['new_corp_code'][i]\n",
    "    \n",
    "    elif len(DART_corp_info['new_corp_code'][i]) == 7:\n",
    "        DART_corp_info['new_corp_code'][i] = '0' + DART_corp_info['new_corp_code'][i]\n",
    "    \n",
    "    elif len(DART_corp_info['new_corp_code'][i]) == 8:\n",
    "        DART_corp_info['new_corp_code'][i] = DART_corp_info['new_corp_code'][i]"
   ]
  },
  {
   "cell_type": "code",
   "execution_count": null,
   "metadata": {},
   "outputs": [],
   "source": [
    "revised_corp_info = DART_corp_info[DART_corp_info['corp_cls'] != 'E'] #기타 상장사가 아닌 회사만 선택\n",
    "revised_corp_info_new_corp_code = np.array(revised_corp_info['new_corp_code'].tolist())"
   ]
  },
  {
   "cell_type": "code",
   "execution_count": null,
   "metadata": {},
   "outputs": [],
   "source": [
    "rcept_no_list=[]\n",
    "corp_code_list =[]\n",
    "\n",
    "for i in range(len(revised_corp_info_new_corp_code)):\n",
    "    try:\n",
    "        # 2020년 연결 재무제표 기준으로 데이터 확보 \n",
    "        url = 'https://opendart.fss.or.kr/api/fnlttSinglAcntAll.xml?crtfc_key={}&corp_code={}&bsns_year=2020&reprt_code=11011&fs_div=OFS'.format(dart_auth, revised_corp_info_new_corp_code[i])\n",
    "        resp = requests.get(url, headers={\"user-agent\": user_agent}) #정보 획득 가능 여부 확인 \n",
    "        webpage = resp.content.decode('UTF-8')\n",
    "        \n",
    "        rcept_no =  re.findall(r'<rcept_no>(.*?)</rcept_no>', webpage)\n",
    "        rcept_no = rcept_no[0]\n",
    "        rcept_no_list.append(rcept_no)\n",
    "        \n",
    "        corp_code =  re.findall(r'<corp_code>(.*?)</corp_code>', webpage)\n",
    "        corp_code = corp_code[0]\n",
    "        corp_code_list.append(corp_code)\n",
    "\n",
    "    except Exception as e:\n",
    "        print(revised_corp_info_new_corp_code[i]+\" is error\")\n",
    "        print(e)\n",
    "        \n",
    "corp_code_list"
   ]
  },
  {
   "cell_type": "code",
   "execution_count": null,
   "metadata": {},
   "outputs": [],
   "source": [
    "rcp_corpcode = pd.DataFrame(zip(rcept_no_list, corp_code_list))"
   ]
  },
  {
   "cell_type": "code",
   "execution_count": null,
   "metadata": {},
   "outputs": [],
   "source": [
    "rcp_corpcode.columns = ['rcept_no', 'new_corp_code']\n",
    "rcp_corpcode.to_csv('./rcp_corpcode.csv')"
   ]
  },
  {
   "cell_type": "markdown",
   "metadata": {},
   "source": [
    "## 기업별 rcept_no에 따른 dcm_no 확보"
   ]
  },
  {
   "cell_type": "code",
   "execution_count": null,
   "metadata": {},
   "outputs": [],
   "source": [
    "rcp_corpcode = pd.read_csv('rcp_corpcode.csv')"
   ]
  },
  {
   "cell_type": "code",
   "execution_count": null,
   "metadata": {},
   "outputs": [],
   "source": [
    "import time\n",
    "import random \n",
    "\n",
    "# 사업보고서 다운로드 창 URL\n",
    "# disclosure_viewer_url = 'https://dart.fss.or.kr/dsaf001/main.do?rcpNo='\n",
    "\n",
    "dcm_no_list = []\n",
    "no_list = []\n",
    "\n",
    "for i in range(len(rcp_corpcode['rcept_no'])):\n",
    "    try:\n",
    "        url = 'https://dart.fss.or.kr/dsaf001/main.do?rcpNo={}'.format(rcp_corpcode['rcept_no'][i])\n",
    "        resp = requests.get(url, headers={\"user-agent\": user_agent}) #정보 획득 가능 여부 확인 \n",
    "        time.sleep( random.uniform(1,3) )\n",
    "        webpage = resp.content.decode('UTF-8')\n",
    "        dcm_no = re.findall(r\"{}', '(.*?)',\".format(rcp_corpcode['rcept_no'][i]), webpage)[0]\n",
    "        dcm_no_list.append(dcm_no)\n",
    "        no_list.append(i)\n",
    "        \n",
    "    except Exception as e:\n",
    "        print(e)"
   ]
  },
  {
   "cell_type": "code",
   "execution_count": null,
   "metadata": {},
   "outputs": [],
   "source": [
    "# 데이터 프레임화\n",
    "dcm_no_list_df = pd.DataFrame(dcm_no_list)\n",
    "\n",
    "# 작업시간증가에 따른 작업 분할 및 데이터 저장 \n",
    "rcp_dcm_corpcode = pd.concat([rcp_corpcode, dcm_no_list_df], axis = 1)\n",
    "rcp_dcm_corpcode.columns = ['Unnamed: 0\t', 'rcept_no', 'new_corp_code', 'dcm_no']\n",
    "rcp_dcm_corpcode.to_csv('./rcp_dcm_corpcode.csv')"
   ]
  },
  {
   "cell_type": "code",
   "execution_count": null,
   "metadata": {},
   "outputs": [],
   "source": [
    "# 데이터 로드 \n",
    "rcp_dcm_corpcode = pd.read_csv('rcp_dcm_corpcode.csv')"
   ]
  },
  {
   "attachments": {},
   "cell_type": "markdown",
   "metadata": {},
   "source": [
    "## 재무 데이터 처리를 위한 데이터 pivot"
   ]
  },
  {
   "cell_type": "code",
   "execution_count": null,
   "metadata": {},
   "outputs": [],
   "source": [
    "import time\n",
    "import random \n",
    "\n",
    "# sheet_names = ['연결 재무상태표', '연결 포괄손익계산서', '연결 현금흐름표']\n",
    "\n",
    "# data_total = pd.DataFrame()\n",
    "\n",
    "array = np.arange(0,3000,1)\n",
    "data_total = pd.DataFrame(array)\n",
    "data_total.columns = ['index']\n",
    "\n",
    "for i in range(len(rcp_dcm_corpcode['dcm_no'])):\n",
    "    try:\n",
    "        url = 'https://dart.fss.or.kr/pdf/download/excel.do?rcp_no={}&dcm_no={}&lang=ko'.format(rcp_dcm_corpcode['rcept_no'][i], rcp_dcm_corpcode['dcm_no'][i])\n",
    "        time.sleep( random.uniform(1,3) )\n",
    "        resp = requests.get(url, headers={\"user-agent\": user_agent}) #정보 획득 가능 여부 확인 \n",
    "        table = BytesIO(resp.content)\n",
    "        \n",
    "        \n",
    "        data1 = pd.read_excel(table, sheet_name = '재무상태표', skiprows=5)\n",
    "        data1 = data1.iloc[:,[0,1]]\n",
    "        data2 = pd.read_excel(table, sheet_name = '포괄손익계산서', skiprows=5)\n",
    "        data2 = data2.iloc[:,[0,1]]\n",
    "        data3 = pd.read_excel(table, sheet_name = '현금흐름표', skiprows=5)\n",
    "        data3 = data3.iloc[:,[0,1]]\n",
    "\n",
    "        data_concat = pd.concat([data1, data2, data3], axis = 0)\n",
    "        \n",
    "        data4 = pd.DataFrame( np.arange(len(data_concat),3000,1) )\n",
    "        data4.columns = ['Unnamed: 1']\n",
    "        data_concat = pd.concat([data_concat, data4], axis = 0)\n",
    "        data_concat.rename(columns={data_concat.columns[1]: rcp_dcm_corpcode['dcm_no'][i] }, inplace=True)\n",
    "        data_concat['index'] = np.arange(0,3000,1)\n",
    "\n",
    "        \n",
    "        data_total = pd.merge(data_total, data_concat, how = \"outer\", on = 'index')\n",
    "        \n",
    "        \n",
    "    except Exception as e:\n",
    "        print(e)\n"
   ]
  },
  {
   "cell_type": "code",
   "execution_count": null,
   "metadata": {},
   "outputs": [],
   "source": [
    "data_total.to_csv('./data_total_재무상태표ver_notE.csv', encoding = 'euc-kr')"
   ]
  }
 ],
 "metadata": {
  "kernelspec": {
   "display_name": "Python 3",
   "language": "python",
   "name": "python3"
  },
  "language_info": {
   "codemirror_mode": {
    "name": "ipython",
    "version": 3
   },
   "file_extension": ".py",
   "mimetype": "text/x-python",
   "name": "python",
   "nbconvert_exporter": "python",
   "pygments_lexer": "ipython3",
   "version": "3.8.5"
  },
  "toc": {
   "base_numbering": 1,
   "nav_menu": {},
   "number_sections": true,
   "sideBar": true,
   "skip_h1_title": false,
   "title_cell": "Table of Contents",
   "title_sidebar": "Contents",
   "toc_cell": false,
   "toc_position": {},
   "toc_section_display": true,
   "toc_window_display": false
  }
 },
 "nbformat": 4,
 "nbformat_minor": 4
}
