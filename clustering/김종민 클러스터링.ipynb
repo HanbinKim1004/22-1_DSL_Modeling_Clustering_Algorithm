{
 "cells": [
  {
   "cell_type": "markdown",
   "metadata": {},
   "source": [
    "## 회의 후"
   ]
  },
  {
   "cell_type": "code",
   "execution_count": 1,
   "metadata": {},
   "outputs": [],
   "source": [
    "import pandas as pd\n",
    "import matplotlib.pyplot as plt\n",
    "import numpy as np\n"
   ]
  },
  {
   "cell_type": "code",
   "execution_count": 2,
   "metadata": {},
   "outputs": [],
   "source": [
    "data_2 = pd.read_csv('data.csv', encoding='CP949')"
   ]
  },
  {
   "cell_type": "code",
   "execution_count": 4,
   "metadata": {},
   "outputs": [
    {
     "name": "stdout",
     "output_type": "stream",
     "text": [
      "Collecting sweetviz\n",
      "  Downloading sweetviz-2.1.3-py3-none-any.whl (15.1 MB)\n",
      "Requirement already satisfied: jinja2>=2.11.1 in c:\\users\\kjm\\anaconda3\\lib\\site-packages (from sweetviz) (2.11.2)\n",
      "Requirement already satisfied: pandas!=1.0.0,!=1.0.1,!=1.0.2,>=0.25.3 in c:\\users\\kjm\\anaconda3\\lib\\site-packages (from sweetviz) (1.1.3)\n",
      "Requirement already satisfied: tqdm>=4.43.0 in c:\\users\\kjm\\anaconda3\\lib\\site-packages (from sweetviz) (4.50.2)\n",
      "Requirement already satisfied: scipy>=1.3.2 in c:\\users\\kjm\\anaconda3\\lib\\site-packages (from sweetviz) (1.5.2)\n",
      "Requirement already satisfied: numpy>=1.16.0 in c:\\users\\kjm\\anaconda3\\lib\\site-packages (from sweetviz) (1.19.2)\n",
      "Requirement already satisfied: matplotlib>=3.1.3 in c:\\users\\kjm\\anaconda3\\lib\\site-packages (from sweetviz) (3.5.1)\n",
      "Collecting importlib-resources>=1.2.0\n",
      "  Downloading importlib_resources-5.6.0-py3-none-any.whl (28 kB)\n",
      "Requirement already satisfied: MarkupSafe>=0.23 in c:\\users\\kjm\\anaconda3\\lib\\site-packages (from jinja2>=2.11.1->sweetviz) (1.1.1)\n",
      "Requirement already satisfied: python-dateutil>=2.7.3 in c:\\users\\kjm\\anaconda3\\lib\\site-packages (from pandas!=1.0.0,!=1.0.1,!=1.0.2,>=0.25.3->sweetviz) (2.8.1)\n",
      "Requirement already satisfied: pytz>=2017.2 in c:\\users\\kjm\\anaconda3\\lib\\site-packages (from pandas!=1.0.0,!=1.0.1,!=1.0.2,>=0.25.3->sweetviz) (2020.1)\n",
      "Requirement already satisfied: kiwisolver>=1.0.1 in c:\\users\\kjm\\anaconda3\\lib\\site-packages (from matplotlib>=3.1.3->sweetviz) (1.3.0)\n",
      "Requirement already satisfied: packaging>=20.0 in c:\\users\\kjm\\anaconda3\\lib\\site-packages (from matplotlib>=3.1.3->sweetviz) (21.3)\n",
      "Requirement already satisfied: fonttools>=4.22.0 in c:\\users\\kjm\\anaconda3\\lib\\site-packages (from matplotlib>=3.1.3->sweetviz) (4.28.5)\n",
      "Requirement already satisfied: pyparsing>=2.2.1 in c:\\users\\kjm\\anaconda3\\lib\\site-packages (from matplotlib>=3.1.3->sweetviz) (2.4.7)\n",
      "Requirement already satisfied: cycler>=0.10 in c:\\users\\kjm\\anaconda3\\lib\\site-packages (from matplotlib>=3.1.3->sweetviz) (0.10.0)\n",
      "Requirement already satisfied: pillow>=6.2.0 in c:\\users\\kjm\\anaconda3\\lib\\site-packages (from matplotlib>=3.1.3->sweetviz) (8.0.1)\n",
      "Requirement already satisfied: zipp>=3.1.0; python_version < \"3.10\" in c:\\users\\kjm\\anaconda3\\lib\\site-packages (from importlib-resources>=1.2.0->sweetviz) (3.4.0)\n",
      "Requirement already satisfied: six>=1.5 in c:\\users\\kjm\\anaconda3\\lib\\site-packages (from python-dateutil>=2.7.3->pandas!=1.0.0,!=1.0.1,!=1.0.2,>=0.25.3->sweetviz) (1.15.0)\n",
      "Installing collected packages: importlib-resources, sweetviz\n",
      "Successfully installed importlib-resources-5.6.0 sweetviz-2.1.3\n"
     ]
    }
   ],
   "source": [
    "!pip install sweetviz"
   ]
  },
  {
   "cell_type": "code",
   "execution_count": 3,
   "metadata": {},
   "outputs": [],
   "source": [
    "import sweetviz as sv"
   ]
  },
  {
   "cell_type": "code",
   "execution_count": 6,
   "metadata": {},
   "outputs": [],
   "source": [
    "jemu = data_2.iloc[:,[17,18,19,20,21,22,23,24,25,26,27,28]]"
   ]
  },
  {
   "cell_type": "code",
   "execution_count": 8,
   "metadata": {},
   "outputs": [
    {
     "data": {
      "application/vnd.jupyter.widget-view+json": {
       "model_id": "2ce07269918941a8a4983731a69e1d2c",
       "version_major": 2,
       "version_minor": 0
      },
      "text/plain": [
       "HBox(children=(HTML(value=''), FloatProgress(value=0.0, layout=Layout(flex='2'), max=13.0), HTML(value='')), l…"
      ]
     },
     "metadata": {},
     "output_type": "display_data"
    },
    {
     "name": "stderr",
     "output_type": "stream",
     "text": [
      "C:\\Users\\kjm\\anaconda3\\lib\\site-packages\\sweetviz\\graph.py:33: UserWarning: Glyph 45380 (\\N{HANGUL SYLLABLE NYEON}) missing from current font.\n",
      "  figure.savefig(as_raw_bytes, format='png', transparent=True)\n",
      "C:\\Users\\kjm\\anaconda3\\lib\\site-packages\\sweetviz\\graph.py:33: UserWarning: Glyph 51088 (\\N{HANGUL SYLLABLE JA}) missing from current font.\n",
      "  figure.savefig(as_raw_bytes, format='png', transparent=True)\n",
      "C:\\Users\\kjm\\anaconda3\\lib\\site-packages\\sweetviz\\graph.py:33: UserWarning: Glyph 49328 (\\N{HANGUL SYLLABLE SAN}) missing from current font.\n",
      "  figure.savefig(as_raw_bytes, format='png', transparent=True)\n",
      "C:\\Users\\kjm\\anaconda3\\lib\\site-packages\\sweetviz\\graph.py:33: UserWarning: Glyph 52509 (\\N{HANGUL SYLLABLE CONG}) missing from current font.\n",
      "  figure.savefig(as_raw_bytes, format='png', transparent=True)\n",
      "C:\\Users\\kjm\\anaconda3\\lib\\site-packages\\sweetviz\\graph.py:33: UserWarning: Glyph 44228 (\\N{HANGUL SYLLABLE GYE}) missing from current font.\n",
      "  figure.savefig(as_raw_bytes, format='png', transparent=True)\n",
      "C:\\Users\\kjm\\anaconda3\\lib\\site-packages\\sweetviz\\graph.py:33: UserWarning: Glyph 48376 (\\N{HANGUL SYLLABLE BON}) missing from current font.\n",
      "  figure.savefig(as_raw_bytes, format='png', transparent=True)\n",
      "C:\\Users\\kjm\\anaconda3\\lib\\site-packages\\sweetviz\\graph.py:33: UserWarning: Glyph 44552 (\\N{HANGUL SYLLABLE GEUM}) missing from current font.\n",
      "  figure.savefig(as_raw_bytes, format='png', transparent=True)\n",
      "C:\\Users\\kjm\\anaconda3\\lib\\site-packages\\sweetviz\\graph.py:33: UserWarning: Glyph 47588 (\\N{HANGUL SYLLABLE MAE}) missing from current font.\n",
      "  figure.savefig(as_raw_bytes, format='png', transparent=True)\n",
      "C:\\Users\\kjm\\anaconda3\\lib\\site-packages\\sweetviz\\graph.py:33: UserWarning: Glyph 52636 (\\N{HANGUL SYLLABLE CUL}) missing from current font.\n",
      "  figure.savefig(as_raw_bytes, format='png', transparent=True)\n",
      "C:\\Users\\kjm\\anaconda3\\lib\\site-packages\\sweetviz\\graph.py:33: UserWarning: Glyph 50529 (\\N{HANGUL SYLLABLE AEG}) missing from current font.\n",
      "  figure.savefig(as_raw_bytes, format='png', transparent=True)\n",
      "C:\\Users\\kjm\\anaconda3\\lib\\site-packages\\sweetviz\\graph.py:33: UserWarning: Glyph 50689 (\\N{HANGUL SYLLABLE YEONG}) missing from current font.\n",
      "  figure.savefig(as_raw_bytes, format='png', transparent=True)\n",
      "C:\\Users\\kjm\\anaconda3\\lib\\site-packages\\sweetviz\\graph.py:33: UserWarning: Glyph 50629 (\\N{HANGUL SYLLABLE EOB}) missing from current font.\n",
      "  figure.savefig(as_raw_bytes, format='png', transparent=True)\n",
      "C:\\Users\\kjm\\anaconda3\\lib\\site-packages\\sweetviz\\graph.py:33: UserWarning: Glyph 51060 (\\N{HANGUL SYLLABLE I}) missing from current font.\n",
      "  figure.savefig(as_raw_bytes, format='png', transparent=True)\n",
      "C:\\Users\\kjm\\anaconda3\\lib\\site-packages\\sweetviz\\graph.py:33: UserWarning: Glyph 51061 (\\N{HANGUL SYLLABLE IG}) missing from current font.\n",
      "  figure.savefig(as_raw_bytes, format='png', transparent=True)\n",
      "C:\\Users\\kjm\\anaconda3\\lib\\site-packages\\sweetviz\\graph.py:33: UserWarning: Glyph 49692 (\\N{HANGUL SYLLABLE SUN}) missing from current font.\n",
      "  figure.savefig(as_raw_bytes, format='png', transparent=True)\n"
     ]
    },
    {
     "name": "stdout",
     "output_type": "stream",
     "text": [
      "\n",
      "Report ./sweetviz_Compare.html was generated! NOTEBOOK/COLAB USERS: the web browser MAY not pop up, regardless, the report IS saved in your notebook/colab files.\n"
     ]
    }
   ],
   "source": [
    "report = sv.analyze(jemu)\n",
    "report.show_html('./sweetviz_Compare.html')"
   ]
  },
  {
   "cell_type": "code",
   "execution_count": 9,
   "metadata": {},
   "outputs": [],
   "source": [
    "juga = data_2.iloc[:,[1,3,5,6,7,12,13,14,29,30,31,32]]"
   ]
  },
  {
   "cell_type": "code",
   "execution_count": 10,
   "metadata": {},
   "outputs": [
    {
     "data": {
      "application/vnd.jupyter.widget-view+json": {
       "model_id": "9ee8fa2a3a054994b6c337157303e01f",
       "version_major": 2,
       "version_minor": 0
      },
      "text/plain": [
       "HBox(children=(HTML(value=''), FloatProgress(value=0.0, layout=Layout(flex='2'), max=13.0), HTML(value='')), l…"
      ]
     },
     "metadata": {},
     "output_type": "display_data"
    },
    {
     "name": "stderr",
     "output_type": "stream",
     "text": [
      "C:\\Users\\kjm\\anaconda3\\lib\\site-packages\\sweetviz\\graph.py:33: UserWarning: Glyph 51333 (\\N{HANGUL SYLLABLE JONG}) missing from current font.\n",
      "  figure.savefig(as_raw_bytes, format='png', transparent=True)\n",
      "C:\\Users\\kjm\\anaconda3\\lib\\site-packages\\sweetviz\\graph.py:33: UserWarning: Glyph 47785 (\\N{HANGUL SYLLABLE MOG}) missing from current font.\n",
      "  figure.savefig(as_raw_bytes, format='png', transparent=True)\n",
      "C:\\Users\\kjm\\anaconda3\\lib\\site-packages\\sweetviz\\graph.py:33: UserWarning: Glyph 53076 (\\N{HANGUL SYLLABLE KO}) missing from current font.\n",
      "  figure.savefig(as_raw_bytes, format='png', transparent=True)\n",
      "C:\\Users\\kjm\\anaconda3\\lib\\site-packages\\sweetviz\\graph.py:33: UserWarning: Glyph 46300 (\\N{HANGUL SYLLABLE DEU}) missing from current font.\n",
      "  figure.savefig(as_raw_bytes, format='png', transparent=True)\n",
      "C:\\Users\\kjm\\anaconda3\\lib\\site-packages\\sweetviz\\graph.py:33: UserWarning: Glyph 49884 (\\N{HANGUL SYLLABLE SI}) missing from current font.\n",
      "  figure.savefig(as_raw_bytes, format='png', transparent=True)\n",
      "C:\\Users\\kjm\\anaconda3\\lib\\site-packages\\sweetviz\\graph.py:33: UserWarning: Glyph 51109 (\\N{HANGUL SYLLABLE JANG}) missing from current font.\n",
      "  figure.savefig(as_raw_bytes, format='png', transparent=True)\n",
      "C:\\Users\\kjm\\anaconda3\\lib\\site-packages\\sweetviz\\graph.py:33: UserWarning: Glyph 44396 (\\N{HANGUL SYLLABLE GU}) missing from current font.\n",
      "  figure.savefig(as_raw_bytes, format='png', transparent=True)\n",
      "C:\\Users\\kjm\\anaconda3\\lib\\site-packages\\sweetviz\\graph.py:33: UserWarning: Glyph 48516 (\\N{HANGUL SYLLABLE BUN}) missing from current font.\n",
      "  figure.savefig(as_raw_bytes, format='png', transparent=True)\n",
      "C:\\Users\\kjm\\anaconda3\\lib\\site-packages\\sweetviz\\graph.py:33: UserWarning: Glyph 49345 (\\N{HANGUL SYLLABLE SANG}) missing from current font.\n",
      "  figure.savefig(as_raw_bytes, format='png', transparent=True)\n",
      "C:\\Users\\kjm\\anaconda3\\lib\\site-packages\\sweetviz\\graph.py:33: UserWarning: Glyph 51452 (\\N{HANGUL SYLLABLE JU}) missing from current font.\n",
      "  figure.savefig(as_raw_bytes, format='png', transparent=True)\n",
      "C:\\Users\\kjm\\anaconda3\\lib\\site-packages\\sweetviz\\graph.py:33: UserWarning: Glyph 49885 (\\N{HANGUL SYLLABLE SIG}) missing from current font.\n",
      "  figure.savefig(as_raw_bytes, format='png', transparent=True)\n",
      "C:\\Users\\kjm\\anaconda3\\lib\\site-packages\\sweetviz\\graph.py:33: UserWarning: Glyph 49688 (\\N{HANGUL SYLLABLE SU}) missing from current font.\n",
      "  figure.savefig(as_raw_bytes, format='png', transparent=True)\n",
      "C:\\Users\\kjm\\anaconda3\\lib\\site-packages\\sweetviz\\graph.py:33: UserWarning: Glyph 46321 (\\N{HANGUL SYLLABLE DEUNG}) missing from current font.\n",
      "  figure.savefig(as_raw_bytes, format='png', transparent=True)\n",
      "C:\\Users\\kjm\\anaconda3\\lib\\site-packages\\sweetviz\\graph.py:33: UserWarning: Glyph 46973 (\\N{HANGUL SYLLABLE RAG}) missing from current font.\n",
      "  figure.savefig(as_raw_bytes, format='png', transparent=True)\n",
      "C:\\Users\\kjm\\anaconda3\\lib\\site-packages\\sweetviz\\graph.py:33: UserWarning: Glyph 47456 (\\N{HANGUL SYLLABLE RYUL}) missing from current font.\n",
      "  figure.savefig(as_raw_bytes, format='png', transparent=True)\n",
      "C:\\Users\\kjm\\anaconda3\\lib\\site-packages\\sweetviz\\graph.py:33: UserWarning: Glyph 44144 (\\N{HANGUL SYLLABLE GEO}) missing from current font.\n",
      "  figure.savefig(as_raw_bytes, format='png', transparent=True)\n",
      "C:\\Users\\kjm\\anaconda3\\lib\\site-packages\\sweetviz\\graph.py:33: UserWarning: Glyph 47000 (\\N{HANGUL SYLLABLE RAE}) missing from current font.\n",
      "  figure.savefig(as_raw_bytes, format='png', transparent=True)\n",
      "C:\\Users\\kjm\\anaconda3\\lib\\site-packages\\sweetviz\\graph.py:33: UserWarning: Glyph 47049 (\\N{HANGUL SYLLABLE RYANG}) missing from current font.\n",
      "  figure.savefig(as_raw_bytes, format='png', transparent=True)\n",
      "C:\\Users\\kjm\\anaconda3\\lib\\site-packages\\sweetviz\\graph.py:33: UserWarning: Glyph 45824 (\\N{HANGUL SYLLABLE DAE}) missing from current font.\n",
      "  figure.savefig(as_raw_bytes, format='png', transparent=True)\n",
      "C:\\Users\\kjm\\anaconda3\\lib\\site-packages\\sweetviz\\graph.py:33: UserWarning: Glyph 44552 (\\N{HANGUL SYLLABLE GEUM}) missing from current font.\n",
      "  figure.savefig(as_raw_bytes, format='png', transparent=True)\n",
      "C:\\Users\\kjm\\anaconda3\\lib\\site-packages\\sweetviz\\graph.py:33: UserWarning: Glyph 44032 (\\N{HANGUL SYLLABLE GA}) missing from current font.\n",
      "  figure.savefig(as_raw_bytes, format='png', transparent=True)\n",
      "C:\\Users\\kjm\\anaconda3\\lib\\site-packages\\sweetviz\\graph.py:33: UserWarning: Glyph 52509 (\\N{HANGUL SYLLABLE CONG}) missing from current font.\n",
      "  figure.savefig(as_raw_bytes, format='png', transparent=True)\n",
      "C:\\Users\\kjm\\anaconda3\\lib\\site-packages\\sweetviz\\graph.py:33: UserWarning: Glyph 50529 (\\N{HANGUL SYLLABLE AEG}) missing from current font.\n",
      "  figure.savefig(as_raw_bytes, format='png', transparent=True)\n"
     ]
    },
    {
     "name": "stdout",
     "output_type": "stream",
     "text": [
      "\n",
      "Report ./sweetviz_Compare.html was generated! NOTEBOOK/COLAB USERS: the web browser MAY not pop up, regardless, the report IS saved in your notebook/colab files.\n"
     ]
    }
   ],
   "source": [
    "report = sv.analyze(juga)\n",
    "report.show_html('./sweetviz_Compare.html')"
   ]
  },
  {
   "cell_type": "code",
   "execution_count": 20,
   "metadata": {},
   "outputs": [],
   "source": [
    "esg = data_2.iloc[:,[15,16]]"
   ]
  },
  {
   "cell_type": "code",
   "execution_count": 21,
   "metadata": {},
   "outputs": [
    {
     "data": {
      "text/html": [
       "<div>\n",
       "<style scoped>\n",
       "    .dataframe tbody tr th:only-of-type {\n",
       "        vertical-align: middle;\n",
       "    }\n",
       "\n",
       "    .dataframe tbody tr th {\n",
       "        vertical-align: top;\n",
       "    }\n",
       "\n",
       "    .dataframe thead th {\n",
       "        text-align: right;\n",
       "    }\n",
       "</style>\n",
       "<table border=\"1\" class=\"dataframe\">\n",
       "  <thead>\n",
       "    <tr style=\"text-align: right;\">\n",
       "      <th></th>\n",
       "      <th>온실가스 배출량(tCO2-eq)</th>\n",
       "      <th>에너지 사용량(TJ)</th>\n",
       "    </tr>\n",
       "  </thead>\n",
       "  <tbody>\n",
       "    <tr>\n",
       "      <th>count</th>\n",
       "      <td>3.260000e+02</td>\n",
       "      <td>326.000000</td>\n",
       "    </tr>\n",
       "    <tr>\n",
       "      <th>mean</th>\n",
       "      <td>8.444162e+05</td>\n",
       "      <td>9551.957055</td>\n",
       "    </tr>\n",
       "    <tr>\n",
       "      <th>std</th>\n",
       "      <td>4.739584e+06</td>\n",
       "      <td>31929.664760</td>\n",
       "    </tr>\n",
       "    <tr>\n",
       "      <th>min</th>\n",
       "      <td>1.078000e+03</td>\n",
       "      <td>20.000000</td>\n",
       "    </tr>\n",
       "    <tr>\n",
       "      <th>25%</th>\n",
       "      <td>2.369100e+04</td>\n",
       "      <td>459.750000</td>\n",
       "    </tr>\n",
       "    <tr>\n",
       "      <th>50%</th>\n",
       "      <td>7.754750e+04</td>\n",
       "      <td>1379.500000</td>\n",
       "    </tr>\n",
       "    <tr>\n",
       "      <th>75%</th>\n",
       "      <td>2.290500e+05</td>\n",
       "      <td>3889.000000</td>\n",
       "    </tr>\n",
       "    <tr>\n",
       "      <th>max</th>\n",
       "      <td>7.567117e+07</td>\n",
       "      <td>382830.000000</td>\n",
       "    </tr>\n",
       "  </tbody>\n",
       "</table>\n",
       "</div>"
      ],
      "text/plain": [
       "       온실가스 배출량(tCO2-eq)    에너지 사용량(TJ)\n",
       "count       3.260000e+02     326.000000\n",
       "mean        8.444162e+05    9551.957055\n",
       "std         4.739584e+06   31929.664760\n",
       "min         1.078000e+03      20.000000\n",
       "25%         2.369100e+04     459.750000\n",
       "50%         7.754750e+04    1379.500000\n",
       "75%         2.290500e+05    3889.000000\n",
       "max         7.567117e+07  382830.000000"
      ]
     },
     "execution_count": 21,
     "metadata": {},
     "output_type": "execute_result"
    }
   ],
   "source": [
    "esg.describe()"
   ]
  },
  {
   "cell_type": "code",
   "execution_count": null,
   "metadata": {},
   "outputs": [],
   "source": []
  },
  {
   "cell_type": "code",
   "execution_count": 11,
   "metadata": {},
   "outputs": [
    {
     "name": "stdout",
     "output_type": "stream",
     "text": [
      "<class 'pandas.core.frame.DataFrame'>\n",
      "RangeIndex: 2500 entries, 0 to 2499\n",
      "Data columns (total 52 columns):\n",
      " #   Column             Non-Null Count  Dtype  \n",
      "---  ------             --------------  -----  \n",
      " 0   회사명                2500 non-null   object \n",
      " 1   종목코드               2500 non-null   int64  \n",
      " 2   업종                 2500 non-null   object \n",
      " 3   상장일                2500 non-null   object \n",
      " 4   지역                 2500 non-null   object \n",
      " 5   영문 종목명             2500 non-null   object \n",
      " 6   시장구분               2500 non-null   object \n",
      " 7   상장주식수              2500 non-null   int64  \n",
      " 8   ESG등급              955 non-null    object \n",
      " 9   환경                 955 non-null    object \n",
      " 10  사회                 955 non-null    object \n",
      " 11  지배구조               955 non-null    object \n",
      " 12  등락률                2380 non-null   float64\n",
      " 13  거래량_x              2380 non-null   float64\n",
      " 14  거래대금_x             2380 non-null   float64\n",
      " 15  온실가스 배출량(tCO2-eq)  326 non-null    float64\n",
      " 16  에너지 사용량(TJ)        326 non-null    float64\n",
      " 17  corp_code          231 non-null    float64\n",
      " 18  stock_name         231 non-null    object \n",
      " 19  corp_cls           231 non-null    object \n",
      " 20  induty_code        231 non-null    float64\n",
      " 21  est_dt             231 non-null    float64\n",
      " 22  2021년 NCSI         60 non-null     float64\n",
      " 23  자산총계               479 non-null    float64\n",
      " 24  자본금                479 non-null    float64\n",
      " 25  자본총계               479 non-null    float64\n",
      " 26  매출액                479 non-null    float64\n",
      " 27  영업이익               479 non-null    float64\n",
      " 28  순이익                479 non-null    float64\n",
      " 29  종가                 2479 non-null   float64\n",
      " 30  시가총액               2479 non-null   float64\n",
      " 31  거래량_y              2479 non-null   float64\n",
      " 32  거래대금_y             2479 non-null   float64\n",
      " 33  통근버스운행             1735 non-null   float64\n",
      " 34  본인학자금              1735 non-null   float64\n",
      " 35  복지카드               1736 non-null   float64\n",
      " 36  업무활동비              1736 non-null   float64\n",
      " 37  자격증수당              1736 non-null   float64\n",
      " 38  위험수당               1736 non-null   float64\n",
      " 39  사대보험               1736 non-null   float64\n",
      " 40  워크샵                1736 non-null   float64\n",
      " 41  신입사원교육             1736 non-null   float64\n",
      " 42  직무향상교육             1736 non-null   float64\n",
      " 43  리더십교육              1736 non-null   float64\n",
      " 44  해외연수지원             1736 non-null   float64\n",
      " 45  도서비지원              1736 non-null   float64\n",
      " 46  외국어교육지원            1736 non-null   float64\n",
      " 47  자격증취득지원            1736 non-null   float64\n",
      " 48  총개수                1736 non-null   float64\n",
      " 49  기준가&종가 평균          2380 non-null   float64\n",
      " 50  업종 대분류             2500 non-null   object \n",
      " 51  온실가스/매출액           475 non-null    float64\n",
      "dtypes: float64(37), int64(2), object(13)\n",
      "memory usage: 1015.8+ KB\n"
     ]
    }
   ],
   "source": [
    "data_2.info()"
   ]
  },
  {
   "cell_type": "code",
   "execution_count": 22,
   "metadata": {},
   "outputs": [
    {
     "data": {
      "application/vnd.jupyter.widget-view+json": {
       "model_id": "2209bd470b394d358df3b7db20f22fe8",
       "version_major": 2,
       "version_minor": 0
      },
      "text/plain": [
       "HBox(children=(HTML(value=''), FloatProgress(value=0.0, layout=Layout(flex='2'), max=3.0), HTML(value='')), la…"
      ]
     },
     "metadata": {},
     "output_type": "display_data"
    },
    {
     "name": "stderr",
     "output_type": "stream",
     "text": [
      "C:\\Users\\kjm\\anaconda3\\lib\\site-packages\\sweetviz\\graph.py:33: UserWarning: Glyph 50728 (\\N{HANGUL SYLLABLE ON}) missing from current font.\n",
      "  figure.savefig(as_raw_bytes, format='png', transparent=True)\n",
      "C:\\Users\\kjm\\anaconda3\\lib\\site-packages\\sweetviz\\graph.py:33: UserWarning: Glyph 49892 (\\N{HANGUL SYLLABLE SIL}) missing from current font.\n",
      "  figure.savefig(as_raw_bytes, format='png', transparent=True)\n",
      "C:\\Users\\kjm\\anaconda3\\lib\\site-packages\\sweetviz\\graph.py:33: UserWarning: Glyph 44032 (\\N{HANGUL SYLLABLE GA}) missing from current font.\n",
      "  figure.savefig(as_raw_bytes, format='png', transparent=True)\n",
      "C:\\Users\\kjm\\anaconda3\\lib\\site-packages\\sweetviz\\graph.py:33: UserWarning: Glyph 49828 (\\N{HANGUL SYLLABLE SEU}) missing from current font.\n",
      "  figure.savefig(as_raw_bytes, format='png', transparent=True)\n",
      "C:\\Users\\kjm\\anaconda3\\lib\\site-packages\\sweetviz\\graph.py:33: UserWarning: Glyph 48176 (\\N{HANGUL SYLLABLE BAE}) missing from current font.\n",
      "  figure.savefig(as_raw_bytes, format='png', transparent=True)\n",
      "C:\\Users\\kjm\\anaconda3\\lib\\site-packages\\sweetviz\\graph.py:33: UserWarning: Glyph 52636 (\\N{HANGUL SYLLABLE CUL}) missing from current font.\n",
      "  figure.savefig(as_raw_bytes, format='png', transparent=True)\n",
      "C:\\Users\\kjm\\anaconda3\\lib\\site-packages\\sweetviz\\graph.py:33: UserWarning: Glyph 47049 (\\N{HANGUL SYLLABLE RYANG}) missing from current font.\n",
      "  figure.savefig(as_raw_bytes, format='png', transparent=True)\n",
      "C:\\Users\\kjm\\anaconda3\\lib\\site-packages\\sweetviz\\graph.py:33: UserWarning: Glyph 50640 (\\N{HANGUL SYLLABLE E}) missing from current font.\n",
      "  figure.savefig(as_raw_bytes, format='png', transparent=True)\n",
      "C:\\Users\\kjm\\anaconda3\\lib\\site-packages\\sweetviz\\graph.py:33: UserWarning: Glyph 45320 (\\N{HANGUL SYLLABLE NEO}) missing from current font.\n",
      "  figure.savefig(as_raw_bytes, format='png', transparent=True)\n",
      "C:\\Users\\kjm\\anaconda3\\lib\\site-packages\\sweetviz\\graph.py:33: UserWarning: Glyph 51648 (\\N{HANGUL SYLLABLE JI}) missing from current font.\n",
      "  figure.savefig(as_raw_bytes, format='png', transparent=True)\n",
      "C:\\Users\\kjm\\anaconda3\\lib\\site-packages\\sweetviz\\graph.py:33: UserWarning: Glyph 49324 (\\N{HANGUL SYLLABLE SA}) missing from current font.\n",
      "  figure.savefig(as_raw_bytes, format='png', transparent=True)\n",
      "C:\\Users\\kjm\\anaconda3\\lib\\site-packages\\sweetviz\\graph.py:33: UserWarning: Glyph 50857 (\\N{HANGUL SYLLABLE YONG}) missing from current font.\n",
      "  figure.savefig(as_raw_bytes, format='png', transparent=True)\n"
     ]
    },
    {
     "name": "stdout",
     "output_type": "stream",
     "text": [
      "\n",
      "Report ./sweetviz_Compare.html was generated! NOTEBOOK/COLAB USERS: the web browser MAY not pop up, regardless, the report IS saved in your notebook/colab files.\n"
     ]
    }
   ],
   "source": [
    "report = sv.analyze(esg)\n",
    "report.show_html('./sweetviz_Compare.html')"
   ]
  },
  {
   "cell_type": "code",
   "execution_count": 18,
   "metadata": {},
   "outputs": [],
   "source": [
    "g = data_2.iloc[:,[33,34,35,36,37,38,39,40,41,42,43,44,45,46,47,48]]"
   ]
  },
  {
   "cell_type": "code",
   "execution_count": 19,
   "metadata": {},
   "outputs": [
    {
     "name": "stdout",
     "output_type": "stream",
     "text": [
      "<class 'pandas.core.frame.DataFrame'>\n",
      "RangeIndex: 2500 entries, 0 to 2499\n",
      "Data columns (total 16 columns):\n",
      " #   Column   Non-Null Count  Dtype  \n",
      "---  ------   --------------  -----  \n",
      " 0   통근버스운행   1735 non-null   float64\n",
      " 1   본인학자금    1735 non-null   float64\n",
      " 2   복지카드     1736 non-null   float64\n",
      " 3   업무활동비    1736 non-null   float64\n",
      " 4   자격증수당    1736 non-null   float64\n",
      " 5   위험수당     1736 non-null   float64\n",
      " 6   사대보험     1736 non-null   float64\n",
      " 7   워크샵      1736 non-null   float64\n",
      " 8   신입사원교육   1736 non-null   float64\n",
      " 9   직무향상교육   1736 non-null   float64\n",
      " 10  리더십교육    1736 non-null   float64\n",
      " 11  해외연수지원   1736 non-null   float64\n",
      " 12  도서비지원    1736 non-null   float64\n",
      " 13  외국어교육지원  1736 non-null   float64\n",
      " 14  자격증취득지원  1736 non-null   float64\n",
      " 15  총개수      1736 non-null   float64\n",
      "dtypes: float64(16)\n",
      "memory usage: 312.6 KB\n"
     ]
    }
   ],
   "source": [
    "g.info()"
   ]
  },
  {
   "cell_type": "code",
   "execution_count": 20,
   "metadata": {},
   "outputs": [
    {
     "data": {
      "application/vnd.jupyter.widget-view+json": {
       "model_id": "c3f8b46f0cd9400b811d96ec07e42350",
       "version_major": 2,
       "version_minor": 0
      },
      "text/plain": [
       "HBox(children=(HTML(value=''), FloatProgress(value=0.0, layout=Layout(flex='2'), max=17.0), HTML(value='')), l…"
      ]
     },
     "metadata": {},
     "output_type": "display_data"
    },
    {
     "name": "stderr",
     "output_type": "stream",
     "text": [
      "C:\\Users\\kjm\\anaconda3\\lib\\site-packages\\sweetviz\\graph.py:33: UserWarning: Glyph 53685 (\\N{HANGUL SYLLABLE TONG}) missing from current font.\n",
      "  figure.savefig(as_raw_bytes, format='png', transparent=True)\n",
      "C:\\Users\\kjm\\anaconda3\\lib\\site-packages\\sweetviz\\graph.py:33: UserWarning: Glyph 44540 (\\N{HANGUL SYLLABLE GEUN}) missing from current font.\n",
      "  figure.savefig(as_raw_bytes, format='png', transparent=True)\n",
      "C:\\Users\\kjm\\anaconda3\\lib\\site-packages\\sweetviz\\graph.py:33: UserWarning: Glyph 48260 (\\N{HANGUL SYLLABLE BEO}) missing from current font.\n",
      "  figure.savefig(as_raw_bytes, format='png', transparent=True)\n",
      "C:\\Users\\kjm\\anaconda3\\lib\\site-packages\\sweetviz\\graph.py:33: UserWarning: Glyph 49828 (\\N{HANGUL SYLLABLE SEU}) missing from current font.\n",
      "  figure.savefig(as_raw_bytes, format='png', transparent=True)\n",
      "C:\\Users\\kjm\\anaconda3\\lib\\site-packages\\sweetviz\\graph.py:33: UserWarning: Glyph 50868 (\\N{HANGUL SYLLABLE UN}) missing from current font.\n",
      "  figure.savefig(as_raw_bytes, format='png', transparent=True)\n",
      "C:\\Users\\kjm\\anaconda3\\lib\\site-packages\\sweetviz\\graph.py:33: UserWarning: Glyph 54665 (\\N{HANGUL SYLLABLE HAENG}) missing from current font.\n",
      "  figure.savefig(as_raw_bytes, format='png', transparent=True)\n",
      "C:\\Users\\kjm\\anaconda3\\lib\\site-packages\\sweetviz\\graph.py:33: UserWarning: Glyph 48376 (\\N{HANGUL SYLLABLE BON}) missing from current font.\n",
      "  figure.savefig(as_raw_bytes, format='png', transparent=True)\n",
      "C:\\Users\\kjm\\anaconda3\\lib\\site-packages\\sweetviz\\graph.py:33: UserWarning: Glyph 51064 (\\N{HANGUL SYLLABLE IN}) missing from current font.\n",
      "  figure.savefig(as_raw_bytes, format='png', transparent=True)\n",
      "C:\\Users\\kjm\\anaconda3\\lib\\site-packages\\sweetviz\\graph.py:33: UserWarning: Glyph 54617 (\\N{HANGUL SYLLABLE HAG}) missing from current font.\n",
      "  figure.savefig(as_raw_bytes, format='png', transparent=True)\n",
      "C:\\Users\\kjm\\anaconda3\\lib\\site-packages\\sweetviz\\graph.py:33: UserWarning: Glyph 51088 (\\N{HANGUL SYLLABLE JA}) missing from current font.\n",
      "  figure.savefig(as_raw_bytes, format='png', transparent=True)\n",
      "C:\\Users\\kjm\\anaconda3\\lib\\site-packages\\sweetviz\\graph.py:33: UserWarning: Glyph 44552 (\\N{HANGUL SYLLABLE GEUM}) missing from current font.\n",
      "  figure.savefig(as_raw_bytes, format='png', transparent=True)\n",
      "C:\\Users\\kjm\\anaconda3\\lib\\site-packages\\sweetviz\\graph.py:33: UserWarning: Glyph 48373 (\\N{HANGUL SYLLABLE BOG}) missing from current font.\n",
      "  figure.savefig(as_raw_bytes, format='png', transparent=True)\n",
      "C:\\Users\\kjm\\anaconda3\\lib\\site-packages\\sweetviz\\graph.py:33: UserWarning: Glyph 51648 (\\N{HANGUL SYLLABLE JI}) missing from current font.\n",
      "  figure.savefig(as_raw_bytes, format='png', transparent=True)\n",
      "C:\\Users\\kjm\\anaconda3\\lib\\site-packages\\sweetviz\\graph.py:33: UserWarning: Glyph 52852 (\\N{HANGUL SYLLABLE KA}) missing from current font.\n",
      "  figure.savefig(as_raw_bytes, format='png', transparent=True)\n",
      "C:\\Users\\kjm\\anaconda3\\lib\\site-packages\\sweetviz\\graph.py:33: UserWarning: Glyph 46300 (\\N{HANGUL SYLLABLE DEU}) missing from current font.\n",
      "  figure.savefig(as_raw_bytes, format='png', transparent=True)\n",
      "C:\\Users\\kjm\\anaconda3\\lib\\site-packages\\sweetviz\\graph.py:33: UserWarning: Glyph 50629 (\\N{HANGUL SYLLABLE EOB}) missing from current font.\n",
      "  figure.savefig(as_raw_bytes, format='png', transparent=True)\n",
      "C:\\Users\\kjm\\anaconda3\\lib\\site-packages\\sweetviz\\graph.py:33: UserWarning: Glyph 47924 (\\N{HANGUL SYLLABLE MU}) missing from current font.\n",
      "  figure.savefig(as_raw_bytes, format='png', transparent=True)\n",
      "C:\\Users\\kjm\\anaconda3\\lib\\site-packages\\sweetviz\\graph.py:33: UserWarning: Glyph 54876 (\\N{HANGUL SYLLABLE HWAL}) missing from current font.\n",
      "  figure.savefig(as_raw_bytes, format='png', transparent=True)\n",
      "C:\\Users\\kjm\\anaconda3\\lib\\site-packages\\sweetviz\\graph.py:33: UserWarning: Glyph 46041 (\\N{HANGUL SYLLABLE DONG}) missing from current font.\n",
      "  figure.savefig(as_raw_bytes, format='png', transparent=True)\n",
      "C:\\Users\\kjm\\anaconda3\\lib\\site-packages\\sweetviz\\graph.py:33: UserWarning: Glyph 48708 (\\N{HANGUL SYLLABLE BI}) missing from current font.\n",
      "  figure.savefig(as_raw_bytes, format='png', transparent=True)\n",
      "C:\\Users\\kjm\\anaconda3\\lib\\site-packages\\sweetviz\\graph.py:33: UserWarning: Glyph 44201 (\\N{HANGUL SYLLABLE GYEOG}) missing from current font.\n",
      "  figure.savefig(as_raw_bytes, format='png', transparent=True)\n",
      "C:\\Users\\kjm\\anaconda3\\lib\\site-packages\\sweetviz\\graph.py:33: UserWarning: Glyph 51613 (\\N{HANGUL SYLLABLE JEUNG}) missing from current font.\n",
      "  figure.savefig(as_raw_bytes, format='png', transparent=True)\n",
      "C:\\Users\\kjm\\anaconda3\\lib\\site-packages\\sweetviz\\graph.py:33: UserWarning: Glyph 49688 (\\N{HANGUL SYLLABLE SU}) missing from current font.\n",
      "  figure.savefig(as_raw_bytes, format='png', transparent=True)\n",
      "C:\\Users\\kjm\\anaconda3\\lib\\site-packages\\sweetviz\\graph.py:33: UserWarning: Glyph 45817 (\\N{HANGUL SYLLABLE DANG}) missing from current font.\n",
      "  figure.savefig(as_raw_bytes, format='png', transparent=True)\n",
      "C:\\Users\\kjm\\anaconda3\\lib\\site-packages\\sweetviz\\graph.py:33: UserWarning: Glyph 50948 (\\N{HANGUL SYLLABLE WI}) missing from current font.\n",
      "  figure.savefig(as_raw_bytes, format='png', transparent=True)\n",
      "C:\\Users\\kjm\\anaconda3\\lib\\site-packages\\sweetviz\\graph.py:33: UserWarning: Glyph 54744 (\\N{HANGUL SYLLABLE HEOM}) missing from current font.\n",
      "  figure.savefig(as_raw_bytes, format='png', transparent=True)\n",
      "C:\\Users\\kjm\\anaconda3\\lib\\site-packages\\sweetviz\\graph.py:33: UserWarning: Glyph 49324 (\\N{HANGUL SYLLABLE SA}) missing from current font.\n",
      "  figure.savefig(as_raw_bytes, format='png', transparent=True)\n",
      "C:\\Users\\kjm\\anaconda3\\lib\\site-packages\\sweetviz\\graph.py:33: UserWarning: Glyph 45824 (\\N{HANGUL SYLLABLE DAE}) missing from current font.\n",
      "  figure.savefig(as_raw_bytes, format='png', transparent=True)\n",
      "C:\\Users\\kjm\\anaconda3\\lib\\site-packages\\sweetviz\\graph.py:33: UserWarning: Glyph 48372 (\\N{HANGUL SYLLABLE BO}) missing from current font.\n",
      "  figure.savefig(as_raw_bytes, format='png', transparent=True)\n",
      "C:\\Users\\kjm\\anaconda3\\lib\\site-packages\\sweetviz\\graph.py:33: UserWarning: Glyph 50892 (\\N{HANGUL SYLLABLE WEO}) missing from current font.\n",
      "  figure.savefig(as_raw_bytes, format='png', transparent=True)\n",
      "C:\\Users\\kjm\\anaconda3\\lib\\site-packages\\sweetviz\\graph.py:33: UserWarning: Glyph 53356 (\\N{HANGUL SYLLABLE KEU}) missing from current font.\n",
      "  figure.savefig(as_raw_bytes, format='png', transparent=True)\n",
      "C:\\Users\\kjm\\anaconda3\\lib\\site-packages\\sweetviz\\graph.py:33: UserWarning: Glyph 49397 (\\N{HANGUL SYLLABLE SYAB}) missing from current font.\n",
      "  figure.savefig(as_raw_bytes, format='png', transparent=True)\n",
      "C:\\Users\\kjm\\anaconda3\\lib\\site-packages\\sweetviz\\graph.py:33: UserWarning: Glyph 49888 (\\N{HANGUL SYLLABLE SIN}) missing from current font.\n",
      "  figure.savefig(as_raw_bytes, format='png', transparent=True)\n",
      "C:\\Users\\kjm\\anaconda3\\lib\\site-packages\\sweetviz\\graph.py:33: UserWarning: Glyph 51077 (\\N{HANGUL SYLLABLE IB}) missing from current font.\n",
      "  figure.savefig(as_raw_bytes, format='png', transparent=True)\n",
      "C:\\Users\\kjm\\anaconda3\\lib\\site-packages\\sweetviz\\graph.py:33: UserWarning: Glyph 50896 (\\N{HANGUL SYLLABLE WEON}) missing from current font.\n",
      "  figure.savefig(as_raw_bytes, format='png', transparent=True)\n",
      "C:\\Users\\kjm\\anaconda3\\lib\\site-packages\\sweetviz\\graph.py:33: UserWarning: Glyph 44368 (\\N{HANGUL SYLLABLE GYO}) missing from current font.\n",
      "  figure.savefig(as_raw_bytes, format='png', transparent=True)\n",
      "C:\\Users\\kjm\\anaconda3\\lib\\site-packages\\sweetviz\\graph.py:33: UserWarning: Glyph 50977 (\\N{HANGUL SYLLABLE YUG}) missing from current font.\n",
      "  figure.savefig(as_raw_bytes, format='png', transparent=True)\n",
      "C:\\Users\\kjm\\anaconda3\\lib\\site-packages\\sweetviz\\graph.py:33: UserWarning: Glyph 51649 (\\N{HANGUL SYLLABLE JIG}) missing from current font.\n",
      "  figure.savefig(as_raw_bytes, format='png', transparent=True)\n",
      "C:\\Users\\kjm\\anaconda3\\lib\\site-packages\\sweetviz\\graph.py:33: UserWarning: Glyph 54693 (\\N{HANGUL SYLLABLE HYANG}) missing from current font.\n",
      "  figure.savefig(as_raw_bytes, format='png', transparent=True)\n",
      "C:\\Users\\kjm\\anaconda3\\lib\\site-packages\\sweetviz\\graph.py:33: UserWarning: Glyph 49345 (\\N{HANGUL SYLLABLE SANG}) missing from current font.\n",
      "  figure.savefig(as_raw_bytes, format='png', transparent=True)\n",
      "C:\\Users\\kjm\\anaconda3\\lib\\site-packages\\sweetviz\\graph.py:33: UserWarning: Glyph 47532 (\\N{HANGUL SYLLABLE RI}) missing from current font.\n",
      "  figure.savefig(as_raw_bytes, format='png', transparent=True)\n",
      "C:\\Users\\kjm\\anaconda3\\lib\\site-packages\\sweetviz\\graph.py:33: UserWarning: Glyph 45908 (\\N{HANGUL SYLLABLE DEO}) missing from current font.\n",
      "  figure.savefig(as_raw_bytes, format='png', transparent=True)\n",
      "C:\\Users\\kjm\\anaconda3\\lib\\site-packages\\sweetviz\\graph.py:33: UserWarning: Glyph 49901 (\\N{HANGUL SYLLABLE SIB}) missing from current font.\n",
      "  figure.savefig(as_raw_bytes, format='png', transparent=True)\n",
      "C:\\Users\\kjm\\anaconda3\\lib\\site-packages\\sweetviz\\graph.py:33: UserWarning: Glyph 54644 (\\N{HANGUL SYLLABLE HAE}) missing from current font.\n",
      "  figure.savefig(as_raw_bytes, format='png', transparent=True)\n",
      "C:\\Users\\kjm\\anaconda3\\lib\\site-packages\\sweetviz\\graph.py:33: UserWarning: Glyph 50808 (\\N{HANGUL SYLLABLE OE}) missing from current font.\n",
      "  figure.savefig(as_raw_bytes, format='png', transparent=True)\n",
      "C:\\Users\\kjm\\anaconda3\\lib\\site-packages\\sweetviz\\graph.py:33: UserWarning: Glyph 50672 (\\N{HANGUL SYLLABLE YEON}) missing from current font.\n",
      "  figure.savefig(as_raw_bytes, format='png', transparent=True)\n",
      "C:\\Users\\kjm\\anaconda3\\lib\\site-packages\\sweetviz\\graph.py:33: UserWarning: Glyph 46020 (\\N{HANGUL SYLLABLE DO}) missing from current font.\n",
      "  figure.savefig(as_raw_bytes, format='png', transparent=True)\n",
      "C:\\Users\\kjm\\anaconda3\\lib\\site-packages\\sweetviz\\graph.py:33: UserWarning: Glyph 49436 (\\N{HANGUL SYLLABLE SEO}) missing from current font.\n",
      "  figure.savefig(as_raw_bytes, format='png', transparent=True)\n",
      "C:\\Users\\kjm\\anaconda3\\lib\\site-packages\\sweetviz\\graph.py:33: UserWarning: Glyph 44397 (\\N{HANGUL SYLLABLE GUG}) missing from current font.\n",
      "  figure.savefig(as_raw_bytes, format='png', transparent=True)\n",
      "C:\\Users\\kjm\\anaconda3\\lib\\site-packages\\sweetviz\\graph.py:33: UserWarning: Glyph 50612 (\\N{HANGUL SYLLABLE EO}) missing from current font.\n",
      "  figure.savefig(as_raw_bytes, format='png', transparent=True)\n",
      "C:\\Users\\kjm\\anaconda3\\lib\\site-packages\\sweetviz\\graph.py:33: UserWarning: Glyph 52712 (\\N{HANGUL SYLLABLE CWI}) missing from current font.\n",
      "  figure.savefig(as_raw_bytes, format='png', transparent=True)\n",
      "C:\\Users\\kjm\\anaconda3\\lib\\site-packages\\sweetviz\\graph.py:33: UserWarning: Glyph 46301 (\\N{HANGUL SYLLABLE DEUG}) missing from current font.\n",
      "  figure.savefig(as_raw_bytes, format='png', transparent=True)\n",
      "C:\\Users\\kjm\\anaconda3\\lib\\site-packages\\sweetviz\\graph.py:33: UserWarning: Glyph 52509 (\\N{HANGUL SYLLABLE CONG}) missing from current font.\n",
      "  figure.savefig(as_raw_bytes, format='png', transparent=True)\n",
      "C:\\Users\\kjm\\anaconda3\\lib\\site-packages\\sweetviz\\graph.py:33: UserWarning: Glyph 44060 (\\N{HANGUL SYLLABLE GAE}) missing from current font.\n",
      "  figure.savefig(as_raw_bytes, format='png', transparent=True)\n"
     ]
    },
    {
     "name": "stdout",
     "output_type": "stream",
     "text": [
      "\n",
      "Report ./sweetviz_Compare.html was generated! NOTEBOOK/COLAB USERS: the web browser MAY not pop up, regardless, the report IS saved in your notebook/colab files.\n"
     ]
    }
   ],
   "source": [
    "report = sv.analyze(g)\n",
    "report.show_html('./sweetviz_Compare.html')"
   ]
  },
  {
   "cell_type": "code",
   "execution_count": 14,
   "metadata": {},
   "outputs": [
    {
     "name": "stdout",
     "output_type": "stream",
     "text": [
      "<class 'pandas.core.frame.DataFrame'>\n",
      "RangeIndex: 2500 entries, 0 to 2499\n",
      "Data columns (total 4 columns):\n",
      " #   Column  Non-Null Count  Dtype \n",
      "---  ------  --------------  ----- \n",
      " 0   ESG등급   955 non-null    object\n",
      " 1   환경      955 non-null    object\n",
      " 2   사회      955 non-null    object\n",
      " 3   지배구조    955 non-null    object\n",
      "dtypes: object(4)\n",
      "memory usage: 78.2+ KB\n"
     ]
    }
   ],
   "source": [
    "esg.info()"
   ]
  },
  {
   "cell_type": "code",
   "execution_count": 15,
   "metadata": {},
   "outputs": [],
   "source": [
    "ene = data_2.iloc[:,[15,16,51]]"
   ]
  },
  {
   "cell_type": "code",
   "execution_count": 16,
   "metadata": {},
   "outputs": [
    {
     "data": {
      "application/vnd.jupyter.widget-view+json": {
       "model_id": "f5af975c52574debb0b02f824f0d5b7c",
       "version_major": 2,
       "version_minor": 0
      },
      "text/plain": [
       "HBox(children=(HTML(value=''), FloatProgress(value=0.0, layout=Layout(flex='2'), max=4.0), HTML(value='')), la…"
      ]
     },
     "metadata": {},
     "output_type": "display_data"
    },
    {
     "name": "stderr",
     "output_type": "stream",
     "text": [
      "C:\\Users\\kjm\\anaconda3\\lib\\site-packages\\sweetviz\\graph.py:33: UserWarning: Glyph 50728 (\\N{HANGUL SYLLABLE ON}) missing from current font.\n",
      "  figure.savefig(as_raw_bytes, format='png', transparent=True)\n",
      "C:\\Users\\kjm\\anaconda3\\lib\\site-packages\\sweetviz\\graph.py:33: UserWarning: Glyph 49892 (\\N{HANGUL SYLLABLE SIL}) missing from current font.\n",
      "  figure.savefig(as_raw_bytes, format='png', transparent=True)\n",
      "C:\\Users\\kjm\\anaconda3\\lib\\site-packages\\sweetviz\\graph.py:33: UserWarning: Glyph 44032 (\\N{HANGUL SYLLABLE GA}) missing from current font.\n",
      "  figure.savefig(as_raw_bytes, format='png', transparent=True)\n",
      "C:\\Users\\kjm\\anaconda3\\lib\\site-packages\\sweetviz\\graph.py:33: UserWarning: Glyph 49828 (\\N{HANGUL SYLLABLE SEU}) missing from current font.\n",
      "  figure.savefig(as_raw_bytes, format='png', transparent=True)\n",
      "C:\\Users\\kjm\\anaconda3\\lib\\site-packages\\sweetviz\\graph.py:33: UserWarning: Glyph 48176 (\\N{HANGUL SYLLABLE BAE}) missing from current font.\n",
      "  figure.savefig(as_raw_bytes, format='png', transparent=True)\n",
      "C:\\Users\\kjm\\anaconda3\\lib\\site-packages\\sweetviz\\graph.py:33: UserWarning: Glyph 52636 (\\N{HANGUL SYLLABLE CUL}) missing from current font.\n",
      "  figure.savefig(as_raw_bytes, format='png', transparent=True)\n",
      "C:\\Users\\kjm\\anaconda3\\lib\\site-packages\\sweetviz\\graph.py:33: UserWarning: Glyph 47049 (\\N{HANGUL SYLLABLE RYANG}) missing from current font.\n",
      "  figure.savefig(as_raw_bytes, format='png', transparent=True)\n",
      "C:\\Users\\kjm\\anaconda3\\lib\\site-packages\\sweetviz\\graph.py:33: UserWarning: Glyph 50640 (\\N{HANGUL SYLLABLE E}) missing from current font.\n",
      "  figure.savefig(as_raw_bytes, format='png', transparent=True)\n",
      "C:\\Users\\kjm\\anaconda3\\lib\\site-packages\\sweetviz\\graph.py:33: UserWarning: Glyph 45320 (\\N{HANGUL SYLLABLE NEO}) missing from current font.\n",
      "  figure.savefig(as_raw_bytes, format='png', transparent=True)\n",
      "C:\\Users\\kjm\\anaconda3\\lib\\site-packages\\sweetviz\\graph.py:33: UserWarning: Glyph 51648 (\\N{HANGUL SYLLABLE JI}) missing from current font.\n",
      "  figure.savefig(as_raw_bytes, format='png', transparent=True)\n",
      "C:\\Users\\kjm\\anaconda3\\lib\\site-packages\\sweetviz\\graph.py:33: UserWarning: Glyph 49324 (\\N{HANGUL SYLLABLE SA}) missing from current font.\n",
      "  figure.savefig(as_raw_bytes, format='png', transparent=True)\n",
      "C:\\Users\\kjm\\anaconda3\\lib\\site-packages\\sweetviz\\graph.py:33: UserWarning: Glyph 50857 (\\N{HANGUL SYLLABLE YONG}) missing from current font.\n",
      "  figure.savefig(as_raw_bytes, format='png', transparent=True)\n",
      "C:\\Users\\kjm\\anaconda3\\lib\\site-packages\\sweetviz\\graph.py:33: UserWarning: Glyph 47588 (\\N{HANGUL SYLLABLE MAE}) missing from current font.\n",
      "  figure.savefig(as_raw_bytes, format='png', transparent=True)\n",
      "C:\\Users\\kjm\\anaconda3\\lib\\site-packages\\sweetviz\\graph.py:33: UserWarning: Glyph 50529 (\\N{HANGUL SYLLABLE AEG}) missing from current font.\n",
      "  figure.savefig(as_raw_bytes, format='png', transparent=True)\n"
     ]
    },
    {
     "name": "stdout",
     "output_type": "stream",
     "text": [
      "\n",
      "Report ./sweetviz_Compare.html was generated! NOTEBOOK/COLAB USERS: the web browser MAY not pop up, regardless, the report IS saved in your notebook/colab files.\n"
     ]
    }
   ],
   "source": [
    "report = sv.analyze(ene)\n",
    "report.show_html('./sweetviz_Compare.html')"
   ]
  },
  {
   "cell_type": "code",
   "execution_count": 17,
   "metadata": {},
   "outputs": [
    {
     "name": "stdout",
     "output_type": "stream",
     "text": [
      "<class 'pandas.core.frame.DataFrame'>\n",
      "RangeIndex: 2500 entries, 0 to 2499\n",
      "Data columns (total 3 columns):\n",
      " #   Column             Non-Null Count  Dtype  \n",
      "---  ------             --------------  -----  \n",
      " 0   온실가스 배출량(tCO2-eq)  326 non-null    float64\n",
      " 1   에너지 사용량(TJ)        326 non-null    float64\n",
      " 2   온실가스/매출액           475 non-null    float64\n",
      "dtypes: float64(3)\n",
      "memory usage: 58.7 KB\n"
     ]
    }
   ],
   "source": [
    "ene.info()"
   ]
  },
  {
   "cell_type": "code",
   "execution_count": null,
   "metadata": {},
   "outputs": [],
   "source": []
  },
  {
   "cell_type": "code",
   "execution_count": null,
   "metadata": {},
   "outputs": [],
   "source": []
  },
  {
   "cell_type": "code",
   "execution_count": null,
   "metadata": {},
   "outputs": [],
   "source": []
  },
  {
   "cell_type": "code",
   "execution_count": null,
   "metadata": {},
   "outputs": [],
   "source": []
  },
  {
   "cell_type": "code",
   "execution_count": null,
   "metadata": {},
   "outputs": [],
   "source": []
  },
  {
   "cell_type": "code",
   "execution_count": null,
   "metadata": {},
   "outputs": [],
   "source": []
  },
  {
   "cell_type": "code",
   "execution_count": null,
   "metadata": {},
   "outputs": [],
   "source": []
  },
  {
   "cell_type": "code",
   "execution_count": 3,
   "metadata": {},
   "outputs": [],
   "source": [
    "data_2['온실가스 배출량(tCO2-eq)'] = data_2['온실가스 배출량(tCO2-eq)'].fillna(data_2.groupby('업종')['온실가스 배출량(tCO2-eq)'].transform('mean'))\n",
    "data_2['에너지 사용량(TJ)'] = data_2['에너지 사용량(TJ)'].fillna(data_2.groupby('업종')['에너지 사용량(TJ)'].transform('mean'))\n",
    "data_2['자산총계'] = data_2['자산총계'].fillna(data_2.groupby('업종')['자산총계'].transform('mean'))\n",
    "data_2['총개수'] = data_2['총개수'].fillna(data_2.groupby('업종')['총개수'].transform('mean'))\n",
    "data_2['자본총계'] = data_2['자본총계'].fillna(data_2.groupby('업종')['자본총계'].transform('mean'))\n",
    "data_2['자본금'] = data_2['자본금'].fillna(data_2.groupby('업종')['자본금'].transform('mean'))\n",
    "data_2['매출액'] = data_2['매출액'].fillna(data_2.groupby('업종')['매출액'].transform('mean'))\n",
    "data_2['영업이익'] = data_2['영업이익'].fillna(data_2.groupby('업종')['영업이익'].transform('mean'))\n",
    "data_2['순이익'] = data_2['순이익'].fillna(data_2.groupby('업종')['순이익'].transform('mean'))\n",
    "data_2['시가총액'] = data_2['시가총액'].fillna(data_2.groupby('업종')['시가총액'].transform('mean'))\n",
    "data_2['온실가스/매출액'] = data_2['온실가스/매출액'].fillna(data_2.groupby('업종')['온실가스/매출액'].transform('mean'))\n",
    "data_2['기준가&종가 평균'] = data_2['기준가&종가 평균'].fillna(data_2.groupby('업종')['기준가&종가 평균'].transform('mean'))"
   ]
  },
  {
   "cell_type": "code",
   "execution_count": 4,
   "metadata": {},
   "outputs": [],
   "source": [
    "data_2['온실가스 배출량(tCO2-eq)'] = data_2['온실가스 배출량(tCO2-eq)'].fillna(data_2.groupby('업종 대분류')['온실가스 배출량(tCO2-eq)'].transform('mean'))\n",
    "data_2['에너지 사용량(TJ)'] = data_2['에너지 사용량(TJ)'].fillna(data_2.groupby('업종 대분류')['에너지 사용량(TJ)'].transform('mean'))\n",
    "data_2['자산총계'] = data_2['자산총계'].fillna(data_2.groupby('업종 대분류')['자산총계'].transform('mean'))\n",
    "data_2['총개수'] = data_2['총개수'].fillna(data_2.groupby('업종 대분류')['총개수'].transform('mean'))\n",
    "data_2['자본총계'] = data_2['자본총계'].fillna(data_2.groupby('업종 대분류')['자본총계'].transform('mean'))\n",
    "data_2['자본금'] = data_2['자본금'].fillna(data_2.groupby('업종 대분류')['자본금'].transform('mean'))\n",
    "data_2['매출액'] = data_2['매출액'].fillna(data_2.groupby('업종 대분류')['매출액'].transform('mean'))\n",
    "data_2['영업이익'] = data_2['영업이익'].fillna(data_2.groupby('업종 대분류')['영업이익'].transform('mean'))\n",
    "data_2['순이익'] = data_2['순이익'].fillna(data_2.groupby('업종 대분류')['순이익'].transform('mean'))\n",
    "data_2['시가총액'] = data_2['시가총액'].fillna(data_2.groupby('업종 대분류')['시가총액'].transform('mean'))\n",
    "data_2['온실가스/매출액'] = data_2['온실가스/매출액'].fillna(data_2.groupby('업종 대분류')['온실가스/매출액'].transform('mean'))\n",
    "data_2['기준가&종가 평균'] = data_2['기준가&종가 평균'].fillna(data_2.groupby('업종 대분류')['기준가&종가 평균'].transform('mean'))"
   ]
  },
  {
   "cell_type": "code",
   "execution_count": 6,
   "metadata": {},
   "outputs": [
    {
     "name": "stdout",
     "output_type": "stream",
     "text": [
      "<class 'pandas.core.frame.DataFrame'>\n",
      "RangeIndex: 2500 entries, 0 to 2499\n",
      "Data columns (total 52 columns):\n",
      " #   Column             Non-Null Count  Dtype  \n",
      "---  ------             --------------  -----  \n",
      " 0   회사명                2500 non-null   object \n",
      " 1   종목코드               2500 non-null   int64  \n",
      " 2   업종                 2500 non-null   object \n",
      " 3   상장일                2500 non-null   object \n",
      " 4   지역                 2500 non-null   object \n",
      " 5   영문 종목명             2500 non-null   object \n",
      " 6   시장구분               2500 non-null   object \n",
      " 7   상장주식수              2500 non-null   int64  \n",
      " 8   ESG등급              955 non-null    object \n",
      " 9   환경                 955 non-null    object \n",
      " 10  사회                 955 non-null    object \n",
      " 11  지배구조               955 non-null    object \n",
      " 12  등락률                2380 non-null   float64\n",
      " 13  거래량_x              2380 non-null   float64\n",
      " 14  거래대금_x             2380 non-null   float64\n",
      " 15  온실가스 배출량(tCO2-eq)  2487 non-null   float64\n",
      " 16  에너지 사용량(TJ)        2487 non-null   float64\n",
      " 17  corp_code          231 non-null    float64\n",
      " 18  stock_name         231 non-null    object \n",
      " 19  corp_cls           231 non-null    object \n",
      " 20  induty_code        231 non-null    float64\n",
      " 21  est_dt             231 non-null    float64\n",
      " 22  2021년 NCSI         60 non-null     float64\n",
      " 23  자산총계               2500 non-null   float64\n",
      " 24  자본금                2500 non-null   float64\n",
      " 25  자본총계               2500 non-null   float64\n",
      " 26  매출액                2500 non-null   float64\n",
      " 27  영업이익               2500 non-null   float64\n",
      " 28  순이익                2500 non-null   float64\n",
      " 29  종가                 2479 non-null   float64\n",
      " 30  시가총액               2500 non-null   float64\n",
      " 31  거래량_y              2479 non-null   float64\n",
      " 32  거래대금_y             2479 non-null   float64\n",
      " 33  통근버스운행             1735 non-null   float64\n",
      " 34  본인학자금              1735 non-null   float64\n",
      " 35  복지카드               1736 non-null   float64\n",
      " 36  업무활동비              1736 non-null   float64\n",
      " 37  자격증수당              1736 non-null   float64\n",
      " 38  위험수당               1736 non-null   float64\n",
      " 39  사대보험               1736 non-null   float64\n",
      " 40  워크샵                1736 non-null   float64\n",
      " 41  신입사원교육             1736 non-null   float64\n",
      " 42  직무향상교육             1736 non-null   float64\n",
      " 43  리더십교육              1736 non-null   float64\n",
      " 44  해외연수지원             1736 non-null   float64\n",
      " 45  도서비지원              1736 non-null   float64\n",
      " 46  외국어교육지원            1736 non-null   float64\n",
      " 47  자격증취득지원            1736 non-null   float64\n",
      " 48  총개수                2500 non-null   float64\n",
      " 49  기준가&종가 평균          2500 non-null   float64\n",
      " 50  업종 대분류             2500 non-null   object \n",
      " 51  온실가스/매출액           2500 non-null   float64\n",
      "dtypes: float64(37), int64(2), object(13)\n",
      "memory usage: 1015.8+ KB\n"
     ]
    }
   ],
   "source": [
    "data_2.info()"
   ]
  },
  {
   "cell_type": "code",
   "execution_count": 11,
   "metadata": {},
   "outputs": [],
   "source": [
    "data_2['상장주식수'] = data_2['상장주식수'].astype(float)"
   ]
  },
  {
   "cell_type": "code",
   "execution_count": 12,
   "metadata": {},
   "outputs": [],
   "source": [
    "data_2['종목코드'] = data_2['종목코드'].astype(float)"
   ]
  },
  {
   "cell_type": "code",
   "execution_count": 13,
   "metadata": {},
   "outputs": [],
   "source": [
    "float_columns = data_2.select_dtypes(\"float64\").columns\n",
    "float_df = data_2[float_columns]\n",
    "\n",
    "object_columns = data_2.select_dtypes(\"object\").columns\n",
    "object_df = data_2[object_columns]\n",
    "object_df = object_df.fillna('N')"
   ]
  },
  {
   "cell_type": "code",
   "execution_count": 14,
   "metadata": {},
   "outputs": [],
   "source": [
    "data_3 = pd.concat([object_df, float_df], axis = 1)"
   ]
  },
  {
   "cell_type": "code",
   "execution_count": 15,
   "metadata": {},
   "outputs": [
    {
     "data": {
      "text/plain": [
       "Index(['회사명', '업종', '상장일', '지역', '영문 종목명', '시장구분', 'ESG등급', '환경', '사회', '지배구조',\n",
       "       'stock_name', 'corp_cls', '업종 대분류', '종목코드', '상장주식수', '등락률', '거래량_x',\n",
       "       '거래대금_x', '온실가스 배출량(tCO2-eq)', '에너지 사용량(TJ)', 'corp_code',\n",
       "       'induty_code', 'est_dt', '2021년 NCSI', '자산총계', '자본금', '자본총계', '매출액',\n",
       "       '영업이익', '순이익', '종가', '시가총액', '거래량_y', '거래대금_y', '통근버스운행', '본인학자금',\n",
       "       '복지카드', '업무활동비', '자격증수당', '위험수당', '사대보험', '워크샵', '신입사원교육', '직무향상교육',\n",
       "       '리더십교육', '해외연수지원', '도서비지원', '외국어교육지원', '자격증취득지원', '총개수', '기준가&종가 평균',\n",
       "       '온실가스/매출액'],\n",
       "      dtype='object')"
      ]
     },
     "execution_count": 15,
     "metadata": {},
     "output_type": "execute_result"
    }
   ],
   "source": [
    "data_3.columns"
   ]
  },
  {
   "cell_type": "code",
   "execution_count": 16,
   "metadata": {},
   "outputs": [],
   "source": [
    "data_4 = data_3[data_3['ESG등급'] != 'N']\n",
    "data_4.reset_index(inplace=True)\n",
    "data_4 = data_4[[ '회사명', '업종', '상장일', '지역', '시장구분', 'ESG등급', '환경', '사회', '지배구조',\n",
    "       '종목코드', '상장주식수', '등락률', '거래량_x', '거래대금_x', '온실가스 배출량(tCO2-eq)',\n",
    "       '에너지 사용량(TJ)', '2021년 NCSI', '자산총계', '자본금', '자본총계', '매출액', '영업이익',\n",
    "       '순이익', '종가', '시가총액', '거래량_y', '거래대금_y', '기준가&종가 평균', '온실가스/매출액',\n",
    "       '총개수']]"
   ]
  },
  {
   "cell_type": "code",
   "execution_count": null,
   "metadata": {},
   "outputs": [],
   "source": []
  },
  {
   "cell_type": "code",
   "execution_count": null,
   "metadata": {},
   "outputs": [],
   "source": []
  },
  {
   "cell_type": "code",
   "execution_count": 5,
   "metadata": {},
   "outputs": [
    {
     "data": {
      "text/plain": [
       "\"\\nkp = KPrototypes(n_clusters=6, init='cao', n_init=1, verbose=True)\\nkp.fit_predict(data_5, categorical=[0,1,2,3,4,5,6,7,8,9,10,11,12,13,14,15,16,17,18])\\ndata_4 = data_4[['회사명', '업종', '지역', '시장구분', 'ESG등급', '환경', '사회', '지배구조', '종목코드',\\n       '상장주식수', '등락률', '거래량_x', '거래대금_x', '온실가스 배출량(tCO2-eq)', '에너지 사용량(TJ)',\\n        '자산총계', '자본금', '자본총계', '매출액', '영업이익', '순이익', '종가', '시가총액',\\n       '거래량_y', '거래대금_y', '기준가&종가 평균', '온실가스/매출액', '총개수', '상장기간']]\\n\""
      ]
     },
     "execution_count": 5,
     "metadata": {},
     "output_type": "execute_result"
    }
   ],
   "source": [
    "'''\n",
    "kp = KPrototypes(n_clusters=6, init='cao', n_init=1, verbose=True)\n",
    "kp.fit_predict(data_5, categorical=[0,1,2,3,4,5,6,7,8,9,10,11,12,13,14,15,16,17,18])\n",
    "data_4 = data_4[['회사명', '업종', '지역', '시장구분', 'ESG등급', '환경', '사회', '지배구조', '종목코드',\n",
    "       '상장주식수', '등락률', '거래량_x', '거래대금_x', '온실가스 배출량(tCO2-eq)', '에너지 사용량(TJ)',\n",
    "        '자산총계', '자본금', '자본총계', '매출액', '영업이익', '순이익', '종가', '시가총액',\n",
    "       '거래량_y', '거래대금_y', '기준가&종가 평균', '온실가스/매출액', '총개수', '상장기간']]\n",
    "'''"
   ]
  },
  {
   "cell_type": "code",
   "execution_count": 6,
   "metadata": {},
   "outputs": [
    {
     "ename": "NameError",
     "evalue": "name 'data_4' is not defined",
     "output_type": "error",
     "traceback": [
      "\u001b[1;31m---------------------------------------------------------------------------\u001b[0m",
      "\u001b[1;31mNameError\u001b[0m                                 Traceback (most recent call last)",
      "\u001b[1;32m<ipython-input-6-4ec41e4574b9>\u001b[0m in \u001b[0;36m<module>\u001b[1;34m\u001b[0m\n\u001b[1;32m----> 1\u001b[1;33m \u001b[0mdata_4_object\u001b[0m \u001b[1;33m=\u001b[0m \u001b[0mdata_4\u001b[0m\u001b[1;33m[\u001b[0m\u001b[1;33m[\u001b[0m\u001b[1;34m'회사명'\u001b[0m\u001b[1;33m,\u001b[0m \u001b[1;34m'업종'\u001b[0m\u001b[1;33m,\u001b[0m \u001b[1;34m'지역'\u001b[0m\u001b[1;33m,\u001b[0m \u001b[1;34m'시장구분'\u001b[0m\u001b[1;33m,\u001b[0m \u001b[1;34m'ESG등급'\u001b[0m\u001b[1;33m,\u001b[0m \u001b[1;34m'환경'\u001b[0m\u001b[1;33m,\u001b[0m \u001b[1;34m'사회'\u001b[0m\u001b[1;33m,\u001b[0m \u001b[1;34m'지배구조'\u001b[0m\u001b[1;33m]\u001b[0m\u001b[1;33m]\u001b[0m\u001b[1;33m\u001b[0m\u001b[1;33m\u001b[0m\u001b[0m\n\u001b[0m",
      "\u001b[1;31mNameError\u001b[0m: name 'data_4' is not defined"
     ]
    }
   ],
   "source": [
    "data_4_object = data_4[['회사명', '업종', '지역', '시장구분', 'ESG등급', '환경', '사회', '지배구조']]"
   ]
  },
  {
   "cell_type": "code",
   "execution_count": null,
   "metadata": {},
   "outputs": [],
   "source": []
  },
  {
   "cell_type": "code",
   "execution_count": null,
   "metadata": {},
   "outputs": [],
   "source": []
  },
  {
   "cell_type": "code",
   "execution_count": null,
   "metadata": {},
   "outputs": [],
   "source": []
  },
  {
   "cell_type": "code",
   "execution_count": null,
   "metadata": {},
   "outputs": [],
   "source": []
  },
  {
   "cell_type": "code",
   "execution_count": null,
   "metadata": {},
   "outputs": [],
   "source": []
  },
  {
   "cell_type": "code",
   "execution_count": null,
   "metadata": {},
   "outputs": [],
   "source": []
  },
  {
   "cell_type": "code",
   "execution_count": null,
   "metadata": {},
   "outputs": [],
   "source": []
  },
  {
   "cell_type": "code",
   "execution_count": null,
   "metadata": {},
   "outputs": [],
   "source": []
  },
  {
   "cell_type": "code",
   "execution_count": null,
   "metadata": {},
   "outputs": [],
   "source": []
  },
  {
   "cell_type": "code",
   "execution_count": null,
   "metadata": {},
   "outputs": [],
   "source": []
  },
  {
   "cell_type": "code",
   "execution_count": null,
   "metadata": {},
   "outputs": [],
   "source": []
  },
  {
   "cell_type": "code",
   "execution_count": null,
   "metadata": {},
   "outputs": [],
   "source": []
  },
  {
   "cell_type": "code",
   "execution_count": null,
   "metadata": {},
   "outputs": [],
   "source": []
  },
  {
   "cell_type": "code",
   "execution_count": null,
   "metadata": {},
   "outputs": [],
   "source": []
  },
  {
   "cell_type": "code",
   "execution_count": null,
   "metadata": {},
   "outputs": [],
   "source": []
  },
  {
   "cell_type": "code",
   "execution_count": null,
   "metadata": {},
   "outputs": [],
   "source": []
  },
  {
   "cell_type": "code",
   "execution_count": null,
   "metadata": {},
   "outputs": [],
   "source": []
  },
  {
   "cell_type": "code",
   "execution_count": null,
   "metadata": {},
   "outputs": [],
   "source": []
  },
  {
   "cell_type": "code",
   "execution_count": null,
   "metadata": {},
   "outputs": [],
   "source": []
  },
  {
   "cell_type": "code",
   "execution_count": null,
   "metadata": {},
   "outputs": [],
   "source": []
  },
  {
   "cell_type": "code",
   "execution_count": null,
   "metadata": {},
   "outputs": [],
   "source": []
  },
  {
   "cell_type": "code",
   "execution_count": null,
   "metadata": {},
   "outputs": [],
   "source": []
  },
  {
   "cell_type": "code",
   "execution_count": null,
   "metadata": {},
   "outputs": [],
   "source": []
  },
  {
   "cell_type": "code",
   "execution_count": null,
   "metadata": {},
   "outputs": [],
   "source": []
  },
  {
   "cell_type": "code",
   "execution_count": null,
   "metadata": {},
   "outputs": [],
   "source": []
  },
  {
   "cell_type": "code",
   "execution_count": null,
   "metadata": {},
   "outputs": [],
   "source": []
  },
  {
   "cell_type": "code",
   "execution_count": null,
   "metadata": {},
   "outputs": [],
   "source": []
  },
  {
   "cell_type": "code",
   "execution_count": null,
   "metadata": {},
   "outputs": [],
   "source": []
  },
  {
   "cell_type": "code",
   "execution_count": null,
   "metadata": {},
   "outputs": [],
   "source": []
  },
  {
   "cell_type": "code",
   "execution_count": null,
   "metadata": {},
   "outputs": [],
   "source": []
  },
  {
   "cell_type": "code",
   "execution_count": null,
   "metadata": {},
   "outputs": [],
   "source": []
  },
  {
   "cell_type": "code",
   "execution_count": 17,
   "metadata": {},
   "outputs": [],
   "source": [
    "esg = pd.read_csv('ddd.csv', encoding='CP949')"
   ]
  },
  {
   "cell_type": "code",
   "execution_count": 6,
   "metadata": {},
   "outputs": [],
   "source": [
    "esg = pd.read_csv('ddd.csv', encoding='CP949')"
   ]
  },
  {
   "cell_type": "code",
   "execution_count": 18,
   "metadata": {
    "scrolled": true
   },
   "outputs": [
    {
     "name": "stdout",
     "output_type": "stream",
     "text": [
      "<class 'pandas.core.frame.DataFrame'>\n",
      "RangeIndex: 2500 entries, 0 to 2499\n",
      "Data columns (total 52 columns):\n",
      " #   Column             Non-Null Count  Dtype  \n",
      "---  ------             --------------  -----  \n",
      " 0   회사명                2500 non-null   object \n",
      " 1   종목코드               2500 non-null   int64  \n",
      " 2   업종                 2500 non-null   object \n",
      " 3   상장일                2500 non-null   object \n",
      " 4   지역                 2500 non-null   object \n",
      " 5   영문 종목명             2500 non-null   object \n",
      " 6   시장구분               2500 non-null   object \n",
      " 7   상장주식수              2500 non-null   int64  \n",
      " 8   ESG등급              955 non-null    object \n",
      " 9   환경                 955 non-null    object \n",
      " 10  사회                 955 non-null    object \n",
      " 11  지배구조               955 non-null    object \n",
      " 12  등락률                2380 non-null   float64\n",
      " 13  거래량_x              2380 non-null   float64\n",
      " 14  거래대금_x             2380 non-null   float64\n",
      " 15  온실가스 배출량(tCO2-eq)  326 non-null    float64\n",
      " 16  에너지 사용량(TJ)        326 non-null    float64\n",
      " 17  corp_code          231 non-null    float64\n",
      " 18  stock_name         231 non-null    object \n",
      " 19  corp_cls           231 non-null    object \n",
      " 20  induty_code        231 non-null    float64\n",
      " 21  est_dt             231 non-null    float64\n",
      " 22  2021년 NCSI         60 non-null     float64\n",
      " 23  자산총계               479 non-null    float64\n",
      " 24  자본금                479 non-null    float64\n",
      " 25  자본총계               479 non-null    float64\n",
      " 26  매출액                479 non-null    float64\n",
      " 27  영업이익               479 non-null    float64\n",
      " 28  순이익                479 non-null    float64\n",
      " 29  종가                 2479 non-null   float64\n",
      " 30  시가총액               2479 non-null   float64\n",
      " 31  거래량_y              2479 non-null   float64\n",
      " 32  거래대금_y             2479 non-null   float64\n",
      " 33  통근버스운행             1735 non-null   float64\n",
      " 34  본인학자금              1735 non-null   float64\n",
      " 35  복지카드               1736 non-null   float64\n",
      " 36  업무활동비              1736 non-null   float64\n",
      " 37  자격증수당              1736 non-null   float64\n",
      " 38  위험수당               1736 non-null   float64\n",
      " 39  사대보험               1736 non-null   float64\n",
      " 40  워크샵                1736 non-null   float64\n",
      " 41  신입사원교육             1736 non-null   float64\n",
      " 42  직무향상교육             1736 non-null   float64\n",
      " 43  리더십교육              1736 non-null   float64\n",
      " 44  해외연수지원             1736 non-null   float64\n",
      " 45  도서비지원              1736 non-null   float64\n",
      " 46  외국어교육지원            1736 non-null   float64\n",
      " 47  자격증취득지원            1736 non-null   float64\n",
      " 48  총개수                1736 non-null   float64\n",
      " 49  기준가&종가 평균          2380 non-null   float64\n",
      " 50  업종 대분류             2500 non-null   object \n",
      " 51  온실가스/매출액           475 non-null    float64\n",
      "dtypes: float64(37), int64(2), object(13)\n",
      "memory usage: 1015.8+ KB\n"
     ]
    }
   ],
   "source": [
    "esg.info()"
   ]
  },
  {
   "cell_type": "code",
   "execution_count": 19,
   "metadata": {
    "scrolled": true
   },
   "outputs": [
    {
     "name": "stdout",
     "output_type": "stream",
     "text": [
      "<class 'pandas.core.frame.DataFrame'>\n",
      "RangeIndex: 2500 entries, 0 to 2499\n",
      "Data columns (total 52 columns):\n",
      " #   Column             Non-Null Count  Dtype  \n",
      "---  ------             --------------  -----  \n",
      " 0   회사명                2500 non-null   object \n",
      " 1   종목코드               2500 non-null   int64  \n",
      " 2   업종                 2500 non-null   object \n",
      " 3   상장일                2500 non-null   object \n",
      " 4   지역                 2500 non-null   object \n",
      " 5   영문 종목명             2500 non-null   object \n",
      " 6   시장구분               2500 non-null   object \n",
      " 7   상장주식수              2500 non-null   int64  \n",
      " 8   ESG등급              955 non-null    object \n",
      " 9   환경                 955 non-null    object \n",
      " 10  사회                 955 non-null    object \n",
      " 11  지배구조               955 non-null    object \n",
      " 12  등락률                2380 non-null   float64\n",
      " 13  거래량_x              2380 non-null   float64\n",
      " 14  거래대금_x             2380 non-null   float64\n",
      " 15  온실가스 배출량(tCO2-eq)  326 non-null    float64\n",
      " 16  에너지 사용량(TJ)        326 non-null    float64\n",
      " 17  corp_code          231 non-null    float64\n",
      " 18  stock_name         231 non-null    object \n",
      " 19  corp_cls           231 non-null    object \n",
      " 20  induty_code        231 non-null    float64\n",
      " 21  est_dt             231 non-null    float64\n",
      " 22  2021년 NCSI         60 non-null     float64\n",
      " 23  자산총계               479 non-null    float64\n",
      " 24  자본금                479 non-null    float64\n",
      " 25  자본총계               479 non-null    float64\n",
      " 26  매출액                479 non-null    float64\n",
      " 27  영업이익               479 non-null    float64\n",
      " 28  순이익                479 non-null    float64\n",
      " 29  종가                 2479 non-null   float64\n",
      " 30  시가총액               2479 non-null   float64\n",
      " 31  거래량_y              2479 non-null   float64\n",
      " 32  거래대금_y             2479 non-null   float64\n",
      " 33  통근버스운행             1735 non-null   float64\n",
      " 34  본인학자금              1735 non-null   float64\n",
      " 35  복지카드               1736 non-null   float64\n",
      " 36  업무활동비              1736 non-null   float64\n",
      " 37  자격증수당              1736 non-null   float64\n",
      " 38  위험수당               1736 non-null   float64\n",
      " 39  사대보험               1736 non-null   float64\n",
      " 40  워크샵                1736 non-null   float64\n",
      " 41  신입사원교육             1736 non-null   float64\n",
      " 42  직무향상교육             1736 non-null   float64\n",
      " 43  리더십교육              1736 non-null   float64\n",
      " 44  해외연수지원             1736 non-null   float64\n",
      " 45  도서비지원              1736 non-null   float64\n",
      " 46  외국어교육지원            1736 non-null   float64\n",
      " 47  자격증취득지원            1736 non-null   float64\n",
      " 48  총개수                1736 non-null   float64\n",
      " 49  기준가&종가 평균          2380 non-null   float64\n",
      " 50  업종 대분류             2500 non-null   object \n",
      " 51  온실가스/매출액           475 non-null    float64\n",
      "dtypes: float64(37), int64(2), object(13)\n",
      "memory usage: 1015.8+ KB\n"
     ]
    }
   ],
   "source": [
    "esg.info()"
   ]
  },
  {
   "cell_type": "markdown",
   "metadata": {},
   "source": [
    "### 결측처리"
   ]
  },
  {
   "cell_type": "markdown",
   "metadata": {},
   "source": [
    "* 업종 대분류 별 평균으로 사용할 피처의 결측치 처리"
   ]
  },
  {
   "cell_type": "code",
   "execution_count": 20,
   "metadata": {},
   "outputs": [
    {
     "data": {
      "text/plain": [
       "844416.2055214724"
      ]
     },
     "execution_count": 20,
     "metadata": {},
     "output_type": "execute_result"
    }
   ],
   "source": [
    "esg['온실가스 배출량(tCO2-eq)'].mean()"
   ]
  },
  {
   "cell_type": "code",
   "execution_count": 21,
   "metadata": {},
   "outputs": [],
   "source": [
    "group = esg.groupby('업종 대분류').agg(\n",
    "    {\n",
    "        '온실가스 배출량(tCO2-eq)': 'mean',\n",
    "        '에너지 사용량(TJ)': 'mean',\n",
    "        '자산총계': 'mean',\n",
    "        '자본금': 'mean',\n",
    "        '자본총계': 'mean',\n",
    "        '매출액': 'mean',\n",
    "        '영업이익': 'mean',\n",
    "        '순이익': 'mean',\n",
    "        '총개수': 'mean',\n",
    "        '시가총액': 'mean',\n",
    "        '온실가스/매출액' : 'mean'\n",
    "    }\n",
    ").reset_index()"
   ]
  },
  {
   "cell_type": "code",
   "execution_count": 22,
   "metadata": {},
   "outputs": [
    {
     "data": {
      "text/plain": [
       "기타 제조업                 516\n",
       "자동차, 기계, 장치, 장비 제조업    409\n",
       "정보 통신 소프트웨어 및 공학연구     309\n",
       "의료기기 의약품 제조업           219\n",
       "금융                     195\n",
       "전자부품 및 반도체 제조          190\n",
       "화학제품 제조업               179\n",
       "도매 소매업                 149\n",
       "기타 서비스업                 99\n",
       "건축, 건설, 공사              78\n",
       "영화, 비디오물, 방송            48\n",
       "사업지원 서비스업               31\n",
       "운송업                     29\n",
       "농업 어업 축산업 광업            22\n",
       "선박 및 보트 건조업             14\n",
       "교육                      13\n",
       "Name: 업종 대분류, dtype: int64"
      ]
     },
     "execution_count": 22,
     "metadata": {},
     "output_type": "execute_result"
    }
   ],
   "source": [
    "esg['업종 대분류'].value_counts()"
   ]
  },
  {
   "cell_type": "code",
   "execution_count": 23,
   "metadata": {},
   "outputs": [],
   "source": [
    "# 평균으로\n",
    "group['온실가스 배출량(tCO2-eq)'] = group['온실가스 배출량(tCO2-eq)'].fillna(436480.72106212494)"
   ]
  },
  {
   "cell_type": "code",
   "execution_count": 24,
   "metadata": {},
   "outputs": [],
   "source": [
    "group['에너지 사용량(TJ)'] = group['에너지 사용량(TJ)'].fillna(group['에너지 사용량(TJ)'].mean())"
   ]
  },
  {
   "cell_type": "code",
   "execution_count": 25,
   "metadata": {
    "scrolled": true
   },
   "outputs": [
    {
     "data": {
      "text/html": [
       "<div>\n",
       "<style scoped>\n",
       "    .dataframe tbody tr th:only-of-type {\n",
       "        vertical-align: middle;\n",
       "    }\n",
       "\n",
       "    .dataframe tbody tr th {\n",
       "        vertical-align: top;\n",
       "    }\n",
       "\n",
       "    .dataframe thead th {\n",
       "        text-align: right;\n",
       "    }\n",
       "</style>\n",
       "<table border=\"1\" class=\"dataframe\">\n",
       "  <thead>\n",
       "    <tr style=\"text-align: right;\">\n",
       "      <th></th>\n",
       "      <th>업종 대분류</th>\n",
       "      <th>온실가스 배출량(tCO2-eq)</th>\n",
       "      <th>에너지 사용량(TJ)</th>\n",
       "      <th>자산총계</th>\n",
       "      <th>자본금</th>\n",
       "      <th>자본총계</th>\n",
       "      <th>매출액</th>\n",
       "      <th>영업이익</th>\n",
       "      <th>순이익</th>\n",
       "      <th>총개수</th>\n",
       "      <th>시가총액</th>\n",
       "      <th>온실가스/매출액</th>\n",
       "    </tr>\n",
       "  </thead>\n",
       "  <tbody>\n",
       "    <tr>\n",
       "      <th>0</th>\n",
       "      <td>건축, 건설, 공사</td>\n",
       "      <td>9.824389e+05</td>\n",
       "      <td>17767.222222</td>\n",
       "      <td>4.067779e+06</td>\n",
       "      <td>327076.000000</td>\n",
       "      <td>1.623873e+06</td>\n",
       "      <td>3.246770e+06</td>\n",
       "      <td>2.195026e+05</td>\n",
       "      <td>1.120594e+05</td>\n",
       "      <td>2.636364</td>\n",
       "      <td>6.974282e+11</td>\n",
       "      <td>0.481790</td>\n",
       "    </tr>\n",
       "    <tr>\n",
       "      <th>1</th>\n",
       "      <td>교육</td>\n",
       "      <td>4.364807e+05</td>\n",
       "      <td>5977.143874</td>\n",
       "      <td>6.487520e+05</td>\n",
       "      <td>1186.000000</td>\n",
       "      <td>3.233210e+05</td>\n",
       "      <td>6.225430e+05</td>\n",
       "      <td>9.360300e+04</td>\n",
       "      <td>8.001800e+04</td>\n",
       "      <td>5.000000</td>\n",
       "      <td>2.377376e+11</td>\n",
       "      <td>0.000000</td>\n",
       "    </tr>\n",
       "    <tr>\n",
       "      <th>2</th>\n",
       "      <td>금융</td>\n",
       "      <td>6.462286e+04</td>\n",
       "      <td>1121.000000</td>\n",
       "      <td>2.652350e+07</td>\n",
       "      <td>664574.220588</td>\n",
       "      <td>4.873976e+06</td>\n",
       "      <td>1.832478e+06</td>\n",
       "      <td>3.545203e+05</td>\n",
       "      <td>3.080142e+05</td>\n",
       "      <td>3.649123</td>\n",
       "      <td>1.650084e+12</td>\n",
       "      <td>0.264314</td>\n",
       "    </tr>\n",
       "    <tr>\n",
       "      <th>3</th>\n",
       "      <td>기타 서비스업</td>\n",
       "      <td>1.304380e+05</td>\n",
       "      <td>651.250000</td>\n",
       "      <td>2.001664e+06</td>\n",
       "      <td>75297.315789</td>\n",
       "      <td>8.846827e+05</td>\n",
       "      <td>2.338816e+06</td>\n",
       "      <td>4.083637e+04</td>\n",
       "      <td>3.055379e+04</td>\n",
       "      <td>2.976744</td>\n",
       "      <td>4.838790e+11</td>\n",
       "      <td>0.312347</td>\n",
       "    </tr>\n",
       "    <tr>\n",
       "      <th>4</th>\n",
       "      <td>기타 제조업</td>\n",
       "      <td>1.246769e+06</td>\n",
       "      <td>9591.601399</td>\n",
       "      <td>5.840291e+06</td>\n",
       "      <td>209565.402597</td>\n",
       "      <td>3.186831e+06</td>\n",
       "      <td>4.491405e+06</td>\n",
       "      <td>3.081842e+05</td>\n",
       "      <td>2.389255e+05</td>\n",
       "      <td>3.471074</td>\n",
       "      <td>1.092712e+12</td>\n",
       "      <td>0.468244</td>\n",
       "    </tr>\n",
       "    <tr>\n",
       "      <th>5</th>\n",
       "      <td>농업 어업 축산업 광업</td>\n",
       "      <td>5.876500e+04</td>\n",
       "      <td>1343.500000</td>\n",
       "      <td>1.634110e+06</td>\n",
       "      <td>18388.000000</td>\n",
       "      <td>7.542000e+05</td>\n",
       "      <td>7.020710e+05</td>\n",
       "      <td>5.577700e+04</td>\n",
       "      <td>7.895000e+04</td>\n",
       "      <td>3.352941</td>\n",
       "      <td>1.864671e+11</td>\n",
       "      <td>0.000000</td>\n",
       "    </tr>\n",
       "    <tr>\n",
       "      <th>6</th>\n",
       "      <td>도매 소매업</td>\n",
       "      <td>1.951580e+05</td>\n",
       "      <td>3891.222222</td>\n",
       "      <td>5.863906e+06</td>\n",
       "      <td>89077.458333</td>\n",
       "      <td>3.137289e+06</td>\n",
       "      <td>3.895085e+06</td>\n",
       "      <td>1.010742e+05</td>\n",
       "      <td>1.783013e+05</td>\n",
       "      <td>2.405660</td>\n",
       "      <td>6.010294e+11</td>\n",
       "      <td>0.023552</td>\n",
       "    </tr>\n",
       "    <tr>\n",
       "      <th>7</th>\n",
       "      <td>사업지원 서비스업</td>\n",
       "      <td>4.713300e+04</td>\n",
       "      <td>923.000000</td>\n",
       "      <td>1.344906e+06</td>\n",
       "      <td>29011.125000</td>\n",
       "      <td>7.908502e+05</td>\n",
       "      <td>3.903999e+05</td>\n",
       "      <td>4.195712e+04</td>\n",
       "      <td>2.300112e+05</td>\n",
       "      <td>3.578947</td>\n",
       "      <td>4.716691e+11</td>\n",
       "      <td>0.005831</td>\n",
       "    </tr>\n",
       "    <tr>\n",
       "      <th>8</th>\n",
       "      <td>선박 및 보트 건조업</td>\n",
       "      <td>2.844476e+05</td>\n",
       "      <td>4895.200000</td>\n",
       "      <td>8.861717e+06</td>\n",
       "      <td>407583.833333</td>\n",
       "      <td>4.270488e+06</td>\n",
       "      <td>3.739086e+06</td>\n",
       "      <td>-6.583902e+05</td>\n",
       "      <td>-6.302668e+05</td>\n",
       "      <td>3.666667</td>\n",
       "      <td>2.179106e+12</td>\n",
       "      <td>0.048234</td>\n",
       "    </tr>\n",
       "    <tr>\n",
       "      <th>9</th>\n",
       "      <td>영화, 비디오물, 방송</td>\n",
       "      <td>5.876900e+04</td>\n",
       "      <td>1147.000000</td>\n",
       "      <td>1.241601e+06</td>\n",
       "      <td>36529.000000</td>\n",
       "      <td>7.261167e+05</td>\n",
       "      <td>4.274033e+05</td>\n",
       "      <td>1.886331e+04</td>\n",
       "      <td>-1.871700e+04</td>\n",
       "      <td>2.100000</td>\n",
       "      <td>7.982625e+11</td>\n",
       "      <td>0.013877</td>\n",
       "    </tr>\n",
       "    <tr>\n",
       "      <th>10</th>\n",
       "      <td>운송업</td>\n",
       "      <td>1.448946e+05</td>\n",
       "      <td>2167.785714</td>\n",
       "      <td>8.148538e+06</td>\n",
       "      <td>517847.181818</td>\n",
       "      <td>3.088699e+06</td>\n",
       "      <td>5.251187e+06</td>\n",
       "      <td>9.167004e+05</td>\n",
       "      <td>5.873660e+05</td>\n",
       "      <td>3.571429</td>\n",
       "      <td>1.675142e+12</td>\n",
       "      <td>0.164259</td>\n",
       "    </tr>\n",
       "    <tr>\n",
       "      <th>11</th>\n",
       "      <td>의료기기 의약품 제조업</td>\n",
       "      <td>5.121544e+04</td>\n",
       "      <td>1056.111111</td>\n",
       "      <td>6.830580e+05</td>\n",
       "      <td>30574.224138</td>\n",
       "      <td>4.382784e+05</td>\n",
       "      <td>3.753618e+05</td>\n",
       "      <td>6.680860e+04</td>\n",
       "      <td>4.995379e+04</td>\n",
       "      <td>3.736842</td>\n",
       "      <td>9.584174e+11</td>\n",
       "      <td>0.004114</td>\n",
       "    </tr>\n",
       "    <tr>\n",
       "      <th>12</th>\n",
       "      <td>자동차, 기계, 장치, 장비 제조업</td>\n",
       "      <td>1.011750e+06</td>\n",
       "      <td>18673.585366</td>\n",
       "      <td>1.666288e+07</td>\n",
       "      <td>166989.142857</td>\n",
       "      <td>1.177661e+07</td>\n",
       "      <td>1.334621e+07</td>\n",
       "      <td>1.783783e+06</td>\n",
       "      <td>1.623365e+06</td>\n",
       "      <td>3.626543</td>\n",
       "      <td>3.998503e+12</td>\n",
       "      <td>0.011460</td>\n",
       "    </tr>\n",
       "    <tr>\n",
       "      <th>13</th>\n",
       "      <td>전자부품 및 반도체 제조</td>\n",
       "      <td>3.660822e+05</td>\n",
       "      <td>5674.225806</td>\n",
       "      <td>4.058582e+06</td>\n",
       "      <td>217534.222222</td>\n",
       "      <td>2.469544e+06</td>\n",
       "      <td>2.976304e+06</td>\n",
       "      <td>4.637577e+05</td>\n",
       "      <td>3.575760e+05</td>\n",
       "      <td>3.438710</td>\n",
       "      <td>1.036569e+12</td>\n",
       "      <td>0.049774</td>\n",
       "    </tr>\n",
       "    <tr>\n",
       "      <th>14</th>\n",
       "      <td>정보 통신 소프트웨어 및 공학연구</td>\n",
       "      <td>4.805955e+05</td>\n",
       "      <td>9863.625000</td>\n",
       "      <td>2.117222e+06</td>\n",
       "      <td>66819.530612</td>\n",
       "      <td>1.282518e+06</td>\n",
       "      <td>1.033976e+06</td>\n",
       "      <td>1.483994e+05</td>\n",
       "      <td>1.211974e+05</td>\n",
       "      <td>3.699588</td>\n",
       "      <td>1.047035e+12</td>\n",
       "      <td>0.006908</td>\n",
       "    </tr>\n",
       "    <tr>\n",
       "      <th>15</th>\n",
       "      <td>화학제품 제조업</td>\n",
       "      <td>5.990703e+05</td>\n",
       "      <td>10890.829268</td>\n",
       "      <td>3.007433e+06</td>\n",
       "      <td>89258.540541</td>\n",
       "      <td>1.911916e+06</td>\n",
       "      <td>2.033808e+06</td>\n",
       "      <td>2.180024e+05</td>\n",
       "      <td>1.799481e+05</td>\n",
       "      <td>3.800000</td>\n",
       "      <td>9.488723e+11</td>\n",
       "      <td>0.193861</td>\n",
       "    </tr>\n",
       "  </tbody>\n",
       "</table>\n",
       "</div>"
      ],
      "text/plain": [
       "                 업종 대분류  온실가스 배출량(tCO2-eq)   에너지 사용량(TJ)          자산총계  \\\n",
       "0            건축, 건설, 공사       9.824389e+05  17767.222222  4.067779e+06   \n",
       "1                    교육       4.364807e+05   5977.143874  6.487520e+05   \n",
       "2                    금융       6.462286e+04   1121.000000  2.652350e+07   \n",
       "3               기타 서비스업       1.304380e+05    651.250000  2.001664e+06   \n",
       "4                기타 제조업       1.246769e+06   9591.601399  5.840291e+06   \n",
       "5          농업 어업 축산업 광업       5.876500e+04   1343.500000  1.634110e+06   \n",
       "6                도매 소매업       1.951580e+05   3891.222222  5.863906e+06   \n",
       "7             사업지원 서비스업       4.713300e+04    923.000000  1.344906e+06   \n",
       "8           선박 및 보트 건조업       2.844476e+05   4895.200000  8.861717e+06   \n",
       "9          영화, 비디오물, 방송       5.876900e+04   1147.000000  1.241601e+06   \n",
       "10                  운송업       1.448946e+05   2167.785714  8.148538e+06   \n",
       "11         의료기기 의약품 제조업       5.121544e+04   1056.111111  6.830580e+05   \n",
       "12  자동차, 기계, 장치, 장비 제조업       1.011750e+06  18673.585366  1.666288e+07   \n",
       "13        전자부품 및 반도체 제조       3.660822e+05   5674.225806  4.058582e+06   \n",
       "14   정보 통신 소프트웨어 및 공학연구       4.805955e+05   9863.625000  2.117222e+06   \n",
       "15             화학제품 제조업       5.990703e+05  10890.829268  3.007433e+06   \n",
       "\n",
       "              자본금          자본총계           매출액          영업이익           순이익  \\\n",
       "0   327076.000000  1.623873e+06  3.246770e+06  2.195026e+05  1.120594e+05   \n",
       "1     1186.000000  3.233210e+05  6.225430e+05  9.360300e+04  8.001800e+04   \n",
       "2   664574.220588  4.873976e+06  1.832478e+06  3.545203e+05  3.080142e+05   \n",
       "3    75297.315789  8.846827e+05  2.338816e+06  4.083637e+04  3.055379e+04   \n",
       "4   209565.402597  3.186831e+06  4.491405e+06  3.081842e+05  2.389255e+05   \n",
       "5    18388.000000  7.542000e+05  7.020710e+05  5.577700e+04  7.895000e+04   \n",
       "6    89077.458333  3.137289e+06  3.895085e+06  1.010742e+05  1.783013e+05   \n",
       "7    29011.125000  7.908502e+05  3.903999e+05  4.195712e+04  2.300112e+05   \n",
       "8   407583.833333  4.270488e+06  3.739086e+06 -6.583902e+05 -6.302668e+05   \n",
       "9    36529.000000  7.261167e+05  4.274033e+05  1.886331e+04 -1.871700e+04   \n",
       "10  517847.181818  3.088699e+06  5.251187e+06  9.167004e+05  5.873660e+05   \n",
       "11   30574.224138  4.382784e+05  3.753618e+05  6.680860e+04  4.995379e+04   \n",
       "12  166989.142857  1.177661e+07  1.334621e+07  1.783783e+06  1.623365e+06   \n",
       "13  217534.222222  2.469544e+06  2.976304e+06  4.637577e+05  3.575760e+05   \n",
       "14   66819.530612  1.282518e+06  1.033976e+06  1.483994e+05  1.211974e+05   \n",
       "15   89258.540541  1.911916e+06  2.033808e+06  2.180024e+05  1.799481e+05   \n",
       "\n",
       "         총개수          시가총액  온실가스/매출액  \n",
       "0   2.636364  6.974282e+11  0.481790  \n",
       "1   5.000000  2.377376e+11  0.000000  \n",
       "2   3.649123  1.650084e+12  0.264314  \n",
       "3   2.976744  4.838790e+11  0.312347  \n",
       "4   3.471074  1.092712e+12  0.468244  \n",
       "5   3.352941  1.864671e+11  0.000000  \n",
       "6   2.405660  6.010294e+11  0.023552  \n",
       "7   3.578947  4.716691e+11  0.005831  \n",
       "8   3.666667  2.179106e+12  0.048234  \n",
       "9   2.100000  7.982625e+11  0.013877  \n",
       "10  3.571429  1.675142e+12  0.164259  \n",
       "11  3.736842  9.584174e+11  0.004114  \n",
       "12  3.626543  3.998503e+12  0.011460  \n",
       "13  3.438710  1.036569e+12  0.049774  \n",
       "14  3.699588  1.047035e+12  0.006908  \n",
       "15  3.800000  9.488723e+11  0.193861  "
      ]
     },
     "execution_count": 25,
     "metadata": {},
     "output_type": "execute_result"
    }
   ],
   "source": [
    "group"
   ]
  },
  {
   "cell_type": "code",
   "execution_count": 70,
   "metadata": {},
   "outputs": [],
   "source": [
    "esg['온실가스 배출량(tCO2-eq)'] = esg['온실가스 배출량(tCO2-eq)'].fillna(esg.groupby('업종 대분류')['온실가스 배출량(tCO2-eq)'].transform('mean'))\n",
    "esg['에너지 사용량(TJ)'] = esg['에너지 사용량(TJ)'].fillna(esg.groupby('업종 대분류')['에너지 사용량(TJ)'].transform('mean'))\n",
    "esg['자산총계'] = esg['자산총계'].fillna(esg.groupby('업종 대분류')['자산총계'].transform('median'))\n",
    "esg['총개수'] = esg['총개수'].fillna(esg.groupby('업종 대분류')['총개수'].transform('mean'))\n",
    "esg['자본총계'] = esg['자본총계'].fillna(esg.groupby('업종 대분류')['자본총계'].transform('mean'))\n",
    "esg['자본금'] = esg['자본금'].fillna(esg.groupby('업종 대분류')['자본금'].transform('mean'))\n",
    "esg['매출액'] = esg['매출액'].fillna(esg.groupby('업종 대분류')['매출액'].transform('mean'))\n",
    "esg['영업이익'] = esg['영업이익'].fillna(esg.groupby('업종 대분류')['영업이익'].transform('mean'))\n",
    "esg['순이익'] = esg['순이익'].fillna(esg.groupby('업종 대분류')['순이익'].transform('mean'))\n",
    "esg['시가총액'] = esg['시가총액'].fillna(esg.groupby('업종 대분류')['시가총액'].transform('mean'))\n",
    "esg['온실가스/매출액'] = esg['온실가스/매출액'].fillna(esg.groupby('업종 대분류')['온실가스/매출액'].transform('mean'))"
   ]
  },
  {
   "cell_type": "code",
   "execution_count": 27,
   "metadata": {},
   "outputs": [
    {
     "name": "stdout",
     "output_type": "stream",
     "text": [
      "<class 'pandas.core.frame.DataFrame'>\n",
      "RangeIndex: 2500 entries, 0 to 2499\n",
      "Data columns (total 52 columns):\n",
      " #   Column             Non-Null Count  Dtype  \n",
      "---  ------             --------------  -----  \n",
      " 0   회사명                2500 non-null   object \n",
      " 1   종목코드               2500 non-null   int64  \n",
      " 2   업종                 2500 non-null   object \n",
      " 3   상장일                2500 non-null   object \n",
      " 4   지역                 2500 non-null   object \n",
      " 5   영문 종목명             2500 non-null   object \n",
      " 6   시장구분               2500 non-null   object \n",
      " 7   상장주식수              2500 non-null   int64  \n",
      " 8   ESG등급              955 non-null    object \n",
      " 9   환경                 955 non-null    object \n",
      " 10  사회                 955 non-null    object \n",
      " 11  지배구조               955 non-null    object \n",
      " 12  등락률                2380 non-null   float64\n",
      " 13  거래량_x              2380 non-null   float64\n",
      " 14  거래대금_x             2380 non-null   float64\n",
      " 15  온실가스 배출량(tCO2-eq)  2487 non-null   float64\n",
      " 16  에너지 사용량(TJ)        2487 non-null   float64\n",
      " 17  corp_code          231 non-null    float64\n",
      " 18  stock_name         231 non-null    object \n",
      " 19  corp_cls           231 non-null    object \n",
      " 20  induty_code        231 non-null    float64\n",
      " 21  est_dt             231 non-null    float64\n",
      " 22  2021년 NCSI         60 non-null     float64\n",
      " 23  자산총계               2500 non-null   float64\n",
      " 24  자본금                2500 non-null   float64\n",
      " 25  자본총계               2500 non-null   float64\n",
      " 26  매출액                2500 non-null   float64\n",
      " 27  영업이익               2500 non-null   float64\n",
      " 28  순이익                2500 non-null   float64\n",
      " 29  종가                 2479 non-null   float64\n",
      " 30  시가총액               2500 non-null   float64\n",
      " 31  거래량_y              2479 non-null   float64\n",
      " 32  거래대금_y             2479 non-null   float64\n",
      " 33  통근버스운행             1735 non-null   float64\n",
      " 34  본인학자금              1735 non-null   float64\n",
      " 35  복지카드               1736 non-null   float64\n",
      " 36  업무활동비              1736 non-null   float64\n",
      " 37  자격증수당              1736 non-null   float64\n",
      " 38  위험수당               1736 non-null   float64\n",
      " 39  사대보험               1736 non-null   float64\n",
      " 40  워크샵                1736 non-null   float64\n",
      " 41  신입사원교육             1736 non-null   float64\n",
      " 42  직무향상교육             1736 non-null   float64\n",
      " 43  리더십교육              1736 non-null   float64\n",
      " 44  해외연수지원             1736 non-null   float64\n",
      " 45  도서비지원              1736 non-null   float64\n",
      " 46  외국어교육지원            1736 non-null   float64\n",
      " 47  자격증취득지원            1736 non-null   float64\n",
      " 48  총개수                2500 non-null   float64\n",
      " 49  기준가&종가 평균          2380 non-null   float64\n",
      " 50  업종 대분류             2500 non-null   object \n",
      " 51  온실가스/매출액           2500 non-null   float64\n",
      "dtypes: float64(37), int64(2), object(13)\n",
      "memory usage: 1015.8+ KB\n"
     ]
    }
   ],
   "source": [
    "esg.info()"
   ]
  },
  {
   "cell_type": "code",
   "execution_count": 28,
   "metadata": {},
   "outputs": [],
   "source": [
    "esg['온실가스 배출량(tCO2-eq)'] = esg['온실가스 배출량(tCO2-eq)'].fillna(group['온실가스 배출량(tCO2-eq)'].mean())\n",
    "esg['에너지 사용량(TJ)'] = esg['에너지 사용량(TJ)'].fillna(group['에너지 사용량(TJ)'].mean())"
   ]
  },
  {
   "cell_type": "code",
   "execution_count": 29,
   "metadata": {},
   "outputs": [],
   "source": [
    "# 상장기간 칼럼 생성\n",
    "from datetime import datetime\n",
    "date_diff_list = [] \n",
    "\n",
    "for i in range(len(esg['상장일'])):\n",
    "    now  = datetime.now()\n",
    "    now = datetime.strptime(str(now)[0:10], \"%Y-%m-%d\")\n",
    "    date_to_compare = datetime.strptime(str(esg['상장일'][i])[0:10], \"%Y-%m-%d\")\n",
    "    date_diff = now - date_to_compare\n",
    "    date_diff = str(date_diff)[:-14]\n",
    "    date_diff_list.append(date_diff)"
   ]
  },
  {
   "cell_type": "code",
   "execution_count": 30,
   "metadata": {},
   "outputs": [
    {
     "data": {
      "text/html": [
       "<div>\n",
       "<style scoped>\n",
       "    .dataframe tbody tr th:only-of-type {\n",
       "        vertical-align: middle;\n",
       "    }\n",
       "\n",
       "    .dataframe tbody tr th {\n",
       "        vertical-align: top;\n",
       "    }\n",
       "\n",
       "    .dataframe thead th {\n",
       "        text-align: right;\n",
       "    }\n",
       "</style>\n",
       "<table border=\"1\" class=\"dataframe\">\n",
       "  <thead>\n",
       "    <tr style=\"text-align: right;\">\n",
       "      <th></th>\n",
       "      <th>상장기간</th>\n",
       "    </tr>\n",
       "  </thead>\n",
       "  <tbody>\n",
       "    <tr>\n",
       "      <th>0</th>\n",
       "      <td>22</td>\n",
       "    </tr>\n",
       "    <tr>\n",
       "      <th>1</th>\n",
       "      <td>25</td>\n",
       "    </tr>\n",
       "    <tr>\n",
       "      <th>2</th>\n",
       "      <td>29</td>\n",
       "    </tr>\n",
       "    <tr>\n",
       "      <th>3</th>\n",
       "      <td>29</td>\n",
       "    </tr>\n",
       "    <tr>\n",
       "      <th>4</th>\n",
       "      <td>32</td>\n",
       "    </tr>\n",
       "    <tr>\n",
       "      <th>...</th>\n",
       "      <td>...</td>\n",
       "    </tr>\n",
       "    <tr>\n",
       "      <th>2495</th>\n",
       "      <td>24014</td>\n",
       "    </tr>\n",
       "    <tr>\n",
       "      <th>2496</th>\n",
       "      <td>24014</td>\n",
       "    </tr>\n",
       "    <tr>\n",
       "      <th>2497</th>\n",
       "      <td>24135</td>\n",
       "    </tr>\n",
       "    <tr>\n",
       "      <th>2498</th>\n",
       "      <td>24135</td>\n",
       "    </tr>\n",
       "    <tr>\n",
       "      <th>2499</th>\n",
       "      <td>24135</td>\n",
       "    </tr>\n",
       "  </tbody>\n",
       "</table>\n",
       "<p>2500 rows × 1 columns</p>\n",
       "</div>"
      ],
      "text/plain": [
       "       상장기간\n",
       "0        22\n",
       "1        25\n",
       "2        29\n",
       "3        29\n",
       "4        32\n",
       "...     ...\n",
       "2495  24014\n",
       "2496  24014\n",
       "2497  24135\n",
       "2498  24135\n",
       "2499  24135\n",
       "\n",
       "[2500 rows x 1 columns]"
      ]
     },
     "execution_count": 30,
     "metadata": {},
     "output_type": "execute_result"
    }
   ],
   "source": [
    "date_diff_df = pd.DataFrame(date_diff_list)\n",
    "date_diff_df.columns = ['상장기간']\n",
    "date_diff_df"
   ]
  },
  {
   "cell_type": "code",
   "execution_count": 31,
   "metadata": {},
   "outputs": [],
   "source": [
    "esg = pd.concat([esg, date_diff_df], axis = 1)"
   ]
  },
  {
   "cell_type": "code",
   "execution_count": 32,
   "metadata": {
    "scrolled": true
   },
   "outputs": [
    {
     "data": {
      "text/plain": [
       "Index(['회사명', '종목코드', '업종', '상장일', '지역', '영문 종목명', '시장구분', '상장주식수', 'ESG등급',\n",
       "       '환경', '사회', '지배구조', '등락률', '거래량_x', '거래대금_x', '온실가스 배출량(tCO2-eq)',\n",
       "       '에너지 사용량(TJ)', 'corp_code', 'stock_name', 'corp_cls', 'induty_code',\n",
       "       'est_dt', '2021년 NCSI', '자산총계', '자본금', '자본총계', '매출액', '영업이익', '순이익',\n",
       "       '종가', '시가총액', '거래량_y', '거래대금_y', '통근버스운행', '본인학자금', '복지카드', '업무활동비',\n",
       "       '자격증수당', '위험수당', '사대보험', '워크샵', '신입사원교육', '직무향상교육', '리더십교육', '해외연수지원',\n",
       "       '도서비지원', '외국어교육지원', '자격증취득지원', '총개수', '기준가&종가 평균', '업종 대분류', '온실가스/매출액',\n",
       "       '상장기간'],\n",
       "      dtype='object')"
      ]
     },
     "execution_count": 32,
     "metadata": {},
     "output_type": "execute_result"
    }
   ],
   "source": [
    "esg.columns"
   ]
  },
  {
   "cell_type": "code",
   "execution_count": 33,
   "metadata": {},
   "outputs": [],
   "source": [
    "esg1 = esg.copy()"
   ]
  },
  {
   "cell_type": "code",
   "execution_count": 34,
   "metadata": {},
   "outputs": [
    {
     "name": "stdout",
     "output_type": "stream",
     "text": [
      "<class 'pandas.core.frame.DataFrame'>\n",
      "RangeIndex: 2500 entries, 0 to 2499\n",
      "Data columns (total 53 columns):\n",
      " #   Column             Non-Null Count  Dtype  \n",
      "---  ------             --------------  -----  \n",
      " 0   회사명                2500 non-null   object \n",
      " 1   종목코드               2500 non-null   int64  \n",
      " 2   업종                 2500 non-null   object \n",
      " 3   상장일                2500 non-null   object \n",
      " 4   지역                 2500 non-null   object \n",
      " 5   영문 종목명             2500 non-null   object \n",
      " 6   시장구분               2500 non-null   object \n",
      " 7   상장주식수              2500 non-null   int64  \n",
      " 8   ESG등급              955 non-null    object \n",
      " 9   환경                 955 non-null    object \n",
      " 10  사회                 955 non-null    object \n",
      " 11  지배구조               955 non-null    object \n",
      " 12  등락률                2380 non-null   float64\n",
      " 13  거래량_x              2380 non-null   float64\n",
      " 14  거래대금_x             2380 non-null   float64\n",
      " 15  온실가스 배출량(tCO2-eq)  2500 non-null   float64\n",
      " 16  에너지 사용량(TJ)        2500 non-null   float64\n",
      " 17  corp_code          231 non-null    float64\n",
      " 18  stock_name         231 non-null    object \n",
      " 19  corp_cls           231 non-null    object \n",
      " 20  induty_code        231 non-null    float64\n",
      " 21  est_dt             231 non-null    float64\n",
      " 22  2021년 NCSI         60 non-null     float64\n",
      " 23  자산총계               2500 non-null   float64\n",
      " 24  자본금                2500 non-null   float64\n",
      " 25  자본총계               2500 non-null   float64\n",
      " 26  매출액                2500 non-null   float64\n",
      " 27  영업이익               2500 non-null   float64\n",
      " 28  순이익                2500 non-null   float64\n",
      " 29  종가                 2479 non-null   float64\n",
      " 30  시가총액               2500 non-null   float64\n",
      " 31  거래량_y              2479 non-null   float64\n",
      " 32  거래대금_y             2479 non-null   float64\n",
      " 33  통근버스운행             1735 non-null   float64\n",
      " 34  본인학자금              1735 non-null   float64\n",
      " 35  복지카드               1736 non-null   float64\n",
      " 36  업무활동비              1736 non-null   float64\n",
      " 37  자격증수당              1736 non-null   float64\n",
      " 38  위험수당               1736 non-null   float64\n",
      " 39  사대보험               1736 non-null   float64\n",
      " 40  워크샵                1736 non-null   float64\n",
      " 41  신입사원교육             1736 non-null   float64\n",
      " 42  직무향상교육             1736 non-null   float64\n",
      " 43  리더십교육              1736 non-null   float64\n",
      " 44  해외연수지원             1736 non-null   float64\n",
      " 45  도서비지원              1736 non-null   float64\n",
      " 46  외국어교육지원            1736 non-null   float64\n",
      " 47  자격증취득지원            1736 non-null   float64\n",
      " 48  총개수                2500 non-null   float64\n",
      " 49  기준가&종가 평균          2380 non-null   float64\n",
      " 50  업종 대분류             2500 non-null   object \n",
      " 51  온실가스/매출액           2500 non-null   float64\n",
      " 52  상장기간               2500 non-null   object \n",
      "dtypes: float64(37), int64(2), object(14)\n",
      "memory usage: 1.0+ MB\n"
     ]
    }
   ],
   "source": [
    "esg1.info()"
   ]
  },
  {
   "cell_type": "code",
   "execution_count": 35,
   "metadata": {},
   "outputs": [],
   "source": [
    "esg1 = esg1.dropna(subset = ['ESG등급'])"
   ]
  },
  {
   "cell_type": "code",
   "execution_count": 19,
   "metadata": {},
   "outputs": [
    {
     "name": "stdout",
     "output_type": "stream",
     "text": [
      "<class 'pandas.core.frame.DataFrame'>\n",
      "Int64Index: 955 entries, 89 to 2499\n",
      "Data columns (total 53 columns):\n",
      " #   Column             Non-Null Count  Dtype  \n",
      "---  ------             --------------  -----  \n",
      " 0   회사명                955 non-null    object \n",
      " 1   종목코드               955 non-null    int64  \n",
      " 2   업종                 955 non-null    object \n",
      " 3   상장일                955 non-null    object \n",
      " 4   지역                 955 non-null    object \n",
      " 5   영문 종목명             955 non-null    object \n",
      " 6   시장구분               955 non-null    object \n",
      " 7   상장주식수              955 non-null    int64  \n",
      " 8   ESG등급              955 non-null    object \n",
      " 9   환경                 955 non-null    object \n",
      " 10  사회                 955 non-null    object \n",
      " 11  지배구조               955 non-null    object \n",
      " 12  등락률                955 non-null    float64\n",
      " 13  거래량_x              955 non-null    float64\n",
      " 14  거래대금_x             955 non-null    float64\n",
      " 15  온실가스 배출량(tCO2-eq)  955 non-null    float64\n",
      " 16  에너지 사용량(TJ)        955 non-null    float64\n",
      " 17  corp_code          105 non-null    float64\n",
      " 18  stock_name         105 non-null    object \n",
      " 19  corp_cls           105 non-null    object \n",
      " 20  induty_code        105 non-null    float64\n",
      " 21  est_dt             105 non-null    float64\n",
      " 22  2021년 NCSI         54 non-null     float64\n",
      " 23  자산총계               955 non-null    float64\n",
      " 24  자본금                955 non-null    float64\n",
      " 25  자본총계               955 non-null    float64\n",
      " 26  매출액                955 non-null    float64\n",
      " 27  영업이익               955 non-null    float64\n",
      " 28  순이익                955 non-null    float64\n",
      " 29  종가                 955 non-null    float64\n",
      " 30  시가총액               955 non-null    float64\n",
      " 31  거래량_y              955 non-null    float64\n",
      " 32  거래대금_y             955 non-null    float64\n",
      " 33  통근버스운행             628 non-null    float64\n",
      " 34  본인학자금              628 non-null    float64\n",
      " 35  복지카드               628 non-null    float64\n",
      " 36  업무활동비              628 non-null    float64\n",
      " 37  자격증수당              628 non-null    float64\n",
      " 38  위험수당               628 non-null    float64\n",
      " 39  사대보험               628 non-null    float64\n",
      " 40  워크샵                628 non-null    float64\n",
      " 41  신입사원교육             628 non-null    float64\n",
      " 42  직무향상교육             628 non-null    float64\n",
      " 43  리더십교육              628 non-null    float64\n",
      " 44  해외연수지원             628 non-null    float64\n",
      " 45  도서비지원              628 non-null    float64\n",
      " 46  외국어교육지원            628 non-null    float64\n",
      " 47  자격증취득지원            628 non-null    float64\n",
      " 48  총개수                955 non-null    float64\n",
      " 49  기준가&종가 평균          955 non-null    float64\n",
      " 50  업종 대분류             955 non-null    object \n",
      " 51  온실가스/매출액           955 non-null    float64\n",
      " 52  상장기간               955 non-null    object \n",
      "dtypes: float64(37), int64(2), object(14)\n",
      "memory usage: 402.9+ KB\n"
     ]
    }
   ],
   "source": [
    "esg1.info()"
   ]
  },
  {
   "cell_type": "code",
   "execution_count": 36,
   "metadata": {},
   "outputs": [],
   "source": [
    "df = esg1.iloc[:,[0,1,2,4,6,7,8,9,10,11,12,13,14,15,16,23,24,25,26,27,28,29,30,31,32,48,49,50,51,52]]"
   ]
  },
  {
   "cell_type": "code",
   "execution_count": 37,
   "metadata": {},
   "outputs": [
    {
     "name": "stdout",
     "output_type": "stream",
     "text": [
      "<class 'pandas.core.frame.DataFrame'>\n",
      "Int64Index: 955 entries, 89 to 2499\n",
      "Data columns (total 30 columns):\n",
      " #   Column             Non-Null Count  Dtype  \n",
      "---  ------             --------------  -----  \n",
      " 0   회사명                955 non-null    object \n",
      " 1   종목코드               955 non-null    int64  \n",
      " 2   업종                 955 non-null    object \n",
      " 3   지역                 955 non-null    object \n",
      " 4   시장구분               955 non-null    object \n",
      " 5   상장주식수              955 non-null    int64  \n",
      " 6   ESG등급              955 non-null    object \n",
      " 7   환경                 955 non-null    object \n",
      " 8   사회                 955 non-null    object \n",
      " 9   지배구조               955 non-null    object \n",
      " 10  등락률                955 non-null    float64\n",
      " 11  거래량_x              955 non-null    float64\n",
      " 12  거래대금_x             955 non-null    float64\n",
      " 13  온실가스 배출량(tCO2-eq)  955 non-null    float64\n",
      " 14  에너지 사용량(TJ)        955 non-null    float64\n",
      " 15  자산총계               955 non-null    float64\n",
      " 16  자본금                955 non-null    float64\n",
      " 17  자본총계               955 non-null    float64\n",
      " 18  매출액                955 non-null    float64\n",
      " 19  영업이익               955 non-null    float64\n",
      " 20  순이익                955 non-null    float64\n",
      " 21  종가                 955 non-null    float64\n",
      " 22  시가총액               955 non-null    float64\n",
      " 23  거래량_y              955 non-null    float64\n",
      " 24  거래대금_y             955 non-null    float64\n",
      " 25  총개수                955 non-null    float64\n",
      " 26  기준가&종가 평균          955 non-null    float64\n",
      " 27  업종 대분류             955 non-null    object \n",
      " 28  온실가스/매출액           955 non-null    float64\n",
      " 29  상장기간               955 non-null    object \n",
      "dtypes: float64(18), int64(2), object(10)\n",
      "memory usage: 231.3+ KB\n"
     ]
    }
   ],
   "source": [
    "df.info()"
   ]
  },
  {
   "cell_type": "markdown",
   "metadata": {},
   "source": [
    "### scaling"
   ]
  },
  {
   "cell_type": "code",
   "execution_count": 38,
   "metadata": {},
   "outputs": [],
   "source": [
    "from sklearn.preprocessing import StandardScaler, MinMaxScaler"
   ]
  },
  {
   "cell_type": "code",
   "execution_count": 39,
   "metadata": {},
   "outputs": [],
   "source": [
    "df = df.reset_index()"
   ]
  },
  {
   "cell_type": "code",
   "execution_count": 40,
   "metadata": {},
   "outputs": [],
   "source": [
    "df.drop(['index'], axis=1, inplace=True)"
   ]
  },
  {
   "cell_type": "code",
   "execution_count": 49,
   "metadata": {},
   "outputs": [],
   "source": [
    "# scaling할 칼럼만 따로\n",
    "df1 = df.iloc[:,[5,10,11,12,13,14,15,16,17,18,19,20,21,22,23,24,26,28,29]]"
   ]
  },
  {
   "cell_type": "code",
   "execution_count": 50,
   "metadata": {},
   "outputs": [],
   "source": [
    "df_scaled = MinMaxScaler().fit_transform(df1)"
   ]
  },
  {
   "cell_type": "code",
   "execution_count": 51,
   "metadata": {},
   "outputs": [],
   "source": [
    "c=[]\n",
    "for i in [5,10,11,12,13,14,15,16,17,18,19,20,21,22,23,24,26,28,29]:\n",
    "    col=df.columns[i]+'_s'\n",
    "    c.append(col)"
   ]
  },
  {
   "cell_type": "code",
   "execution_count": 52,
   "metadata": {
    "scrolled": true
   },
   "outputs": [
    {
     "data": {
      "text/plain": [
       "['상장주식수_s',\n",
       " '등락률_s',\n",
       " '거래량_x_s',\n",
       " '거래대금_x_s',\n",
       " '온실가스 배출량(tCO2-eq)_s',\n",
       " '에너지 사용량(TJ)_s',\n",
       " '자산총계_s',\n",
       " '자본금_s',\n",
       " '자본총계_s',\n",
       " '매출액_s',\n",
       " '영업이익_s',\n",
       " '순이익_s',\n",
       " '종가_s',\n",
       " '시가총액_s',\n",
       " '거래량_y_s',\n",
       " '거래대금_y_s',\n",
       " '기준가&종가 평균_s',\n",
       " '온실가스/매출액_s',\n",
       " '상장기간_s']"
      ]
     },
     "execution_count": 52,
     "metadata": {},
     "output_type": "execute_result"
    }
   ],
   "source": [
    "c"
   ]
  },
  {
   "cell_type": "code",
   "execution_count": 53,
   "metadata": {},
   "outputs": [],
   "source": [
    "scale = pd.DataFrame(df_scaled, columns=c)"
   ]
  },
  {
   "cell_type": "code",
   "execution_count": 54,
   "metadata": {},
   "outputs": [
    {
     "data": {
      "text/html": [
       "<div>\n",
       "<style scoped>\n",
       "    .dataframe tbody tr th:only-of-type {\n",
       "        vertical-align: middle;\n",
       "    }\n",
       "\n",
       "    .dataframe tbody tr th {\n",
       "        vertical-align: top;\n",
       "    }\n",
       "\n",
       "    .dataframe thead th {\n",
       "        text-align: right;\n",
       "    }\n",
       "</style>\n",
       "<table border=\"1\" class=\"dataframe\">\n",
       "  <thead>\n",
       "    <tr style=\"text-align: right;\">\n",
       "      <th></th>\n",
       "      <th>상장주식수_s</th>\n",
       "      <th>등락률_s</th>\n",
       "      <th>거래량_x_s</th>\n",
       "      <th>거래대금_x_s</th>\n",
       "      <th>온실가스 배출량(tCO2-eq)_s</th>\n",
       "      <th>에너지 사용량(TJ)_s</th>\n",
       "      <th>자산총계_s</th>\n",
       "      <th>자본금_s</th>\n",
       "      <th>자본총계_s</th>\n",
       "      <th>매출액_s</th>\n",
       "      <th>영업이익_s</th>\n",
       "      <th>순이익_s</th>\n",
       "      <th>종가_s</th>\n",
       "      <th>시가총액_s</th>\n",
       "      <th>거래량_y_s</th>\n",
       "      <th>거래대금_y_s</th>\n",
       "      <th>기준가&amp;종가 평균_s</th>\n",
       "      <th>온실가스/매출액_s</th>\n",
       "      <th>상장기간_s</th>\n",
       "    </tr>\n",
       "  </thead>\n",
       "  <tbody>\n",
       "    <tr>\n",
       "      <th>0</th>\n",
       "      <td>0.004819</td>\n",
       "      <td>0.190183</td>\n",
       "      <td>0.003631</td>\n",
       "      <td>0.010860</td>\n",
       "      <td>0.001123</td>\n",
       "      <td>0.003644</td>\n",
       "      <td>0.001170</td>\n",
       "      <td>0.003109</td>\n",
       "      <td>0.001530</td>\n",
       "      <td>0.001511</td>\n",
       "      <td>0.053725</td>\n",
       "      <td>0.059181</td>\n",
       "      <td>0.049374</td>\n",
       "      <td>0.003360</td>\n",
       "      <td>0.005959</td>\n",
       "      <td>0.009753</td>\n",
       "      <td>0.034683</td>\n",
       "      <td>0.026214</td>\n",
       "      <td>0.000000</td>\n",
       "    </tr>\n",
       "    <tr>\n",
       "      <th>1</th>\n",
       "      <td>0.002911</td>\n",
       "      <td>0.129244</td>\n",
       "      <td>0.003134</td>\n",
       "      <td>0.009055</td>\n",
       "      <td>0.016462</td>\n",
       "      <td>0.025004</td>\n",
       "      <td>0.001227</td>\n",
       "      <td>0.001797</td>\n",
       "      <td>0.001526</td>\n",
       "      <td>0.004093</td>\n",
       "      <td>0.052008</td>\n",
       "      <td>0.058045</td>\n",
       "      <td>0.051458</td>\n",
       "      <td>0.002123</td>\n",
       "      <td>0.009762</td>\n",
       "      <td>0.016548</td>\n",
       "      <td>0.038411</td>\n",
       "      <td>0.000000</td>\n",
       "      <td>0.001423</td>\n",
       "    </tr>\n",
       "    <tr>\n",
       "      <th>2</th>\n",
       "      <td>0.003397</td>\n",
       "      <td>0.055074</td>\n",
       "      <td>0.003400</td>\n",
       "      <td>0.012056</td>\n",
       "      <td>0.006337</td>\n",
       "      <td>0.025714</td>\n",
       "      <td>0.000247</td>\n",
       "      <td>0.002090</td>\n",
       "      <td>0.000069</td>\n",
       "      <td>0.000000</td>\n",
       "      <td>0.050605</td>\n",
       "      <td>0.056714</td>\n",
       "      <td>0.053451</td>\n",
       "      <td>0.002529</td>\n",
       "      <td>0.008073</td>\n",
       "      <td>0.013962</td>\n",
       "      <td>0.047626</td>\n",
       "      <td>0.000635</td>\n",
       "      <td>0.025063</td>\n",
       "    </tr>\n",
       "    <tr>\n",
       "      <th>3</th>\n",
       "      <td>0.012665</td>\n",
       "      <td>0.111985</td>\n",
       "      <td>0.012575</td>\n",
       "      <td>0.006055</td>\n",
       "      <td>0.006337</td>\n",
       "      <td>0.025714</td>\n",
       "      <td>0.000653</td>\n",
       "      <td>0.001460</td>\n",
       "      <td>0.000920</td>\n",
       "      <td>0.000390</td>\n",
       "      <td>0.051683</td>\n",
       "      <td>0.057421</td>\n",
       "      <td>0.005866</td>\n",
       "      <td>0.001030</td>\n",
       "      <td>0.004480</td>\n",
       "      <td>0.000905</td>\n",
       "      <td>0.005735</td>\n",
       "      <td>0.000000</td>\n",
       "      <td>0.025900</td>\n",
       "    </tr>\n",
       "    <tr>\n",
       "      <th>4</th>\n",
       "      <td>0.001342</td>\n",
       "      <td>0.089947</td>\n",
       "      <td>0.003003</td>\n",
       "      <td>0.004951</td>\n",
       "      <td>0.013356</td>\n",
       "      <td>0.048728</td>\n",
       "      <td>0.045148</td>\n",
       "      <td>0.038191</td>\n",
       "      <td>0.060810</td>\n",
       "      <td>0.066816</td>\n",
       "      <td>0.104361</td>\n",
       "      <td>0.106649</td>\n",
       "      <td>0.020290</td>\n",
       "      <td>0.000343</td>\n",
       "      <td>0.001007</td>\n",
       "      <td>0.000680</td>\n",
       "      <td>0.019171</td>\n",
       "      <td>0.001054</td>\n",
       "      <td>0.026067</td>\n",
       "    </tr>\n",
       "    <tr>\n",
       "      <th>...</th>\n",
       "      <td>...</td>\n",
       "      <td>...</td>\n",
       "      <td>...</td>\n",
       "      <td>...</td>\n",
       "      <td>...</td>\n",
       "      <td>...</td>\n",
       "      <td>...</td>\n",
       "      <td>...</td>\n",
       "      <td>...</td>\n",
       "      <td>...</td>\n",
       "      <td>...</td>\n",
       "      <td>...</td>\n",
       "      <td>...</td>\n",
       "      <td>...</td>\n",
       "      <td>...</td>\n",
       "      <td>...</td>\n",
       "      <td>...</td>\n",
       "      <td>...</td>\n",
       "      <td>...</td>\n",
       "    </tr>\n",
       "    <tr>\n",
       "      <th>950</th>\n",
       "      <td>0.003721</td>\n",
       "      <td>0.128138</td>\n",
       "      <td>0.000653</td>\n",
       "      <td>0.005986</td>\n",
       "      <td>0.002995</td>\n",
       "      <td>0.010112</td>\n",
       "      <td>0.019499</td>\n",
       "      <td>0.026000</td>\n",
       "      <td>0.016750</td>\n",
       "      <td>0.034725</td>\n",
       "      <td>0.057962</td>\n",
       "      <td>0.060142</td>\n",
       "      <td>0.116603</td>\n",
       "      <td>0.006196</td>\n",
       "      <td>0.001500</td>\n",
       "      <td>0.005767</td>\n",
       "      <td>0.124190</td>\n",
       "      <td>0.003019</td>\n",
       "      <td>0.994937</td>\n",
       "    </tr>\n",
       "    <tr>\n",
       "      <th>951</th>\n",
       "      <td>0.020107</td>\n",
       "      <td>0.393848</td>\n",
       "      <td>0.005631</td>\n",
       "      <td>0.009599</td>\n",
       "      <td>0.000840</td>\n",
       "      <td>0.002876</td>\n",
       "      <td>0.068557</td>\n",
       "      <td>0.013619</td>\n",
       "      <td>0.013675</td>\n",
       "      <td>0.045882</td>\n",
       "      <td>0.069570</td>\n",
       "      <td>0.070426</td>\n",
       "      <td>0.030981</td>\n",
       "      <td>0.008798</td>\n",
       "      <td>0.009452</td>\n",
       "      <td>0.009732</td>\n",
       "      <td>0.022609</td>\n",
       "      <td>0.000000</td>\n",
       "      <td>0.994937</td>\n",
       "    </tr>\n",
       "    <tr>\n",
       "      <th>952</th>\n",
       "      <td>0.004492</td>\n",
       "      <td>0.189578</td>\n",
       "      <td>0.000418</td>\n",
       "      <td>0.000341</td>\n",
       "      <td>0.001431</td>\n",
       "      <td>0.004459</td>\n",
       "      <td>0.015814</td>\n",
       "      <td>0.020245</td>\n",
       "      <td>0.016085</td>\n",
       "      <td>0.019500</td>\n",
       "      <td>0.054473</td>\n",
       "      <td>0.062661</td>\n",
       "      <td>0.012181</td>\n",
       "      <td>0.000731</td>\n",
       "      <td>0.000634</td>\n",
       "      <td>0.000259</td>\n",
       "      <td>0.011115</td>\n",
       "      <td>0.002166</td>\n",
       "      <td>1.000000</td>\n",
       "    </tr>\n",
       "    <tr>\n",
       "      <th>953</th>\n",
       "      <td>0.004262</td>\n",
       "      <td>0.173487</td>\n",
       "      <td>0.001377</td>\n",
       "      <td>0.000548</td>\n",
       "      <td>0.000609</td>\n",
       "      <td>0.002359</td>\n",
       "      <td>0.003538</td>\n",
       "      <td>0.006409</td>\n",
       "      <td>0.003937</td>\n",
       "      <td>0.001954</td>\n",
       "      <td>0.052720</td>\n",
       "      <td>0.064235</td>\n",
       "      <td>0.005367</td>\n",
       "      <td>0.000273</td>\n",
       "      <td>0.002439</td>\n",
       "      <td>0.000455</td>\n",
       "      <td>0.004281</td>\n",
       "      <td>0.000536</td>\n",
       "      <td>1.000000</td>\n",
       "    </tr>\n",
       "    <tr>\n",
       "      <th>954</th>\n",
       "      <td>0.004847</td>\n",
       "      <td>0.204166</td>\n",
       "      <td>0.003655</td>\n",
       "      <td>0.001171</td>\n",
       "      <td>0.016462</td>\n",
       "      <td>0.025004</td>\n",
       "      <td>0.015750</td>\n",
       "      <td>0.047997</td>\n",
       "      <td>0.016341</td>\n",
       "      <td>0.022486</td>\n",
       "      <td>0.060613</td>\n",
       "      <td>0.064506</td>\n",
       "      <td>0.003483</td>\n",
       "      <td>0.000189</td>\n",
       "      <td>0.000786</td>\n",
       "      <td>0.000097</td>\n",
       "      <td>0.003045</td>\n",
       "      <td>0.043058</td>\n",
       "      <td>1.000000</td>\n",
       "    </tr>\n",
       "  </tbody>\n",
       "</table>\n",
       "<p>955 rows × 19 columns</p>\n",
       "</div>"
      ],
      "text/plain": [
       "      상장주식수_s     등락률_s   거래량_x_s  거래대금_x_s  온실가스 배출량(tCO2-eq)_s  \\\n",
       "0    0.004819  0.190183  0.003631  0.010860             0.001123   \n",
       "1    0.002911  0.129244  0.003134  0.009055             0.016462   \n",
       "2    0.003397  0.055074  0.003400  0.012056             0.006337   \n",
       "3    0.012665  0.111985  0.012575  0.006055             0.006337   \n",
       "4    0.001342  0.089947  0.003003  0.004951             0.013356   \n",
       "..        ...       ...       ...       ...                  ...   \n",
       "950  0.003721  0.128138  0.000653  0.005986             0.002995   \n",
       "951  0.020107  0.393848  0.005631  0.009599             0.000840   \n",
       "952  0.004492  0.189578  0.000418  0.000341             0.001431   \n",
       "953  0.004262  0.173487  0.001377  0.000548             0.000609   \n",
       "954  0.004847  0.204166  0.003655  0.001171             0.016462   \n",
       "\n",
       "     에너지 사용량(TJ)_s    자산총계_s     자본금_s    자본총계_s     매출액_s    영업이익_s  \\\n",
       "0         0.003644  0.001170  0.003109  0.001530  0.001511  0.053725   \n",
       "1         0.025004  0.001227  0.001797  0.001526  0.004093  0.052008   \n",
       "2         0.025714  0.000247  0.002090  0.000069  0.000000  0.050605   \n",
       "3         0.025714  0.000653  0.001460  0.000920  0.000390  0.051683   \n",
       "4         0.048728  0.045148  0.038191  0.060810  0.066816  0.104361   \n",
       "..             ...       ...       ...       ...       ...       ...   \n",
       "950       0.010112  0.019499  0.026000  0.016750  0.034725  0.057962   \n",
       "951       0.002876  0.068557  0.013619  0.013675  0.045882  0.069570   \n",
       "952       0.004459  0.015814  0.020245  0.016085  0.019500  0.054473   \n",
       "953       0.002359  0.003538  0.006409  0.003937  0.001954  0.052720   \n",
       "954       0.025004  0.015750  0.047997  0.016341  0.022486  0.060613   \n",
       "\n",
       "        순이익_s      종가_s    시가총액_s   거래량_y_s  거래대금_y_s  기준가&종가 평균_s  \\\n",
       "0    0.059181  0.049374  0.003360  0.005959  0.009753     0.034683   \n",
       "1    0.058045  0.051458  0.002123  0.009762  0.016548     0.038411   \n",
       "2    0.056714  0.053451  0.002529  0.008073  0.013962     0.047626   \n",
       "3    0.057421  0.005866  0.001030  0.004480  0.000905     0.005735   \n",
       "4    0.106649  0.020290  0.000343  0.001007  0.000680     0.019171   \n",
       "..        ...       ...       ...       ...       ...          ...   \n",
       "950  0.060142  0.116603  0.006196  0.001500  0.005767     0.124190   \n",
       "951  0.070426  0.030981  0.008798  0.009452  0.009732     0.022609   \n",
       "952  0.062661  0.012181  0.000731  0.000634  0.000259     0.011115   \n",
       "953  0.064235  0.005367  0.000273  0.002439  0.000455     0.004281   \n",
       "954  0.064506  0.003483  0.000189  0.000786  0.000097     0.003045   \n",
       "\n",
       "     온실가스/매출액_s    상장기간_s  \n",
       "0      0.026214  0.000000  \n",
       "1      0.000000  0.001423  \n",
       "2      0.000635  0.025063  \n",
       "3      0.000000  0.025900  \n",
       "4      0.001054  0.026067  \n",
       "..          ...       ...  \n",
       "950    0.003019  0.994937  \n",
       "951    0.000000  0.994937  \n",
       "952    0.002166  1.000000  \n",
       "953    0.000536  1.000000  \n",
       "954    0.043058  1.000000  \n",
       "\n",
       "[955 rows x 19 columns]"
      ]
     },
     "execution_count": 54,
     "metadata": {},
     "output_type": "execute_result"
    }
   ],
   "source": [
    "scale"
   ]
  },
  {
   "cell_type": "code",
   "execution_count": 55,
   "metadata": {},
   "outputs": [],
   "source": [
    "df2 = pd.concat([df,scale], axis=1)"
   ]
  },
  {
   "cell_type": "code",
   "execution_count": 56,
   "metadata": {},
   "outputs": [
    {
     "name": "stdout",
     "output_type": "stream",
     "text": [
      "<class 'pandas.core.frame.DataFrame'>\n",
      "RangeIndex: 955 entries, 0 to 954\n",
      "Data columns (total 49 columns):\n",
      " #   Column               Non-Null Count  Dtype  \n",
      "---  ------               --------------  -----  \n",
      " 0   회사명                  955 non-null    object \n",
      " 1   종목코드                 955 non-null    int64  \n",
      " 2   업종                   955 non-null    object \n",
      " 3   지역                   955 non-null    object \n",
      " 4   시장구분                 955 non-null    object \n",
      " 5   상장주식수                955 non-null    int64  \n",
      " 6   ESG등급                955 non-null    object \n",
      " 7   환경                   955 non-null    object \n",
      " 8   사회                   955 non-null    object \n",
      " 9   지배구조                 955 non-null    object \n",
      " 10  등락률                  955 non-null    float64\n",
      " 11  거래량_x                955 non-null    float64\n",
      " 12  거래대금_x               955 non-null    float64\n",
      " 13  온실가스 배출량(tCO2-eq)    955 non-null    float64\n",
      " 14  에너지 사용량(TJ)          955 non-null    float64\n",
      " 15  자산총계                 955 non-null    float64\n",
      " 16  자본금                  955 non-null    float64\n",
      " 17  자본총계                 955 non-null    float64\n",
      " 18  매출액                  955 non-null    float64\n",
      " 19  영업이익                 955 non-null    float64\n",
      " 20  순이익                  955 non-null    float64\n",
      " 21  종가                   955 non-null    float64\n",
      " 22  시가총액                 955 non-null    float64\n",
      " 23  거래량_y                955 non-null    float64\n",
      " 24  거래대금_y               955 non-null    float64\n",
      " 25  총개수                  955 non-null    float64\n",
      " 26  기준가&종가 평균            955 non-null    float64\n",
      " 27  업종 대분류               955 non-null    object \n",
      " 28  온실가스/매출액             955 non-null    float64\n",
      " 29  상장기간                 955 non-null    object \n",
      " 30  상장주식수_s              955 non-null    float64\n",
      " 31  등락률_s                955 non-null    float64\n",
      " 32  거래량_x_s              955 non-null    float64\n",
      " 33  거래대금_x_s             955 non-null    float64\n",
      " 34  온실가스 배출량(tCO2-eq)_s  955 non-null    float64\n",
      " 35  에너지 사용량(TJ)_s        955 non-null    float64\n",
      " 36  자산총계_s               955 non-null    float64\n",
      " 37  자본금_s                955 non-null    float64\n",
      " 38  자본총계_s               955 non-null    float64\n",
      " 39  매출액_s                955 non-null    float64\n",
      " 40  영업이익_s               955 non-null    float64\n",
      " 41  순이익_s                955 non-null    float64\n",
      " 42  종가_s                 955 non-null    float64\n",
      " 43  시가총액_s               955 non-null    float64\n",
      " 44  거래량_y_s              955 non-null    float64\n",
      " 45  거래대금_y_s             955 non-null    float64\n",
      " 46  기준가&종가 평균_s          955 non-null    float64\n",
      " 47  온실가스/매출액_s           955 non-null    float64\n",
      " 48  상장기간_s               955 non-null    float64\n",
      "dtypes: float64(37), int64(2), object(10)\n",
      "memory usage: 365.7+ KB\n"
     ]
    }
   ],
   "source": [
    "df2.info()"
   ]
  },
  {
   "cell_type": "code",
   "execution_count": 57,
   "metadata": {},
   "outputs": [],
   "source": [
    "# 클러스터링 돌릴 열들만 선택\n",
    "data = df2.iloc[:,[2,3,4,6,7,8,9,25,30,31,32,33,34,35,36,37,38,39,40,41,42,43,44,45,46,47,48]]"
   ]
  },
  {
   "cell_type": "code",
   "execution_count": 58,
   "metadata": {},
   "outputs": [
    {
     "name": "stdout",
     "output_type": "stream",
     "text": [
      "<class 'pandas.core.frame.DataFrame'>\n",
      "RangeIndex: 955 entries, 0 to 954\n",
      "Data columns (total 27 columns):\n",
      " #   Column               Non-Null Count  Dtype  \n",
      "---  ------               --------------  -----  \n",
      " 0   업종                   955 non-null    object \n",
      " 1   지역                   955 non-null    object \n",
      " 2   시장구분                 955 non-null    object \n",
      " 3   ESG등급                955 non-null    object \n",
      " 4   환경                   955 non-null    object \n",
      " 5   사회                   955 non-null    object \n",
      " 6   지배구조                 955 non-null    object \n",
      " 7   총개수                  955 non-null    float64\n",
      " 8   상장주식수_s              955 non-null    float64\n",
      " 9   등락률_s                955 non-null    float64\n",
      " 10  거래량_x_s              955 non-null    float64\n",
      " 11  거래대금_x_s             955 non-null    float64\n",
      " 12  온실가스 배출량(tCO2-eq)_s  955 non-null    float64\n",
      " 13  에너지 사용량(TJ)_s        955 non-null    float64\n",
      " 14  자산총계_s               955 non-null    float64\n",
      " 15  자본금_s                955 non-null    float64\n",
      " 16  자본총계_s               955 non-null    float64\n",
      " 17  매출액_s                955 non-null    float64\n",
      " 18  영업이익_s               955 non-null    float64\n",
      " 19  순이익_s                955 non-null    float64\n",
      " 20  종가_s                 955 non-null    float64\n",
      " 21  시가총액_s               955 non-null    float64\n",
      " 22  거래량_y_s              955 non-null    float64\n",
      " 23  거래대금_y_s             955 non-null    float64\n",
      " 24  기준가&종가 평균_s          955 non-null    float64\n",
      " 25  온실가스/매출액_s           955 non-null    float64\n",
      " 26  상장기간_s               955 non-null    float64\n",
      "dtypes: float64(20), object(7)\n",
      "memory usage: 201.6+ KB\n"
     ]
    }
   ],
   "source": [
    "data.info()"
   ]
  },
  {
   "cell_type": "markdown",
   "metadata": {},
   "source": [
    "### Elbow Method"
   ]
  },
  {
   "cell_type": "code",
   "execution_count": 59,
   "metadata": {},
   "outputs": [],
   "source": [
    "matrix= data.to_numpy()"
   ]
  },
  {
   "cell_type": "code",
   "execution_count": 60,
   "metadata": {},
   "outputs": [],
   "source": [
    "cost = []\n",
    "for cluster in range(2, 10):\n",
    "    try:\n",
    "        kprototype = KPrototypes(n_jobs = -1, n_clusters = cluster, init = 'Huang')\n",
    "        kprototype.fit_predict(matrix, categorical = categorical)\n",
    "        cost.append(kprototype.cost_)\n",
    "        print('Cluster initiation: {}'.format(cluster))\n",
    "    except:\n",
    "        break"
   ]
  },
  {
   "cell_type": "code",
   "execution_count": 69,
   "metadata": {},
   "outputs": [
    {
     "data": {
      "text/plain": [
       "[3222.689700075236,\n",
       " 2332.093163029004,\n",
       " 2023.9081911260594,\n",
       " 1936.0230019089477,\n",
       " 1844.483217570739,\n",
       " 1769.0878345251904,\n",
       " 1740.8610027348286,\n",
       " 1632.1220913808365]"
      ]
     },
     "execution_count": 69,
     "metadata": {},
     "output_type": "execute_result"
    }
   ],
   "source": [
    "cost"
   ]
  },
  {
   "cell_type": "code",
   "execution_count": 70,
   "metadata": {},
   "outputs": [],
   "source": [
    "df_cost = pd.DataFrame({'Cluster':range(2, 10), 'Cost':cost})"
   ]
  },
  {
   "cell_type": "code",
   "execution_count": 71,
   "metadata": {
    "scrolled": true
   },
   "outputs": [
    {
     "data": {
      "text/html": [
       "<div>\n",
       "<style scoped>\n",
       "    .dataframe tbody tr th:only-of-type {\n",
       "        vertical-align: middle;\n",
       "    }\n",
       "\n",
       "    .dataframe tbody tr th {\n",
       "        vertical-align: top;\n",
       "    }\n",
       "\n",
       "    .dataframe thead th {\n",
       "        text-align: right;\n",
       "    }\n",
       "</style>\n",
       "<table border=\"1\" class=\"dataframe\">\n",
       "  <thead>\n",
       "    <tr style=\"text-align: right;\">\n",
       "      <th></th>\n",
       "      <th>Cluster</th>\n",
       "      <th>Cost</th>\n",
       "    </tr>\n",
       "  </thead>\n",
       "  <tbody>\n",
       "    <tr>\n",
       "      <th>0</th>\n",
       "      <td>2</td>\n",
       "      <td>3222.689700</td>\n",
       "    </tr>\n",
       "    <tr>\n",
       "      <th>1</th>\n",
       "      <td>3</td>\n",
       "      <td>2332.093163</td>\n",
       "    </tr>\n",
       "    <tr>\n",
       "      <th>2</th>\n",
       "      <td>4</td>\n",
       "      <td>2023.908191</td>\n",
       "    </tr>\n",
       "    <tr>\n",
       "      <th>3</th>\n",
       "      <td>5</td>\n",
       "      <td>1936.023002</td>\n",
       "    </tr>\n",
       "    <tr>\n",
       "      <th>4</th>\n",
       "      <td>6</td>\n",
       "      <td>1844.483218</td>\n",
       "    </tr>\n",
       "    <tr>\n",
       "      <th>5</th>\n",
       "      <td>7</td>\n",
       "      <td>1769.087835</td>\n",
       "    </tr>\n",
       "    <tr>\n",
       "      <th>6</th>\n",
       "      <td>8</td>\n",
       "      <td>1740.861003</td>\n",
       "    </tr>\n",
       "    <tr>\n",
       "      <th>7</th>\n",
       "      <td>9</td>\n",
       "      <td>1632.122091</td>\n",
       "    </tr>\n",
       "  </tbody>\n",
       "</table>\n",
       "</div>"
      ],
      "text/plain": [
       "   Cluster         Cost\n",
       "0        2  3222.689700\n",
       "1        3  2332.093163\n",
       "2        4  2023.908191\n",
       "3        5  1936.023002\n",
       "4        6  1844.483218\n",
       "5        7  1769.087835\n",
       "6        8  1740.861003\n",
       "7        9  1632.122091"
      ]
     },
     "execution_count": 71,
     "metadata": {},
     "output_type": "execute_result"
    }
   ],
   "source": [
    "df_cost"
   ]
  },
  {
   "cell_type": "code",
   "execution_count": 72,
   "metadata": {},
   "outputs": [],
   "source": [
    "from plotnine import *\n",
    "import plotnine"
   ]
  },
  {
   "cell_type": "code",
   "execution_count": 73,
   "metadata": {
    "scrolled": false
   },
   "outputs": [
    {
     "data": {
      "image/png": "[encoded data removed]",
      "text/plain": [
       "<Figure size 800x480 with 1 Axes>"
      ]
     },
     "metadata": {
      "needs_background": "light"
     },
     "output_type": "display_data"
    },
    {
     "data": {
      "text/plain": [
       "<ggplot: (103301728049)>"
      ]
     },
     "execution_count": 73,
     "metadata": {},
     "output_type": "execute_result"
    }
   ],
   "source": [
    "plotnine.options.figure_size = (8, 4.8)\n",
    "(\n",
    "    ggplot(data = df_cost)+\n",
    "    geom_line(aes(x = 'Cluster',\n",
    "                  y = 'Cost'))+\n",
    "    geom_point(aes(x = 'Cluster',\n",
    "                   y = 'Cost'))+\n",
    "    geom_label(aes(x = 'Cluster',\n",
    "                   y = 'Cost',\n",
    "                   label = 'Cluster'),\n",
    "               size = 10,\n",
    "               nudge_y = 1000) +\n",
    "    labs(title = 'Optimal number of cluster with Elbow Method')+\n",
    "    xlab('Number of Clusters k')+\n",
    "    ylab('Cost')+\n",
    "    theme_minimal()\n",
    ")"
   ]
  },
  {
   "cell_type": "markdown",
   "metadata": {},
   "source": [
    "> 최적의 군집 개수는 3개"
   ]
  },
  {
   "cell_type": "markdown",
   "metadata": {},
   "source": [
    "### clustering"
   ]
  },
  {
   "cell_type": "markdown",
   "metadata": {},
   "source": [
    "#### 클러스터 6개로"
   ]
  },
  {
   "cell_type": "code",
   "execution_count": 48,
   "metadata": {},
   "outputs": [],
   "source": [
    "from kmodes.kprototypes import KPrototypes"
   ]
  },
  {
   "cell_type": "code",
   "execution_count": 86,
   "metadata": {},
   "outputs": [
    {
     "name": "stdout",
     "output_type": "stream",
     "text": [
      "<class 'pandas.core.frame.DataFrame'>\n",
      "RangeIndex: 955 entries, 0 to 954\n",
      "Data columns (total 27 columns):\n",
      " #   Column               Non-Null Count  Dtype  \n",
      "---  ------               --------------  -----  \n",
      " 0   업종                   955 non-null    object \n",
      " 1   지역                   955 non-null    object \n",
      " 2   시장구분                 955 non-null    object \n",
      " 3   ESG등급                955 non-null    object \n",
      " 4   환경                   955 non-null    object \n",
      " 5   사회                   955 non-null    object \n",
      " 6   지배구조                 955 non-null    object \n",
      " 7   총개수                  955 non-null    float64\n",
      " 8   상장주식수_s              955 non-null    float64\n",
      " 9   등락률_s                955 non-null    float64\n",
      " 10  거래량_x_s              955 non-null    float64\n",
      " 11  거래대금_x_s             955 non-null    float64\n",
      " 12  온실가스 배출량(tCO2-eq)_s  955 non-null    float64\n",
      " 13  에너지 사용량(TJ)_s        955 non-null    float64\n",
      " 14  자산총계_s               955 non-null    float64\n",
      " 15  자본금_s                955 non-null    float64\n",
      " 16  자본총계_s               955 non-null    float64\n",
      " 17  매출액_s                955 non-null    float64\n",
      " 18  영업이익_s               955 non-null    float64\n",
      " 19  순이익_s                955 non-null    float64\n",
      " 20  종가_s                 955 non-null    float64\n",
      " 21  시가총액_s               955 non-null    float64\n",
      " 22  거래량_y_s              955 non-null    float64\n",
      " 23  거래대금_y_s             955 non-null    float64\n",
      " 24  기준가&종가 평균_s          955 non-null    float64\n",
      " 25  온실가스/매출액_s           955 non-null    float64\n",
      " 26  상장기간_s               955 non-null    float64\n",
      "dtypes: float64(20), object(7)\n",
      "memory usage: 201.6+ KB\n"
     ]
    }
   ],
   "source": [
    "data.info()"
   ]
  },
  {
   "cell_type": "code",
   "execution_count": 61,
   "metadata": {},
   "outputs": [],
   "source": [
    "categorical = [0,1,2,3,4,5,6]"
   ]
  },
  {
   "cell_type": "code",
   "execution_count": 62,
   "metadata": {
    "scrolled": true
   },
   "outputs": [
    {
     "data": {
      "text/plain": [
       "array([2, 2, 0, 0, 0, 0, 4, 4, 3, 3, 0, 3, 0, 0, 5, 1, 5, 2, 5, 4, 5, 0,\n",
       "       0, 0, 0, 0, 2, 0, 0, 3, 0, 0, 0, 3, 0, 4, 4, 4, 4, 4, 3, 2, 2, 5,\n",
       "       0, 0, 4, 4, 5, 3, 1, 0, 3, 2, 1, 2, 2, 2, 2, 4, 0, 5, 1, 4, 2, 3,\n",
       "       0, 4, 3, 4, 4, 4, 2, 2, 2, 5, 0, 5, 3, 4, 5, 0, 2, 3, 3, 0, 4, 3,\n",
       "       0, 3, 2, 5, 0, 4, 4, 0, 0, 0, 3, 5, 5, 0, 0, 5, 5, 5, 2, 2, 3, 5,\n",
       "       3, 4, 3, 0, 0, 0, 3, 2, 5, 3, 0, 5, 4, 5, 5, 2, 4, 0, 0, 5, 0, 4,\n",
       "       0, 5, 0, 2, 5, 4, 2, 0, 3, 2, 4, 4, 5, 0, 2, 0, 3, 4, 2, 0, 3, 0,\n",
       "       4, 5, 5, 0, 4, 0, 2, 3, 3, 1, 1, 4, 3, 3, 1, 5, 0, 5, 2, 2, 4, 2,\n",
       "       2, 3, 0, 2, 0, 0, 5, 4, 4, 5, 3, 4, 4, 2, 1, 3, 1, 2, 5, 4, 2, 2,\n",
       "       1, 0, 3, 0, 0, 2, 5, 4, 0, 4, 3, 2, 2, 2, 4, 2, 2, 1, 1, 3, 2, 2,\n",
       "       2, 5, 3, 3, 1, 2, 1, 4, 4, 4, 2, 4, 5, 4, 0, 4, 1, 2, 0, 2, 3, 3,\n",
       "       2, 0, 5, 5, 3, 0, 0, 0, 0, 0, 0, 3, 4, 2, 0, 3, 4, 2, 0, 1, 0, 0,\n",
       "       2, 1, 4, 2, 0, 4, 3, 2, 2, 4, 3, 2, 5, 5, 3, 2, 4, 2, 0, 2, 2, 5,\n",
       "       2, 0, 5, 4, 3, 3, 5, 4, 3, 3, 2, 2, 0, 5, 1, 5, 0, 1, 0, 0, 5, 2,\n",
       "       3, 2, 5, 2, 2, 2, 1, 2, 3, 0, 2, 2, 3, 3, 0, 4, 1, 0, 5, 5, 3, 2,\n",
       "       0, 2, 5, 5, 5, 5, 0, 4, 2, 2, 0, 4, 5, 2, 0, 4, 5, 1, 2, 3, 2, 2,\n",
       "       0, 3, 2, 0, 5, 2, 1, 2, 2, 1, 4, 3, 5, 3, 2, 0, 3, 3, 3, 4, 0, 2,\n",
       "       5, 2, 4, 3, 4, 1, 0, 3, 3, 2, 2, 5, 2, 2, 2, 2, 0, 0, 1, 1, 2, 0,\n",
       "       0, 1, 5, 0, 2, 3, 2, 4, 2, 2, 0, 0, 5, 4, 2, 0, 2, 4, 4, 4, 1, 1,\n",
       "       2, 3, 2, 1, 2, 2, 0, 5, 2, 3, 5, 2, 1, 0, 1, 4, 1, 2, 0, 4, 3, 2,\n",
       "       2, 2, 1, 2, 5, 3, 4, 5, 4, 4, 1, 0, 0, 2, 2, 2, 3, 1, 5, 2, 2, 0,\n",
       "       5, 5, 2, 2, 3, 2, 5, 2, 1, 0, 2, 2, 4, 2, 2, 3, 1, 3, 3, 0, 1, 2,\n",
       "       0, 3, 4, 2, 5, 3, 5, 5, 3, 0, 5, 3, 2, 3, 5, 1, 1, 2, 5, 3, 5, 5,\n",
       "       2, 4, 0, 0, 2, 2, 0, 3, 1, 5, 4, 2, 2, 2, 4, 2, 3, 3, 0, 2, 0, 3,\n",
       "       3, 3, 5, 2, 2, 3, 1, 1, 3, 2, 2, 2, 2, 2, 2, 4, 2, 2, 1, 5, 2, 3,\n",
       "       1, 2, 0, 3, 0, 2, 0, 4, 5, 4, 3, 5, 0, 2, 2, 5, 3, 2, 2, 0, 3, 2,\n",
       "       1, 2, 2, 2, 2, 2, 2, 0, 2, 2, 3, 3, 3, 3, 3, 0, 3, 3, 0, 2, 0, 2,\n",
       "       3, 5, 4, 5, 2, 0, 3, 2, 3, 0, 5, 2, 5, 2, 0, 2, 2, 2, 2, 0, 4, 4,\n",
       "       0, 2, 2, 2, 0, 2, 2, 2, 0, 2, 5, 2, 2, 3, 0, 5, 2, 2, 0, 2, 0, 5,\n",
       "       2, 2, 3, 3, 0, 3, 3, 4, 0, 2, 2, 2, 3, 2, 4, 0, 2, 0, 4, 4, 2, 1,\n",
       "       2, 2, 2, 2, 2, 5, 2, 2, 4, 0, 2, 2, 2, 5, 4, 5, 0, 2, 5, 0, 0, 0,\n",
       "       3, 5, 1, 0, 2, 3, 2, 5, 1, 2, 2, 2, 0, 5, 0, 0, 2, 3, 2, 2, 2, 0,\n",
       "       2, 3, 0, 0, 3, 2, 3, 2, 1, 4, 5, 2, 2, 4, 2, 2, 3, 0, 3, 2, 2, 2,\n",
       "       5, 5, 0, 0, 2, 0, 0, 2, 2, 0, 2, 3, 0, 0, 1, 0, 2, 2, 0, 2, 4, 4,\n",
       "       5, 4, 0, 2, 2, 3, 2, 2, 2, 5, 0, 0, 3, 3, 3, 3, 4, 2, 2, 0, 0, 2,\n",
       "       1, 5, 3, 0, 4, 2, 3, 3, 4, 4, 2, 0, 3, 1, 3, 3, 5, 2, 5, 0, 5, 3,\n",
       "       2, 5, 1, 2, 2, 3, 0, 2, 0, 5, 0, 2, 3, 5, 0, 2, 2, 2, 5, 2, 0, 1,\n",
       "       2, 1, 2, 2, 2, 0, 0, 2, 2, 0, 3, 5, 2, 3, 2, 1, 0, 1, 5, 2, 2, 2,\n",
       "       2, 1, 2, 0, 1, 3, 0, 2, 2, 2, 5, 1, 3, 5, 3, 3, 5, 2, 4, 2, 2, 4,\n",
       "       5, 3, 0, 3, 1, 5, 2, 0, 3, 3, 4, 4, 4, 2, 5, 5, 1, 2, 4, 2, 4, 5,\n",
       "       2, 2, 0, 3, 2, 2, 2, 2, 2, 4, 3, 3, 3, 0, 5, 2, 4, 4, 2, 4, 3, 3,\n",
       "       4, 2, 3, 2, 2, 2, 3, 2, 4, 4, 4, 4, 2, 4, 2, 5, 4, 4, 3, 2, 2, 1,\n",
       "       2, 3, 4, 2, 4, 4, 2, 4, 3, 5, 4, 4, 3, 2, 3, 2, 3, 4, 2, 2, 2, 4,\n",
       "       0, 4, 2, 2, 5, 3, 2, 5, 2], dtype=uint16)"
      ]
     },
     "execution_count": 62,
     "metadata": {},
     "output_type": "execute_result"
    }
   ],
   "source": [
    "kprototype = KPrototypes(n_clusters = 6, init = 'Huang')\n",
    "kprototype.fit_predict(data, categorical = categorical)"
   ]
  },
  {
   "cell_type": "code",
   "execution_count": 51,
   "metadata": {},
   "outputs": [
    {
     "data": {
      "text/plain": [
       "C     301\n",
       "B     276\n",
       "A     182\n",
       "B+    158\n",
       "D      21\n",
       "A+     17\n",
       "Name: ESG등급, dtype: int64"
      ]
     },
     "execution_count": 51,
     "metadata": {},
     "output_type": "execute_result"
    }
   ],
   "source": [
    "df['ESG등급'].value_counts()"
   ]
  },
  {
   "cell_type": "code",
   "execution_count": 65,
   "metadata": {},
   "outputs": [],
   "source": [
    "df['Cluster Labels'] = kprototype.labels_"
   ]
  },
  {
   "cell_type": "code",
   "execution_count": 66,
   "metadata": {
    "scrolled": true
   },
   "outputs": [
    {
     "data": {
      "text/plain": [
       "2    302\n",
       "0    181\n",
       "3    156\n",
       "4    126\n",
       "5    124\n",
       "1     66\n",
       "Name: Cluster Labels, dtype: int64"
      ]
     },
     "execution_count": 66,
     "metadata": {},
     "output_type": "execute_result"
    }
   ],
   "source": [
    "df['Cluster Labels'].value_counts()"
   ]
  },
  {
   "cell_type": "code",
   "execution_count": 67,
   "metadata": {},
   "outputs": [
    {
     "data": {
      "text/plain": [
       "array([4, 4, 5, 5, 5, 5, 3, 3, 5, 0, 5, 3, 5, 5, 2, 1, 2, 0, 2, 3, 2, 5,\n",
       "       0, 5, 5, 5, 0, 5, 5, 5, 5, 5, 5, 5, 5, 3, 0, 3, 3, 3, 0, 4, 4, 2,\n",
       "       0, 5, 3, 3, 2, 3, 1, 5, 5, 0, 1, 4, 4, 0, 0, 0, 5, 2, 1, 3, 4, 5,\n",
       "       5, 3, 5, 3, 3, 3, 4, 4, 4, 2, 5, 2, 3, 3, 2, 5, 0, 5, 3, 5, 3, 5,\n",
       "       5, 5, 4, 2, 5, 3, 3, 5, 5, 5, 5, 2, 2, 5, 5, 2, 2, 2, 0, 4, 5, 2,\n",
       "       0, 3, 0, 5, 5, 0, 5, 4, 2, 5, 5, 2, 3, 2, 2, 0, 3, 5, 5, 2, 5, 3,\n",
       "       5, 2, 5, 4, 2, 3, 0, 5, 5, 0, 3, 3, 2, 5, 4, 0, 3, 0, 4, 5, 3, 5,\n",
       "       3, 2, 2, 5, 3, 5, 0, 5, 5, 1, 1, 3, 5, 5, 1, 2, 5, 2, 4, 4, 3, 0,\n",
       "       4, 5, 5, 4, 5, 5, 2, 3, 3, 2, 5, 3, 3, 4, 1, 5, 1, 0, 2, 3, 4, 4,\n",
       "       1, 5, 5, 5, 5, 0, 2, 3, 5, 3, 0, 0, 4, 4, 3, 4, 4, 1, 1, 5, 0, 0,\n",
       "       4, 2, 5, 5, 1, 4, 1, 3, 3, 3, 0, 3, 2, 3, 5, 3, 1, 0, 0, 0, 0, 5,\n",
       "       0, 5, 2, 2, 5, 5, 5, 5, 0, 5, 5, 0, 3, 4, 5, 5, 3, 0, 5, 1, 5, 5,\n",
       "       0, 1, 3, 4, 5, 3, 5, 4, 4, 0, 5, 4, 2, 2, 5, 0, 3, 4, 5, 0, 4, 2,\n",
       "       0, 5, 2, 3, 5, 5, 2, 3, 3, 0, 4, 0, 5, 2, 1, 2, 5, 1, 5, 0, 2, 0,\n",
       "       5, 4, 2, 4, 0, 0, 1, 4, 5, 5, 4, 0, 5, 5, 5, 3, 1, 0, 2, 2, 3, 4,\n",
       "       5, 4, 2, 2, 2, 2, 5, 3, 4, 4, 5, 3, 2, 4, 5, 3, 2, 1, 4, 5, 4, 4,\n",
       "       0, 5, 0, 5, 2, 0, 1, 0, 4, 1, 3, 5, 2, 5, 4, 5, 5, 5, 3, 3, 5, 4,\n",
       "       2, 0, 3, 3, 3, 1, 5, 5, 5, 4, 0, 2, 0, 0, 0, 0, 5, 5, 1, 1, 4, 5,\n",
       "       5, 1, 2, 5, 4, 5, 0, 3, 4, 0, 0, 5, 2, 3, 4, 5, 4, 0, 0, 0, 1, 1,\n",
       "       0, 0, 4, 1, 0, 0, 5, 2, 0, 3, 2, 0, 1, 0, 1, 3, 1, 0, 0, 3, 5, 0,\n",
       "       4, 0, 1, 0, 2, 5, 3, 2, 3, 3, 1, 5, 5, 4, 4, 0, 5, 1, 2, 0, 4, 5,\n",
       "       2, 2, 4, 4, 5, 0, 2, 0, 1, 5, 4, 0, 3, 4, 0, 5, 1, 5, 5, 5, 1, 4,\n",
       "       0, 5, 3, 4, 2, 5, 2, 2, 5, 5, 2, 5, 0, 5, 2, 1, 1, 0, 2, 0, 3, 2,\n",
       "       0, 3, 0, 5, 4, 4, 5, 5, 1, 2, 3, 4, 0, 4, 3, 4, 5, 5, 5, 4, 5, 5,\n",
       "       3, 5, 2, 4, 4, 5, 1, 1, 5, 0, 0, 4, 0, 4, 0, 3, 4, 0, 1, 2, 4, 0,\n",
       "       1, 0, 5, 5, 5, 0, 5, 3, 2, 3, 3, 2, 5, 4, 4, 2, 5, 4, 4, 5, 5, 4,\n",
       "       1, 4, 4, 4, 4, 4, 0, 5, 4, 4, 5, 5, 5, 3, 5, 5, 5, 0, 5, 4, 0, 0,\n",
       "       5, 2, 3, 2, 0, 5, 5, 4, 3, 5, 2, 0, 2, 4, 5, 4, 0, 0, 0, 5, 3, 3,\n",
       "       5, 4, 4, 0, 5, 4, 4, 4, 5, 0, 2, 4, 0, 5, 5, 2, 4, 0, 5, 4, 5, 2,\n",
       "       4, 4, 5, 3, 5, 5, 5, 3, 5, 4, 0, 4, 5, 4, 0, 5, 4, 5, 3, 0, 4, 1,\n",
       "       0, 4, 0, 0, 0, 2, 0, 4, 3, 5, 4, 0, 4, 2, 3, 2, 5, 4, 2, 5, 5, 5,\n",
       "       3, 2, 1, 5, 4, 5, 4, 2, 1, 0, 0, 0, 5, 2, 5, 5, 4, 5, 4, 4, 0, 5,\n",
       "       4, 5, 5, 5, 5, 0, 5, 4, 1, 3, 2, 0, 0, 3, 4, 0, 5, 5, 5, 0, 0, 4,\n",
       "       2, 2, 5, 0, 4, 5, 3, 4, 0, 5, 0, 5, 5, 5, 1, 5, 4, 0, 5, 0, 3, 3,\n",
       "       2, 3, 5, 4, 0, 5, 4, 4, 4, 2, 5, 3, 5, 5, 5, 5, 3, 0, 0, 5, 5, 4,\n",
       "       1, 2, 5, 5, 0, 4, 5, 5, 3, 3, 0, 5, 0, 1, 5, 3, 2, 4, 2, 5, 2, 0,\n",
       "       0, 2, 1, 4, 0, 5, 5, 4, 5, 2, 5, 4, 5, 2, 5, 4, 0, 0, 2, 4, 0, 1,\n",
       "       0, 1, 4, 0, 4, 5, 5, 4, 0, 5, 5, 2, 4, 5, 4, 1, 5, 1, 2, 4, 0, 0,\n",
       "       0, 1, 4, 5, 1, 5, 5, 0, 4, 4, 2, 1, 5, 2, 5, 5, 2, 0, 3, 0, 4, 3,\n",
       "       2, 5, 5, 5, 1, 2, 0, 5, 5, 5, 3, 3, 3, 0, 2, 2, 1, 4, 3, 4, 3, 2,\n",
       "       4, 4, 5, 5, 4, 4, 4, 4, 0, 3, 5, 5, 5, 5, 2, 0, 3, 3, 4, 3, 5, 5,\n",
       "       3, 4, 5, 4, 4, 0, 5, 0, 3, 3, 3, 3, 4, 3, 0, 2, 3, 3, 5, 4, 4, 1,\n",
       "       4, 3, 3, 4, 3, 3, 4, 3, 5, 2, 3, 3, 3, 4, 5, 4, 5, 3, 0, 4, 4, 3,\n",
       "       5, 3, 0, 0, 2, 5, 4, 2, 0], dtype=uint16)"
      ]
     },
     "execution_count": 67,
     "metadata": {},
     "output_type": "execute_result"
    }
   ],
   "source": [
    "kprototype = KPrototypes(n_clusters = 6, init = 'Huang')\n",
    "kprototype.fit_predict(data, categorical = categorical)"
   ]
  },
  {
   "cell_type": "code",
   "execution_count": 68,
   "metadata": {},
   "outputs": [],
   "source": [
    "df['Cluster Labels'] = kprototype.labels_"
   ]
  },
  {
   "cell_type": "code",
   "execution_count": 69,
   "metadata": {
    "scrolled": true
   },
   "outputs": [
    {
     "data": {
      "text/plain": [
       "5    284\n",
       "4    174\n",
       "0    169\n",
       "3    139\n",
       "2    123\n",
       "1     66\n",
       "Name: Cluster Labels, dtype: int64"
      ]
     },
     "execution_count": 69,
     "metadata": {},
     "output_type": "execute_result"
    }
   ],
   "source": [
    "df['Cluster Labels'].value_counts()"
   ]
  },
  {
   "cell_type": "code",
   "execution_count": null,
   "metadata": {},
   "outputs": [],
   "source": []
  },
  {
   "cell_type": "code",
   "execution_count": null,
   "metadata": {},
   "outputs": [],
   "source": []
  },
  {
   "cell_type": "code",
   "execution_count": null,
   "metadata": {},
   "outputs": [],
   "source": []
  },
  {
   "cell_type": "code",
   "execution_count": 91,
   "metadata": {},
   "outputs": [],
   "source": [
    "d0 = df[df['Cluster Labels']==0]\n",
    "d1 = df[df['Cluster Labels']==1]\n",
    "d2 = df[df['Cluster Labels']==2]\n",
    "d3 = df[df['Cluster Labels']==3]\n",
    "d4 = df[df['Cluster Labels']==4]\n",
    "d5 = df[df['Cluster Labels']==5]"
   ]
  },
  {
   "cell_type": "code",
   "execution_count": 92,
   "metadata": {},
   "outputs": [
    {
     "name": "stdout",
     "output_type": "stream",
     "text": [
      "d0:\n",
      " C     0.422764\n",
      "B     0.341463\n",
      "B+    0.130081\n",
      "A     0.089431\n",
      "D     0.008130\n",
      "A+    0.008130\n",
      "Name: ESG등급, dtype: float64\n",
      "----------\n",
      "d1:\n",
      " C     0.442446\n",
      "B     0.280576\n",
      "B+    0.241007\n",
      "D     0.032374\n",
      "A+    0.003597\n",
      "Name: ESG등급, dtype: float64\n",
      "----------\n",
      "d2:\n",
      " B     0.419355\n",
      "C     0.295699\n",
      "A     0.134409\n",
      "B+    0.123656\n",
      "D     0.016129\n",
      "A+    0.010753\n",
      "Name: ESG등급, dtype: float64\n",
      "----------\n",
      "d3:\n",
      " B     0.439394\n",
      "B+    0.212121\n",
      "A     0.166667\n",
      "C     0.151515\n",
      "D     0.030303\n",
      "Name: ESG등급, dtype: float64\n",
      "----------\n",
      "d4:\n",
      " A     0.751825\n",
      "B+    0.131387\n",
      "A+    0.094891\n",
      "B     0.021898\n",
      "Name: ESG등급, dtype: float64\n",
      "----------\n",
      "d5:\n",
      " C     0.369697\n",
      "B     0.278788\n",
      "A     0.193939\n",
      "B+    0.121212\n",
      "D     0.036364\n",
      "Name: ESG등급, dtype: float64\n",
      "----------\n"
     ]
    }
   ],
   "source": [
    "print('d0:\\n',d0['ESG등급'].value_counts(normalize=True))\n",
    "print('-'*10)\n",
    "print('d1:\\n',d1['ESG등급'].value_counts(normalize=True))\n",
    "print('-'*10)\n",
    "print('d2:\\n',d2['ESG등급'].value_counts(normalize=True))\n",
    "print('-'*10)\n",
    "print('d3:\\n',d3['ESG등급'].value_counts(normalize=True))\n",
    "print('-'*10)\n",
    "print('d4:\\n',d4['ESG등급'].value_counts(normalize=True))\n",
    "print('-'*10)\n",
    "print('d5:\\n',d5['ESG등급'].value_counts(normalize=True))\n",
    "print('-'*10)"
   ]
  },
  {
   "cell_type": "markdown",
   "metadata": {},
   "source": [
    "#### 클러스터 3개로 다시"
   ]
  },
  {
   "cell_type": "code",
   "execution_count": 91,
   "metadata": {},
   "outputs": [
    {
     "name": "stdout",
     "output_type": "stream",
     "text": [
      "<class 'pandas.core.frame.DataFrame'>\n",
      "Int64Index: 1751 entries, 0 to 2499\n",
      "Data columns (total 26 columns):\n",
      " #   Column               Non-Null Count  Dtype  \n",
      "---  ------               --------------  -----  \n",
      " 0   업종                   955 non-null    object \n",
      " 1   지역                   955 non-null    object \n",
      " 2   시장구분                 955 non-null    object \n",
      " 3   환경                   955 non-null    object \n",
      " 4   사회                   955 non-null    object \n",
      " 5   지배구조                 955 non-null    object \n",
      " 6   총개수                  955 non-null    float64\n",
      " 7   상장주식수_s              955 non-null    float64\n",
      " 8   등락률_s                955 non-null    float64\n",
      " 9   거래량_x_s              955 non-null    float64\n",
      " 10  거래대금_x_s             955 non-null    float64\n",
      " 11  온실가스 배출량(tCO2-eq)_s  955 non-null    float64\n",
      " 12  에너지 사용량(TJ)_s        955 non-null    float64\n",
      " 13  자산총계_s               955 non-null    float64\n",
      " 14  자본금_s                955 non-null    float64\n",
      " 15  자본총계_s               955 non-null    float64\n",
      " 16  매출액_s                955 non-null    float64\n",
      " 17  영업이익_s               955 non-null    float64\n",
      " 18  순이익_s                955 non-null    float64\n",
      " 19  종가_s                 955 non-null    float64\n",
      " 20  시가총액_s               955 non-null    float64\n",
      " 21  거래량_y_s              955 non-null    float64\n",
      " 22  거래대금_y_s             955 non-null    float64\n",
      " 23  기준가&종가 평균_s          955 non-null    float64\n",
      " 24  온실가스/매출액_s           955 non-null    float64\n",
      " 25  상장기간_s               955 non-null    float64\n",
      "dtypes: float64(20), object(6)\n",
      "memory usage: 369.4+ KB\n"
     ]
    }
   ],
   "source": [
    "data.info()"
   ]
  },
  {
   "cell_type": "code",
   "execution_count": 93,
   "metadata": {},
   "outputs": [],
   "source": [
    "categorical = [0,1,2,3,4,5,6]"
   ]
  },
  {
   "cell_type": "code",
   "execution_count": 94,
   "metadata": {
    "scrolled": true
   },
   "outputs": [
    {
     "data": {
      "text/plain": [
       "array([1, 1, 0, 0, 0, 0, 0, 0, 0, 0, 0, 0, 0, 0, 2, 2, 2, 1, 2, 0, 2, 0,\n",
       "       0, 0, 0, 0, 1, 0, 0, 0, 0, 0, 0, 0, 0, 0, 1, 0, 0, 0, 0, 1, 1, 2,\n",
       "       0, 0, 0, 1, 0, 0, 2, 0, 0, 1, 2, 1, 1, 1, 1, 1, 0, 0, 2, 0, 1, 0,\n",
       "       0, 0, 0, 0, 0, 0, 1, 1, 1, 0, 0, 0, 0, 0, 0, 0, 1, 0, 0, 0, 0, 0,\n",
       "       0, 0, 1, 2, 0, 0, 0, 0, 0, 0, 0, 2, 2, 0, 0, 2, 2, 2, 1, 1, 0, 0,\n",
       "       1, 0, 0, 0, 0, 0, 0, 1, 2, 0, 0, 2, 0, 2, 0, 1, 1, 0, 0, 0, 0, 1,\n",
       "       0, 0, 0, 1, 0, 0, 1, 0, 0, 1, 0, 0, 2, 0, 1, 1, 0, 1, 1, 0, 0, 0,\n",
       "       0, 0, 2, 0, 0, 0, 1, 0, 0, 2, 2, 0, 0, 0, 2, 2, 0, 2, 1, 1, 0, 1,\n",
       "       1, 0, 0, 1, 0, 0, 0, 0, 1, 2, 0, 1, 0, 1, 2, 0, 2, 1, 0, 0, 1, 1,\n",
       "       2, 0, 0, 0, 0, 1, 2, 0, 0, 0, 0, 1, 1, 1, 0, 1, 1, 2, 2, 0, 1, 1,\n",
       "       1, 2, 0, 0, 2, 1, 2, 0, 0, 0, 1, 0, 2, 0, 0, 0, 2, 1, 1, 1, 0, 0,\n",
       "       1, 0, 2, 2, 0, 0, 0, 0, 0, 0, 0, 1, 0, 1, 0, 0, 0, 1, 0, 2, 0, 0,\n",
       "       1, 2, 0, 1, 0, 0, 0, 1, 1, 1, 0, 1, 2, 2, 0, 1, 0, 1, 0, 1, 1, 2,\n",
       "       1, 0, 0, 0, 0, 0, 0, 0, 0, 0, 1, 1, 0, 2, 2, 2, 0, 2, 0, 0, 2, 1,\n",
       "       0, 1, 2, 1, 1, 1, 2, 1, 0, 0, 1, 1, 0, 0, 0, 0, 2, 0, 0, 0, 0, 1,\n",
       "       0, 1, 0, 0, 0, 2, 0, 0, 1, 1, 0, 0, 2, 1, 0, 0, 0, 2, 1, 0, 1, 1,\n",
       "       0, 0, 1, 0, 2, 1, 2, 1, 1, 2, 0, 0, 2, 0, 1, 0, 0, 0, 0, 0, 0, 1,\n",
       "       0, 1, 0, 0, 0, 2, 0, 0, 0, 1, 1, 0, 1, 1, 1, 1, 0, 0, 2, 2, 1, 0,\n",
       "       0, 2, 0, 0, 1, 0, 1, 0, 1, 1, 1, 0, 0, 0, 1, 0, 1, 1, 1, 1, 2, 2,\n",
       "       1, 0, 1, 2, 1, 1, 0, 2, 1, 0, 2, 1, 2, 0, 2, 0, 2, 1, 0, 0, 0, 1,\n",
       "       1, 1, 2, 1, 2, 0, 0, 2, 0, 0, 2, 0, 0, 1, 1, 1, 0, 2, 2, 1, 1, 0,\n",
       "       2, 2, 1, 1, 0, 1, 0, 1, 2, 0, 1, 1, 0, 1, 1, 0, 2, 0, 0, 0, 2, 1,\n",
       "       0, 0, 0, 1, 2, 0, 2, 2, 0, 0, 2, 0, 1, 0, 2, 2, 2, 1, 2, 1, 0, 2,\n",
       "       1, 0, 0, 0, 1, 1, 0, 0, 2, 0, 0, 1, 1, 1, 0, 1, 0, 0, 0, 1, 0, 0,\n",
       "       0, 0, 2, 1, 1, 0, 2, 2, 0, 1, 1, 1, 1, 1, 1, 0, 1, 1, 2, 2, 1, 0,\n",
       "       2, 1, 0, 0, 0, 1, 0, 0, 2, 0, 0, 0, 0, 1, 1, 0, 0, 1, 1, 0, 0, 1,\n",
       "       2, 1, 1, 1, 1, 1, 1, 0, 1, 1, 0, 0, 0, 0, 0, 0, 0, 0, 0, 1, 0, 1,\n",
       "       0, 2, 0, 2, 1, 0, 0, 1, 0, 0, 0, 1, 0, 1, 0, 1, 1, 1, 1, 0, 0, 0,\n",
       "       0, 1, 1, 1, 0, 1, 1, 1, 0, 1, 2, 1, 1, 0, 0, 0, 1, 1, 0, 1, 0, 0,\n",
       "       1, 1, 0, 0, 0, 0, 0, 0, 0, 1, 1, 1, 0, 1, 1, 0, 1, 0, 0, 1, 1, 2,\n",
       "       1, 1, 1, 1, 1, 2, 1, 1, 0, 0, 1, 1, 1, 0, 0, 2, 0, 1, 0, 0, 0, 0,\n",
       "       0, 0, 2, 0, 1, 0, 1, 2, 2, 1, 1, 1, 0, 2, 0, 0, 1, 0, 1, 1, 1, 0,\n",
       "       1, 0, 0, 0, 0, 1, 0, 1, 2, 0, 2, 1, 1, 0, 1, 1, 0, 0, 0, 1, 1, 1,\n",
       "       0, 0, 0, 0, 1, 0, 0, 1, 1, 0, 1, 0, 0, 0, 2, 0, 1, 1, 0, 1, 0, 0,\n",
       "       0, 0, 0, 1, 1, 0, 1, 1, 1, 2, 0, 0, 0, 0, 0, 0, 1, 1, 1, 0, 0, 1,\n",
       "       2, 2, 0, 0, 1, 1, 0, 0, 0, 0, 1, 0, 0, 2, 0, 0, 0, 1, 2, 0, 2, 1,\n",
       "       1, 0, 2, 1, 1, 0, 0, 1, 0, 2, 0, 1, 0, 2, 0, 1, 1, 1, 2, 1, 0, 2,\n",
       "       1, 2, 1, 1, 1, 0, 0, 1, 1, 0, 0, 0, 1, 0, 1, 2, 0, 2, 0, 1, 1, 1,\n",
       "       1, 2, 1, 0, 2, 0, 0, 1, 1, 1, 2, 2, 0, 0, 0, 0, 0, 1, 0, 1, 1, 0,\n",
       "       2, 0, 0, 0, 2, 0, 1, 0, 0, 0, 0, 0, 0, 1, 0, 2, 2, 1, 0, 1, 0, 0,\n",
       "       1, 1, 0, 0, 1, 1, 1, 1, 1, 0, 0, 0, 0, 0, 2, 1, 0, 0, 1, 0, 0, 0,\n",
       "       0, 1, 0, 1, 1, 1, 0, 1, 0, 0, 0, 0, 1, 0, 1, 2, 0, 0, 0, 1, 1, 2,\n",
       "       1, 0, 0, 1, 0, 0, 1, 0, 0, 2, 0, 0, 0, 1, 0, 1, 0, 0, 1, 1, 1, 0,\n",
       "       0, 0, 1, 1, 2, 0, 1, 2, 1], dtype=uint16)"
      ]
     },
     "execution_count": 94,
     "metadata": {},
     "output_type": "execute_result"
    }
   ],
   "source": [
    "kprototype = KPrototypes(n_clusters =3, init = 'Huang')\n",
    "kprototype.fit_predict(data, categorical = categorical)"
   ]
  },
  {
   "cell_type": "code",
   "execution_count": 124,
   "metadata": {},
   "outputs": [
    {
     "data": {
      "text/plain": [
       "C     301\n",
       "B     276\n",
       "A     182\n",
       "B+    158\n",
       "D      21\n",
       "A+     17\n",
       "Name: ESG등급, dtype: int64"
      ]
     },
     "execution_count": 124,
     "metadata": {},
     "output_type": "execute_result"
    }
   ],
   "source": [
    "df['ESG등급'].value_counts()"
   ]
  },
  {
   "cell_type": "code",
   "execution_count": 95,
   "metadata": {},
   "outputs": [],
   "source": [
    "df['Cluster Labels'] = kprototype.labels_"
   ]
  },
  {
   "cell_type": "code",
   "execution_count": 96,
   "metadata": {
    "scrolled": true
   },
   "outputs": [
    {
     "data": {
      "text/plain": [
       "0    489\n",
       "1    325\n",
       "2    141\n",
       "Name: Cluster Labels, dtype: int64"
      ]
     },
     "execution_count": 96,
     "metadata": {},
     "output_type": "execute_result"
    }
   ],
   "source": [
    "df['Cluster Labels'].value_counts()"
   ]
  },
  {
   "cell_type": "code",
   "execution_count": 97,
   "metadata": {},
   "outputs": [],
   "source": [
    "d0 = df[df['Cluster Labels']==0]\n",
    "d1 = df[df['Cluster Labels']==1]\n",
    "d2 = df[df['Cluster Labels']==2]\n",
    "#d3 = df[df['Cluster Labels']==3]\n",
    "#d4 = df[df['Cluster Labels']==4]\n",
    "#d5 = df[df['Cluster Labels']==5]"
   ]
  },
  {
   "cell_type": "code",
   "execution_count": 99,
   "metadata": {},
   "outputs": [
    {
     "name": "stdout",
     "output_type": "stream",
     "text": [
      "d0:\n",
      " C     143\n",
      "B     127\n",
      "A     102\n",
      "B+     93\n",
      "A+     14\n",
      "D      10\n",
      "Name: ESG등급, dtype: int64\n",
      "----------\n",
      "d1:\n",
      " C     114\n",
      "B      98\n",
      "A      63\n",
      "B+     39\n",
      "D       9\n",
      "A+      2\n",
      "Name: ESG등급, dtype: int64\n",
      "----------\n",
      "d2:\n",
      " B     51\n",
      "C     44\n",
      "B+    26\n",
      "A     17\n",
      "D      2\n",
      "A+     1\n",
      "Name: ESG등급, dtype: int64\n",
      "----------\n",
      "----------\n",
      "----------\n",
      "----------\n"
     ]
    }
   ],
   "source": [
    "print('d0:\\n',d0['ESG등급'].value_counts())\n",
    "print('-'*10)\n",
    "print('d1:\\n',d1['ESG등급'].value_counts())\n",
    "print('-'*10)\n",
    "print('d2:\\n',d2['ESG등급'].value_counts())\n",
    "print('-'*10)\n",
    "#print('d3:\\n',d3['ESG등급'].value_counts())\n",
    "print('-'*10)\n",
    "#print('d4:\\n',d4['ESG등급'].value_counts())\n",
    "print('-'*10)\n",
    "#print('d5:\\n',d5['ESG등급'].value_counts())\n",
    "print('-'*10)"
   ]
  },
  {
   "cell_type": "markdown",
   "metadata": {},
   "source": [
    "## train_test 나누어서 클러스터링"
   ]
  },
  {
   "cell_type": "code",
   "execution_count": 112,
   "metadata": {},
   "outputs": [],
   "source": [
    "from sklearn.model_selection import train_test_split"
   ]
  },
  {
   "cell_type": "code",
   "execution_count": 113,
   "metadata": {},
   "outputs": [
    {
     "name": "stdout",
     "output_type": "stream",
     "text": [
      "<class 'pandas.core.frame.DataFrame'>\n",
      "Int64Index: 955 entries, 89 to 2499\n",
      "Data columns (total 52 columns):\n",
      " #   Column             Non-Null Count  Dtype  \n",
      "---  ------             --------------  -----  \n",
      " 0   회사명                955 non-null    object \n",
      " 1   종목코드               955 non-null    int64  \n",
      " 2   업종                 955 non-null    object \n",
      " 3   상장일                955 non-null    object \n",
      " 4   지역                 955 non-null    object \n",
      " 5   영문 종목명             955 non-null    object \n",
      " 6   시장구분               955 non-null    object \n",
      " 7   상장주식수              955 non-null    int64  \n",
      " 8   ESG등급              955 non-null    object \n",
      " 9   환경                 955 non-null    object \n",
      " 10  사회                 955 non-null    object \n",
      " 11  지배구조               955 non-null    object \n",
      " 12  등락률                955 non-null    float64\n",
      " 13  거래량_x              955 non-null    float64\n",
      " 14  거래대금_x             955 non-null    float64\n",
      " 15  온실가스 배출량(tCO2-eq)  955 non-null    float64\n",
      " 16  에너지 사용량(TJ)        955 non-null    float64\n",
      " 17  corp_code          105 non-null    float64\n",
      " 18  stock_name         105 non-null    object \n",
      " 19  corp_cls           105 non-null    object \n",
      " 20  induty_code        105 non-null    float64\n",
      " 21  est_dt             105 non-null    float64\n",
      " 22  2021년 NCSI         54 non-null     float64\n",
      " 23  자산총계               955 non-null    float64\n",
      " 24  자본금                955 non-null    float64\n",
      " 25  자본총계               955 non-null    float64\n",
      " 26  매출액                955 non-null    float64\n",
      " 27  영업이익               955 non-null    float64\n",
      " 28  순이익                955 non-null    float64\n",
      " 29  종가                 955 non-null    float64\n",
      " 30  시가총액               955 non-null    float64\n",
      " 31  거래량_y              955 non-null    float64\n",
      " 32  거래대금_y             955 non-null    float64\n",
      " 33  통근버스운행             628 non-null    float64\n",
      " 34  본인학자금              628 non-null    float64\n",
      " 35  복지카드               628 non-null    float64\n",
      " 36  업무활동비              628 non-null    float64\n",
      " 37  자격증수당              628 non-null    float64\n",
      " 38  위험수당               628 non-null    float64\n",
      " 39  사대보험               628 non-null    float64\n",
      " 40  워크샵                628 non-null    float64\n",
      " 41  신입사원교육             628 non-null    float64\n",
      " 42  직무향상교육             628 non-null    float64\n",
      " 43  리더십교육              628 non-null    float64\n",
      " 44  해외연수지원             628 non-null    float64\n",
      " 45  도서비지원              628 non-null    float64\n",
      " 46  외국어교육지원            628 non-null    float64\n",
      " 47  자격증취득지원            628 non-null    float64\n",
      " 48  총개수                955 non-null    float64\n",
      " 49  기준가&종가 평균          955 non-null    float64\n",
      " 50  업종 대분류             955 non-null    object \n",
      " 51  온실가스/매출액           955 non-null    float64\n",
      "dtypes: float64(37), int64(2), object(13)\n",
      "memory usage: 395.4+ KB\n"
     ]
    }
   ],
   "source": [
    "esg1.info()"
   ]
  },
  {
   "cell_type": "code",
   "execution_count": 127,
   "metadata": {},
   "outputs": [],
   "source": [
    "mydata = esg1.iloc[:,[0,1,2,3,4,5,6,7,8,9,10,11,12,13,14,15,16,23,24,25,26,27,28,29,30,31,32,48,49,50,51]]"
   ]
  },
  {
   "cell_type": "code",
   "execution_count": 129,
   "metadata": {},
   "outputs": [
    {
     "name": "stdout",
     "output_type": "stream",
     "text": [
      "<class 'pandas.core.frame.DataFrame'>\n",
      "Int64Index: 955 entries, 89 to 2499\n",
      "Data columns (total 31 columns):\n",
      " #   Column             Non-Null Count  Dtype  \n",
      "---  ------             --------------  -----  \n",
      " 0   회사명                955 non-null    object \n",
      " 1   종목코드               955 non-null    int64  \n",
      " 2   업종                 955 non-null    object \n",
      " 3   상장일                955 non-null    object \n",
      " 4   지역                 955 non-null    object \n",
      " 5   영문 종목명             955 non-null    object \n",
      " 6   시장구분               955 non-null    object \n",
      " 7   상장주식수              955 non-null    int64  \n",
      " 8   ESG등급              955 non-null    object \n",
      " 9   환경                 955 non-null    object \n",
      " 10  사회                 955 non-null    object \n",
      " 11  지배구조               955 non-null    object \n",
      " 12  등락률                955 non-null    float64\n",
      " 13  거래량_x              955 non-null    float64\n",
      " 14  거래대금_x             955 non-null    float64\n",
      " 15  온실가스 배출량(tCO2-eq)  955 non-null    float64\n",
      " 16  에너지 사용량(TJ)        955 non-null    float64\n",
      " 17  자산총계               955 non-null    float64\n",
      " 18  자본금                955 non-null    float64\n",
      " 19  자본총계               955 non-null    float64\n",
      " 20  매출액                955 non-null    float64\n",
      " 21  영업이익               955 non-null    float64\n",
      " 22  순이익                955 non-null    float64\n",
      " 23  종가                 955 non-null    float64\n",
      " 24  시가총액               955 non-null    float64\n",
      " 25  거래량_y              955 non-null    float64\n",
      " 26  거래대금_y             955 non-null    float64\n",
      " 27  총개수                955 non-null    float64\n",
      " 28  기준가&종가 평균          955 non-null    float64\n",
      " 29  업종 대분류             955 non-null    object \n",
      " 30  온실가스/매출액           955 non-null    float64\n",
      "dtypes: float64(18), int64(2), object(11)\n",
      "memory usage: 238.8+ KB\n"
     ]
    }
   ],
   "source": [
    "mydata.info()"
   ]
  },
  {
   "cell_type": "markdown",
   "metadata": {},
   "source": [
    "### split"
   ]
  },
  {
   "cell_type": "code",
   "execution_count": 137,
   "metadata": {},
   "outputs": [],
   "source": [
    "target = mydata.ESG등급\n",
    "data = mydata.iloc[:,[2,4,6,7,9,10,11,12,13,14,15,16,17,18,19,20,21,22,23,24,25,26,27,28,29,30]]"
   ]
  },
  {
   "cell_type": "code",
   "execution_count": 138,
   "metadata": {},
   "outputs": [],
   "source": [
    "x_train, x_test, y_train, y_test = train_test_split(data, target, test_size=0.1, shuffle=True, random_state=427)"
   ]
  },
  {
   "cell_type": "code",
   "execution_count": 140,
   "metadata": {},
   "outputs": [],
   "source": [
    "x_train = x_train.reset_index()\n",
    "x_test=x_test.reset_index()\n",
    "y_train=y_train.reset_index()\n",
    "y_test=y_test.reset_index()"
   ]
  },
  {
   "cell_type": "code",
   "execution_count": 142,
   "metadata": {},
   "outputs": [],
   "source": [
    "x_train.drop(['index'], axis=1, inplace=True)\n",
    "x_test.drop(['index'], axis=1, inplace=True)\n",
    "y_train.drop(['index'], axis=1, inplace=True)\n",
    "y_test.drop(['index'], axis=1, inplace=True)"
   ]
  },
  {
   "cell_type": "code",
   "execution_count": 144,
   "metadata": {},
   "outputs": [
    {
     "name": "stdout",
     "output_type": "stream",
     "text": [
      "<class 'pandas.core.frame.DataFrame'>\n",
      "RangeIndex: 859 entries, 0 to 858\n",
      "Data columns (total 26 columns):\n",
      " #   Column             Non-Null Count  Dtype  \n",
      "---  ------             --------------  -----  \n",
      " 0   업종                 859 non-null    object \n",
      " 1   지역                 859 non-null    object \n",
      " 2   시장구분               859 non-null    object \n",
      " 3   상장주식수              859 non-null    int64  \n",
      " 4   환경                 859 non-null    object \n",
      " 5   사회                 859 non-null    object \n",
      " 6   지배구조               859 non-null    object \n",
      " 7   등락률                859 non-null    float64\n",
      " 8   거래량_x              859 non-null    float64\n",
      " 9   거래대금_x             859 non-null    float64\n",
      " 10  온실가스 배출량(tCO2-eq)  859 non-null    float64\n",
      " 11  에너지 사용량(TJ)        859 non-null    float64\n",
      " 12  자산총계               859 non-null    float64\n",
      " 13  자본금                859 non-null    float64\n",
      " 14  자본총계               859 non-null    float64\n",
      " 15  매출액                859 non-null    float64\n",
      " 16  영업이익               859 non-null    float64\n",
      " 17  순이익                859 non-null    float64\n",
      " 18  종가                 859 non-null    float64\n",
      " 19  시가총액               859 non-null    float64\n",
      " 20  거래량_y              859 non-null    float64\n",
      " 21  거래대금_y             859 non-null    float64\n",
      " 22  총개수                859 non-null    float64\n",
      " 23  기준가&종가 평균          859 non-null    float64\n",
      " 24  업종 대분류             859 non-null    object \n",
      " 25  온실가스/매출액           859 non-null    float64\n",
      "dtypes: float64(18), int64(1), object(7)\n",
      "memory usage: 174.6+ KB\n"
     ]
    }
   ],
   "source": [
    "x_train.info()"
   ]
  },
  {
   "cell_type": "markdown",
   "metadata": {},
   "source": [
    "### scaling"
   ]
  },
  {
   "cell_type": "code",
   "execution_count": 147,
   "metadata": {},
   "outputs": [],
   "source": [
    "x_train_s = x_train.iloc[:,[3,7,8,9,10,11,12,13,14,15,16,17,18,19,20,21,23,25]]\n",
    "x_test_s = x_test.iloc[:,[3,7,8,9,10,11,12,13,14,15,16,17,18,19,20,21,23,25]]"
   ]
  },
  {
   "cell_type": "code",
   "execution_count": 148,
   "metadata": {},
   "outputs": [],
   "source": [
    "scaler = MinMaxScaler()"
   ]
  },
  {
   "cell_type": "code",
   "execution_count": 149,
   "metadata": {},
   "outputs": [],
   "source": [
    "train_s = scaler.fit_transform(x_train_s)"
   ]
  },
  {
   "cell_type": "code",
   "execution_count": 150,
   "metadata": {},
   "outputs": [
    {
     "data": {
      "text/plain": [
       "array([[1.31011229e-02, 2.40207025e-01, 1.45547714e-02, ...,\n",
       "        8.65238551e-05, 2.19356378e-03, 2.46923871e-03],\n",
       "       [9.74505221e-04, 1.56791953e-01, 1.07300677e-04, ...,\n",
       "        7.82929907e-05, 9.70602269e-02, 7.97376100e-03],\n",
       "       [1.63673990e-03, 1.90621283e-01, 7.61472785e-05, ...,\n",
       "        5.13520561e-05, 1.85500278e-02, 2.73864789e-02],\n",
       "       ...,\n",
       "       [3.25002601e-03, 1.69397082e-01, 5.29030144e-03, ...,\n",
       "        1.47573930e-04, 3.08407778e-03, 2.00189485e-02],\n",
       "       [4.63865826e-03, 1.11734875e-01, 1.33402181e-03, ...,\n",
       "        5.37695308e-03, 8.98118572e-02, 8.03536064e-03],\n",
       "       [1.83576211e-03, 1.53557193e-01, 6.09608486e-04, ...,\n",
       "        3.38073598e-04, 1.44081023e-02, 5.85865990e-04]])"
      ]
     },
     "execution_count": 150,
     "metadata": {},
     "output_type": "execute_result"
    }
   ],
   "source": [
    "train_s"
   ]
  },
  {
   "cell_type": "code",
   "execution_count": 152,
   "metadata": {},
   "outputs": [
    {
     "data": {
      "text/plain": [
       "['상장주식수_s',\n",
       " '등락률_s',\n",
       " '거래량_x_s',\n",
       " '거래대금_x_s',\n",
       " '온실가스 배출량(tCO2-eq)_s',\n",
       " '에너지 사용량(TJ)_s',\n",
       " '자산총계_s',\n",
       " '자본금_s',\n",
       " '자본총계_s',\n",
       " '매출액_s',\n",
       " '영업이익_s',\n",
       " '순이익_s',\n",
       " '종가_s',\n",
       " '시가총액_s',\n",
       " '거래량_y_s',\n",
       " '거래대금_y_s',\n",
       " '기준가&종가 평균_s',\n",
       " '온실가스/매출액_s']"
      ]
     },
     "execution_count": 152,
     "metadata": {},
     "output_type": "execute_result"
    }
   ],
   "source": [
    "c=[]\n",
    "for i in [3,7,8,9,10,11,12,13,14,15,16,17,18,19,20,21,23,25]:\n",
    "    col=x_train.columns[i]+'_s'\n",
    "    c.append(col)\n",
    "\n",
    "c"
   ]
  },
  {
   "cell_type": "code",
   "execution_count": 159,
   "metadata": {},
   "outputs": [],
   "source": [
    "scale = pd.DataFrame(train_s, columns=c)"
   ]
  },
  {
   "cell_type": "code",
   "execution_count": 160,
   "metadata": {},
   "outputs": [
    {
     "data": {
      "text/html": [
       "<div>\n",
       "<style scoped>\n",
       "    .dataframe tbody tr th:only-of-type {\n",
       "        vertical-align: middle;\n",
       "    }\n",
       "\n",
       "    .dataframe tbody tr th {\n",
       "        vertical-align: top;\n",
       "    }\n",
       "\n",
       "    .dataframe thead th {\n",
       "        text-align: right;\n",
       "    }\n",
       "</style>\n",
       "<table border=\"1\" class=\"dataframe\">\n",
       "  <thead>\n",
       "    <tr style=\"text-align: right;\">\n",
       "      <th></th>\n",
       "      <th>상장주식수_s</th>\n",
       "      <th>등락률_s</th>\n",
       "      <th>거래량_x_s</th>\n",
       "      <th>거래대금_x_s</th>\n",
       "      <th>온실가스 배출량(tCO2-eq)_s</th>\n",
       "      <th>에너지 사용량(TJ)_s</th>\n",
       "      <th>자산총계_s</th>\n",
       "      <th>자본금_s</th>\n",
       "      <th>자본총계_s</th>\n",
       "      <th>매출액_s</th>\n",
       "      <th>영업이익_s</th>\n",
       "      <th>순이익_s</th>\n",
       "      <th>종가_s</th>\n",
       "      <th>시가총액_s</th>\n",
       "      <th>거래량_y_s</th>\n",
       "      <th>거래대금_y_s</th>\n",
       "      <th>기준가&amp;종가 평균_s</th>\n",
       "      <th>온실가스/매출액_s</th>\n",
       "    </tr>\n",
       "  </thead>\n",
       "  <tbody>\n",
       "    <tr>\n",
       "      <th>0</th>\n",
       "      <td>0.013101</td>\n",
       "      <td>0.240207</td>\n",
       "      <td>0.014555</td>\n",
       "      <td>0.003578</td>\n",
       "      <td>0.002565</td>\n",
       "      <td>0.010113</td>\n",
       "      <td>0.016483</td>\n",
       "      <td>0.021666</td>\n",
       "      <td>0.016760</td>\n",
       "      <td>0.020253</td>\n",
       "      <td>0.054566</td>\n",
       "      <td>0.062874</td>\n",
       "      <td>0.002459</td>\n",
       "      <td>0.000435</td>\n",
       "      <td>0.000961</td>\n",
       "      <td>0.000087</td>\n",
       "      <td>0.002194</td>\n",
       "      <td>0.002469</td>\n",
       "    </tr>\n",
       "    <tr>\n",
       "      <th>1</th>\n",
       "      <td>0.000975</td>\n",
       "      <td>0.156792</td>\n",
       "      <td>0.000107</td>\n",
       "      <td>0.000845</td>\n",
       "      <td>0.001608</td>\n",
       "      <td>0.006468</td>\n",
       "      <td>0.006216</td>\n",
       "      <td>0.000480</td>\n",
       "      <td>0.006303</td>\n",
       "      <td>0.007742</td>\n",
       "      <td>0.053928</td>\n",
       "      <td>0.058157</td>\n",
       "      <td>0.108449</td>\n",
       "      <td>0.001569</td>\n",
       "      <td>0.000022</td>\n",
       "      <td>0.000078</td>\n",
       "      <td>0.097060</td>\n",
       "      <td>0.007974</td>\n",
       "    </tr>\n",
       "    <tr>\n",
       "      <th>2</th>\n",
       "      <td>0.001637</td>\n",
       "      <td>0.190621</td>\n",
       "      <td>0.000076</td>\n",
       "      <td>0.000109</td>\n",
       "      <td>0.000840</td>\n",
       "      <td>0.002876</td>\n",
       "      <td>0.074550</td>\n",
       "      <td>0.158450</td>\n",
       "      <td>0.025588</td>\n",
       "      <td>0.009667</td>\n",
       "      <td>0.062533</td>\n",
       "      <td>0.067113</td>\n",
       "      <td>0.021876</td>\n",
       "      <td>0.000469</td>\n",
       "      <td>0.000070</td>\n",
       "      <td>0.000051</td>\n",
       "      <td>0.018550</td>\n",
       "      <td>0.027386</td>\n",
       "    </tr>\n",
       "    <tr>\n",
       "      <th>3</th>\n",
       "      <td>0.000905</td>\n",
       "      <td>0.326168</td>\n",
       "      <td>0.004078</td>\n",
       "      <td>0.013692</td>\n",
       "      <td>0.001627</td>\n",
       "      <td>0.006337</td>\n",
       "      <td>0.016421</td>\n",
       "      <td>0.052995</td>\n",
       "      <td>0.017008</td>\n",
       "      <td>0.023707</td>\n",
       "      <td>0.061465</td>\n",
       "      <td>0.065109</td>\n",
       "      <td>0.050643</td>\n",
       "      <td>0.000646</td>\n",
       "      <td>0.000730</td>\n",
       "      <td>0.001218</td>\n",
       "      <td>0.030520</td>\n",
       "      <td>0.050887</td>\n",
       "    </tr>\n",
       "    <tr>\n",
       "      <th>4</th>\n",
       "      <td>0.033693</td>\n",
       "      <td>0.139387</td>\n",
       "      <td>0.082156</td>\n",
       "      <td>0.010331</td>\n",
       "      <td>0.019175</td>\n",
       "      <td>0.028779</td>\n",
       "      <td>0.001472</td>\n",
       "      <td>0.021445</td>\n",
       "      <td>0.001522</td>\n",
       "      <td>0.000363</td>\n",
       "      <td>0.051667</td>\n",
       "      <td>0.055807</td>\n",
       "      <td>0.001204</td>\n",
       "      <td>0.000622</td>\n",
       "      <td>0.088863</td>\n",
       "      <td>0.004245</td>\n",
       "      <td>0.001115</td>\n",
       "      <td>0.000000</td>\n",
       "    </tr>\n",
       "    <tr>\n",
       "      <th>...</th>\n",
       "      <td>...</td>\n",
       "      <td>...</td>\n",
       "      <td>...</td>\n",
       "      <td>...</td>\n",
       "      <td>...</td>\n",
       "      <td>...</td>\n",
       "      <td>...</td>\n",
       "      <td>...</td>\n",
       "      <td>...</td>\n",
       "      <td>...</td>\n",
       "      <td>...</td>\n",
       "      <td>...</td>\n",
       "      <td>...</td>\n",
       "      <td>...</td>\n",
       "      <td>...</td>\n",
       "      <td>...</td>\n",
       "      <td>...</td>\n",
       "      <td>...</td>\n",
       "    </tr>\n",
       "    <tr>\n",
       "      <th>854</th>\n",
       "      <td>0.006601</td>\n",
       "      <td>0.159818</td>\n",
       "      <td>0.009585</td>\n",
       "      <td>0.002617</td>\n",
       "      <td>0.008511</td>\n",
       "      <td>0.030580</td>\n",
       "      <td>0.008232</td>\n",
       "      <td>0.021482</td>\n",
       "      <td>0.009948</td>\n",
       "      <td>0.010402</td>\n",
       "      <td>0.058039</td>\n",
       "      <td>0.062812</td>\n",
       "      <td>0.004049</td>\n",
       "      <td>0.000334</td>\n",
       "      <td>0.012469</td>\n",
       "      <td>0.001775</td>\n",
       "      <td>0.002995</td>\n",
       "      <td>0.020019</td>\n",
       "    </tr>\n",
       "    <tr>\n",
       "      <th>855</th>\n",
       "      <td>0.000101</td>\n",
       "      <td>0.423065</td>\n",
       "      <td>0.000114</td>\n",
       "      <td>0.000184</td>\n",
       "      <td>0.019175</td>\n",
       "      <td>0.028779</td>\n",
       "      <td>0.016421</td>\n",
       "      <td>0.052995</td>\n",
       "      <td>0.017008</td>\n",
       "      <td>0.023707</td>\n",
       "      <td>0.061465</td>\n",
       "      <td>0.065109</td>\n",
       "      <td>0.032658</td>\n",
       "      <td>0.000020</td>\n",
       "      <td>0.002922</td>\n",
       "      <td>0.003349</td>\n",
       "      <td>0.017452</td>\n",
       "      <td>0.050887</td>\n",
       "    </tr>\n",
       "    <tr>\n",
       "      <th>856</th>\n",
       "      <td>0.003250</td>\n",
       "      <td>0.169397</td>\n",
       "      <td>0.005290</td>\n",
       "      <td>0.001563</td>\n",
       "      <td>0.000176</td>\n",
       "      <td>0.000658</td>\n",
       "      <td>0.008232</td>\n",
       "      <td>0.021482</td>\n",
       "      <td>0.009948</td>\n",
       "      <td>0.010402</td>\n",
       "      <td>0.058039</td>\n",
       "      <td>0.062812</td>\n",
       "      <td>0.003723</td>\n",
       "      <td>0.000115</td>\n",
       "      <td>0.001119</td>\n",
       "      <td>0.000148</td>\n",
       "      <td>0.003084</td>\n",
       "      <td>0.020019</td>\n",
       "    </tr>\n",
       "    <tr>\n",
       "      <th>857</th>\n",
       "      <td>0.004639</td>\n",
       "      <td>0.111735</td>\n",
       "      <td>0.001334</td>\n",
       "      <td>0.008288</td>\n",
       "      <td>0.008872</td>\n",
       "      <td>0.034599</td>\n",
       "      <td>0.065693</td>\n",
       "      <td>0.033314</td>\n",
       "      <td>0.050349</td>\n",
       "      <td>0.042095</td>\n",
       "      <td>0.054029</td>\n",
       "      <td>0.063073</td>\n",
       "      <td>0.078005</td>\n",
       "      <td>0.005130</td>\n",
       "      <td>0.002076</td>\n",
       "      <td>0.005377</td>\n",
       "      <td>0.089812</td>\n",
       "      <td>0.008035</td>\n",
       "    </tr>\n",
       "    <tr>\n",
       "      <th>858</th>\n",
       "      <td>0.001836</td>\n",
       "      <td>0.153557</td>\n",
       "      <td>0.000610</td>\n",
       "      <td>0.000752</td>\n",
       "      <td>0.000609</td>\n",
       "      <td>0.002359</td>\n",
       "      <td>0.003538</td>\n",
       "      <td>0.006609</td>\n",
       "      <td>0.003937</td>\n",
       "      <td>0.001954</td>\n",
       "      <td>0.052720</td>\n",
       "      <td>0.064235</td>\n",
       "      <td>0.017708</td>\n",
       "      <td>0.000415</td>\n",
       "      <td>0.000570</td>\n",
       "      <td>0.000338</td>\n",
       "      <td>0.014408</td>\n",
       "      <td>0.000586</td>\n",
       "    </tr>\n",
       "  </tbody>\n",
       "</table>\n",
       "<p>859 rows × 18 columns</p>\n",
       "</div>"
      ],
      "text/plain": [
       "      상장주식수_s     등락률_s   거래량_x_s  거래대금_x_s  온실가스 배출량(tCO2-eq)_s  \\\n",
       "0    0.013101  0.240207  0.014555  0.003578             0.002565   \n",
       "1    0.000975  0.156792  0.000107  0.000845             0.001608   \n",
       "2    0.001637  0.190621  0.000076  0.000109             0.000840   \n",
       "3    0.000905  0.326168  0.004078  0.013692             0.001627   \n",
       "4    0.033693  0.139387  0.082156  0.010331             0.019175   \n",
       "..        ...       ...       ...       ...                  ...   \n",
       "854  0.006601  0.159818  0.009585  0.002617             0.008511   \n",
       "855  0.000101  0.423065  0.000114  0.000184             0.019175   \n",
       "856  0.003250  0.169397  0.005290  0.001563             0.000176   \n",
       "857  0.004639  0.111735  0.001334  0.008288             0.008872   \n",
       "858  0.001836  0.153557  0.000610  0.000752             0.000609   \n",
       "\n",
       "     에너지 사용량(TJ)_s    자산총계_s     자본금_s    자본총계_s     매출액_s    영업이익_s  \\\n",
       "0         0.010113  0.016483  0.021666  0.016760  0.020253  0.054566   \n",
       "1         0.006468  0.006216  0.000480  0.006303  0.007742  0.053928   \n",
       "2         0.002876  0.074550  0.158450  0.025588  0.009667  0.062533   \n",
       "3         0.006337  0.016421  0.052995  0.017008  0.023707  0.061465   \n",
       "4         0.028779  0.001472  0.021445  0.001522  0.000363  0.051667   \n",
       "..             ...       ...       ...       ...       ...       ...   \n",
       "854       0.030580  0.008232  0.021482  0.009948  0.010402  0.058039   \n",
       "855       0.028779  0.016421  0.052995  0.017008  0.023707  0.061465   \n",
       "856       0.000658  0.008232  0.021482  0.009948  0.010402  0.058039   \n",
       "857       0.034599  0.065693  0.033314  0.050349  0.042095  0.054029   \n",
       "858       0.002359  0.003538  0.006609  0.003937  0.001954  0.052720   \n",
       "\n",
       "        순이익_s      종가_s    시가총액_s   거래량_y_s  거래대금_y_s  기준가&종가 평균_s  온실가스/매출액_s  \n",
       "0    0.062874  0.002459  0.000435  0.000961  0.000087     0.002194    0.002469  \n",
       "1    0.058157  0.108449  0.001569  0.000022  0.000078     0.097060    0.007974  \n",
       "2    0.067113  0.021876  0.000469  0.000070  0.000051     0.018550    0.027386  \n",
       "3    0.065109  0.050643  0.000646  0.000730  0.001218     0.030520    0.050887  \n",
       "4    0.055807  0.001204  0.000622  0.088863  0.004245     0.001115    0.000000  \n",
       "..        ...       ...       ...       ...       ...          ...         ...  \n",
       "854  0.062812  0.004049  0.000334  0.012469  0.001775     0.002995    0.020019  \n",
       "855  0.065109  0.032658  0.000020  0.002922  0.003349     0.017452    0.050887  \n",
       "856  0.062812  0.003723  0.000115  0.001119  0.000148     0.003084    0.020019  \n",
       "857  0.063073  0.078005  0.005130  0.002076  0.005377     0.089812    0.008035  \n",
       "858  0.064235  0.017708  0.000415  0.000570  0.000338     0.014408    0.000586  \n",
       "\n",
       "[859 rows x 18 columns]"
      ]
     },
     "execution_count": 160,
     "metadata": {},
     "output_type": "execute_result"
    }
   ],
   "source": [
    "scale"
   ]
  },
  {
   "cell_type": "code",
   "execution_count": 161,
   "metadata": {},
   "outputs": [],
   "source": [
    "train_scale = pd.concat([x_train,scale], axis=1)"
   ]
  },
  {
   "cell_type": "code",
   "execution_count": 162,
   "metadata": {},
   "outputs": [
    {
     "name": "stdout",
     "output_type": "stream",
     "text": [
      "<class 'pandas.core.frame.DataFrame'>\n",
      "RangeIndex: 859 entries, 0 to 858\n",
      "Data columns (total 44 columns):\n",
      " #   Column               Non-Null Count  Dtype  \n",
      "---  ------               --------------  -----  \n",
      " 0   업종                   859 non-null    object \n",
      " 1   지역                   859 non-null    object \n",
      " 2   시장구분                 859 non-null    object \n",
      " 3   상장주식수                859 non-null    int64  \n",
      " 4   환경                   859 non-null    object \n",
      " 5   사회                   859 non-null    object \n",
      " 6   지배구조                 859 non-null    object \n",
      " 7   등락률                  859 non-null    float64\n",
      " 8   거래량_x                859 non-null    float64\n",
      " 9   거래대금_x               859 non-null    float64\n",
      " 10  온실가스 배출량(tCO2-eq)    859 non-null    float64\n",
      " 11  에너지 사용량(TJ)          859 non-null    float64\n",
      " 12  자산총계                 859 non-null    float64\n",
      " 13  자본금                  859 non-null    float64\n",
      " 14  자본총계                 859 non-null    float64\n",
      " 15  매출액                  859 non-null    float64\n",
      " 16  영업이익                 859 non-null    float64\n",
      " 17  순이익                  859 non-null    float64\n",
      " 18  종가                   859 non-null    float64\n",
      " 19  시가총액                 859 non-null    float64\n",
      " 20  거래량_y                859 non-null    float64\n",
      " 21  거래대금_y               859 non-null    float64\n",
      " 22  총개수                  859 non-null    float64\n",
      " 23  기준가&종가 평균            859 non-null    float64\n",
      " 24  업종 대분류               859 non-null    object \n",
      " 25  온실가스/매출액             859 non-null    float64\n",
      " 26  상장주식수_s              859 non-null    float64\n",
      " 27  등락률_s                859 non-null    float64\n",
      " 28  거래량_x_s              859 non-null    float64\n",
      " 29  거래대금_x_s             859 non-null    float64\n",
      " 30  온실가스 배출량(tCO2-eq)_s  859 non-null    float64\n",
      " 31  에너지 사용량(TJ)_s        859 non-null    float64\n",
      " 32  자산총계_s               859 non-null    float64\n",
      " 33  자본금_s                859 non-null    float64\n",
      " 34  자본총계_s               859 non-null    float64\n",
      " 35  매출액_s                859 non-null    float64\n",
      " 36  영업이익_s               859 non-null    float64\n",
      " 37  순이익_s                859 non-null    float64\n",
      " 38  종가_s                 859 non-null    float64\n",
      " 39  시가총액_s               859 non-null    float64\n",
      " 40  거래량_y_s              859 non-null    float64\n",
      " 41  거래대금_y_s             859 non-null    float64\n",
      " 42  기준가&종가 평균_s          859 non-null    float64\n",
      " 43  온실가스/매출액_s           859 non-null    float64\n",
      "dtypes: float64(36), int64(1), object(7)\n",
      "memory usage: 295.4+ KB\n"
     ]
    }
   ],
   "source": [
    "train_scale.info()"
   ]
  },
  {
   "cell_type": "markdown",
   "metadata": {},
   "source": [
    "### clustering"
   ]
  },
  {
   "cell_type": "code",
   "execution_count": 164,
   "metadata": {},
   "outputs": [],
   "source": [
    "clus = train_scale.iloc[:,[0,1,2,4,5,6,22,26,27,28,29,30,31,32,33,34,35,36,37,38,39,40,41,42,43]]"
   ]
  },
  {
   "cell_type": "code",
   "execution_count": 166,
   "metadata": {},
   "outputs": [],
   "source": [
    "categorical = [0,1,2,3,4,5,6]"
   ]
  },
  {
   "cell_type": "code",
   "execution_count": 193,
   "metadata": {},
   "outputs": [
    {
     "data": {
      "text/plain": [
       "array([2, 0, 2, 0, 1, 0, 1, 0, 2, 0, 2, 2, 1, 2, 2, 1, 2, 0, 1, 1, 2, 1,\n",
       "       1, 2, 1, 1, 0, 2, 2, 2, 0, 2, 0, 1, 2, 1, 2, 0, 2, 2, 0, 2, 2, 1,\n",
       "       1, 1, 2, 0, 0, 2, 0, 0, 1, 0, 1, 2, 0, 2, 1, 0, 2, 2, 2, 0, 1, 2,\n",
       "       2, 2, 2, 2, 1, 1, 0, 1, 0, 0, 2, 1, 2, 2, 2, 0, 2, 1, 2, 1, 0, 2,\n",
       "       0, 1, 2, 2, 2, 2, 2, 2, 1, 2, 2, 0, 2, 0, 2, 2, 2, 1, 2, 0, 1, 1,\n",
       "       2, 2, 1, 2, 2, 0, 2, 2, 2, 2, 0, 2, 0, 2, 2, 0, 1, 1, 1, 0, 1, 1,\n",
       "       2, 2, 2, 1, 2, 1, 2, 1, 0, 2, 0, 2, 1, 2, 1, 0, 0, 2, 2, 1, 2, 2,\n",
       "       1, 0, 1, 2, 1, 1, 1, 2, 2, 2, 0, 2, 0, 0, 1, 2, 2, 2, 2, 2, 1, 0,\n",
       "       2, 2, 2, 2, 2, 1, 1, 0, 1, 2, 1, 0, 2, 2, 0, 1, 1, 2, 2, 0, 2, 2,\n",
       "       2, 2, 0, 1, 1, 1, 2, 2, 2, 2, 2, 1, 1, 2, 2, 2, 1, 0, 2, 0, 2, 2,\n",
       "       2, 2, 1, 1, 1, 1, 2, 1, 2, 2, 1, 1, 0, 0, 1, 2, 2, 1, 1, 1, 2, 2,\n",
       "       0, 0, 2, 0, 2, 1, 2, 1, 2, 0, 0, 2, 2, 2, 0, 0, 1, 2, 2, 2, 2, 1,\n",
       "       0, 2, 0, 2, 1, 0, 2, 1, 0, 2, 1, 2, 0, 2, 1, 2, 0, 0, 2, 0, 2, 2,\n",
       "       2, 0, 2, 1, 2, 1, 2, 1, 2, 0, 0, 2, 0, 2, 2, 2, 2, 1, 2, 1, 1, 1,\n",
       "       1, 0, 0, 1, 1, 2, 1, 0, 1, 1, 0, 2, 2, 2, 2, 0, 2, 2, 2, 1, 1, 1,\n",
       "       1, 0, 1, 1, 2, 2, 2, 2, 2, 1, 2, 1, 0, 1, 1, 1, 1, 2, 2, 2, 1, 1,\n",
       "       1, 0, 2, 2, 1, 2, 0, 2, 2, 2, 1, 2, 0, 0, 0, 2, 0, 2, 1, 2, 0, 2,\n",
       "       1, 2, 2, 0, 2, 1, 1, 2, 2, 2, 2, 1, 2, 2, 2, 2, 0, 0, 1, 0, 1, 0,\n",
       "       0, 2, 2, 2, 1, 1, 1, 1, 2, 1, 1, 0, 0, 2, 1, 2, 2, 1, 1, 1, 1, 1,\n",
       "       0, 0, 1, 2, 0, 0, 1, 2, 2, 2, 0, 1, 2, 0, 2, 0, 1, 1, 1, 1, 1, 2,\n",
       "       1, 2, 2, 2, 1, 2, 2, 0, 1, 2, 1, 0, 0, 0, 1, 2, 2, 0, 2, 0, 2, 1,\n",
       "       2, 2, 1, 2, 2, 2, 1, 0, 2, 2, 0, 2, 2, 1, 1, 2, 1, 0, 1, 1, 2, 2,\n",
       "       2, 2, 2, 1, 2, 1, 2, 1, 1, 2, 0, 1, 1, 2, 2, 0, 1, 2, 1, 2, 1, 2,\n",
       "       1, 2, 1, 1, 2, 2, 2, 0, 1, 0, 1, 2, 2, 2, 2, 2, 2, 0, 2, 2, 1, 2,\n",
       "       2, 0, 2, 2, 2, 1, 1, 0, 0, 1, 0, 0, 2, 1, 2, 2, 0, 0, 0, 2, 2, 2,\n",
       "       1, 2, 1, 0, 2, 0, 0, 1, 2, 1, 1, 2, 2, 0, 2, 1, 2, 2, 1, 2, 2, 0,\n",
       "       0, 1, 2, 2, 2, 0, 2, 1, 2, 0, 2, 2, 1, 2, 1, 2, 1, 1, 1, 0, 0, 0,\n",
       "       2, 2, 2, 0, 0, 1, 0, 1, 1, 0, 0, 2, 0, 1, 0, 2, 2, 2, 2, 2, 2, 0,\n",
       "       2, 0, 2, 2, 1, 1, 2, 2, 2, 1, 0, 2, 2, 2, 2, 0, 1, 1, 2, 2, 1, 1,\n",
       "       0, 2, 0, 2, 2, 1, 2, 0, 2, 1, 2, 1, 0, 1, 2, 1, 0, 2, 0, 1, 1, 2,\n",
       "       0, 2, 2, 1, 2, 2, 1, 0, 1, 0, 1, 2, 2, 2, 2, 0, 1, 1, 0, 0, 2, 0,\n",
       "       2, 0, 2, 2, 1, 2, 2, 2, 1, 1, 2, 0, 2, 2, 0, 2, 0, 0, 1, 2, 2, 2,\n",
       "       0, 2, 2, 2, 0, 2, 0, 1, 2, 0, 0, 2, 0, 2, 0, 2, 1, 0, 0, 2, 0, 2,\n",
       "       2, 0, 2, 2, 2, 0, 2, 2, 2, 2, 1, 0, 2, 0, 1, 2, 2, 0, 0, 2, 2, 1,\n",
       "       0, 0, 2, 2, 1, 1, 1, 2, 1, 1, 0, 1, 1, 1, 1, 2, 0, 1, 2, 1, 2, 1,\n",
       "       2, 0, 2, 1, 2, 0, 0, 2, 0, 0, 1, 1, 0, 2, 0, 2, 2, 2, 2, 2, 0, 2,\n",
       "       1, 0, 2, 0, 2, 0, 0, 2, 2, 2, 2, 1, 0, 2, 0, 1, 2, 0, 0, 2, 2, 2,\n",
       "       2, 2, 0, 1, 2, 1, 2, 2, 2, 0, 2, 2, 0, 2, 2, 1, 1, 2, 0, 0, 0, 1,\n",
       "       1, 1, 2, 0, 2, 2, 2, 0, 2, 2, 2, 2, 0, 1, 1, 0, 2, 2, 2, 1, 1, 0,\n",
       "       2], dtype=uint16)"
      ]
     },
     "execution_count": 193,
     "metadata": {},
     "output_type": "execute_result"
    }
   ],
   "source": [
    "# +는 합쳐서 A, B, C+D\n",
    "kprototype = KPrototypes(n_clusters = 3, init = 'Huang')\n",
    "kprototype.fit_predict(clus, categorical = categorical)"
   ]
  },
  {
   "cell_type": "code",
   "execution_count": 194,
   "metadata": {},
   "outputs": [],
   "source": [
    "x_train['Cluster Labels'] = kprototype.labels_"
   ]
  },
  {
   "cell_type": "code",
   "execution_count": 195,
   "metadata": {},
   "outputs": [
    {
     "data": {
      "text/plain": [
       "2    406\n",
       "1    245\n",
       "0    208\n",
       "Name: Cluster Labels, dtype: int64"
      ]
     },
     "execution_count": 195,
     "metadata": {},
     "output_type": "execute_result"
    }
   ],
   "source": [
    "x_train['Cluster Labels'].value_counts()"
   ]
  },
  {
   "cell_type": "markdown",
   "metadata": {},
   "source": [
    "* A, A+ 총: 176개\n",
    "* B, B+ 총: 393개\n",
    "* C, D  총: 290개\n",
    "* 1번에 C,D .. 2번에 B, B+ .. 0번에 A, A+가 많으면 얼추 성공적인듯"
   ]
  },
  {
   "cell_type": "code",
   "execution_count": 196,
   "metadata": {},
   "outputs": [],
   "source": [
    "y_train['labels'] = kprototype.labels_"
   ]
  },
  {
   "cell_type": "code",
   "execution_count": 197,
   "metadata": {},
   "outputs": [],
   "source": [
    "d0 = y_train[y_train['labels']==0]\n",
    "d1 = y_train[y_train['labels']==1]\n",
    "d2 = y_train[y_train['labels']==2]\n",
    "#d3 = y_train[y_train['labels']==3]\n",
    "#d4 = y_train[y_train['labels']==4]\n",
    "#d5 = y_train[y_train['labels']==5]"
   ]
  },
  {
   "cell_type": "code",
   "execution_count": 198,
   "metadata": {},
   "outputs": [
    {
     "data": {
      "text/html": [
       "<div>\n",
       "<style scoped>\n",
       "    .dataframe tbody tr th:only-of-type {\n",
       "        vertical-align: middle;\n",
       "    }\n",
       "\n",
       "    .dataframe tbody tr th {\n",
       "        vertical-align: top;\n",
       "    }\n",
       "\n",
       "    .dataframe thead th {\n",
       "        text-align: right;\n",
       "    }\n",
       "</style>\n",
       "<table border=\"1\" class=\"dataframe\">\n",
       "  <thead>\n",
       "    <tr style=\"text-align: right;\">\n",
       "      <th></th>\n",
       "      <th>ESG등급</th>\n",
       "      <th>labels</th>\n",
       "    </tr>\n",
       "  </thead>\n",
       "  <tbody>\n",
       "    <tr>\n",
       "      <th>0</th>\n",
       "      <td>C</td>\n",
       "      <td>2</td>\n",
       "    </tr>\n",
       "    <tr>\n",
       "      <th>1</th>\n",
       "      <td>A</td>\n",
       "      <td>0</td>\n",
       "    </tr>\n",
       "    <tr>\n",
       "      <th>2</th>\n",
       "      <td>C</td>\n",
       "      <td>2</td>\n",
       "    </tr>\n",
       "    <tr>\n",
       "      <th>3</th>\n",
       "      <td>A</td>\n",
       "      <td>0</td>\n",
       "    </tr>\n",
       "    <tr>\n",
       "      <th>4</th>\n",
       "      <td>C</td>\n",
       "      <td>1</td>\n",
       "    </tr>\n",
       "    <tr>\n",
       "      <th>...</th>\n",
       "      <td>...</td>\n",
       "      <td>...</td>\n",
       "    </tr>\n",
       "    <tr>\n",
       "      <th>854</th>\n",
       "      <td>B</td>\n",
       "      <td>2</td>\n",
       "    </tr>\n",
       "    <tr>\n",
       "      <th>855</th>\n",
       "      <td>C</td>\n",
       "      <td>1</td>\n",
       "    </tr>\n",
       "    <tr>\n",
       "      <th>856</th>\n",
       "      <td>B</td>\n",
       "      <td>1</td>\n",
       "    </tr>\n",
       "    <tr>\n",
       "      <th>857</th>\n",
       "      <td>A</td>\n",
       "      <td>0</td>\n",
       "    </tr>\n",
       "    <tr>\n",
       "      <th>858</th>\n",
       "      <td>B+</td>\n",
       "      <td>2</td>\n",
       "    </tr>\n",
       "  </tbody>\n",
       "</table>\n",
       "<p>859 rows × 2 columns</p>\n",
       "</div>"
      ],
      "text/plain": [
       "    ESG등급  labels\n",
       "0       C       2\n",
       "1       A       0\n",
       "2       C       2\n",
       "3       A       0\n",
       "4       C       1\n",
       "..    ...     ...\n",
       "854     B       2\n",
       "855     C       1\n",
       "856     B       1\n",
       "857     A       0\n",
       "858    B+       2\n",
       "\n",
       "[859 rows x 2 columns]"
      ]
     },
     "execution_count": 198,
     "metadata": {},
     "output_type": "execute_result"
    }
   ],
   "source": [
    "y_train"
   ]
  },
  {
   "cell_type": "code",
   "execution_count": 199,
   "metadata": {},
   "outputs": [
    {
     "name": "stdout",
     "output_type": "stream",
     "text": [
      "C     271\n",
      "B     248\n",
      "A     162\n",
      "B+    145\n",
      "D      19\n",
      "A+     14\n",
      "Name: ESG등급, dtype: int64\n",
      "---------------\n",
      "2    406\n",
      "1    245\n",
      "0    208\n",
      "Name: labels, dtype: int64\n"
     ]
    }
   ],
   "source": [
    "print(y_train['ESG등급'].value_counts())\n",
    "print('-'*15)\n",
    "print(y_train['labels'].value_counts())"
   ]
  },
  {
   "cell_type": "markdown",
   "metadata": {},
   "source": [
    "* 3 -> C\n",
    "* 4 -> B\n",
    "* 1 -> A\n",
    "* 2 -> B+\n",
    "* 0 -> D\n",
    "* 5 -> A+ 가 가장 많은지 확인"
   ]
  },
  {
   "cell_type": "code",
   "execution_count": 200,
   "metadata": {},
   "outputs": [
    {
     "name": "stdout",
     "output_type": "stream",
     "text": [
      "d0:\n",
      " A     149\n",
      "B+     40\n",
      "A+     13\n",
      "B       5\n",
      "C       1\n",
      "Name: ESG등급, dtype: int64\n",
      "----------\n",
      "d1:\n",
      " C     115\n",
      "B      98\n",
      "B+     27\n",
      "A       4\n",
      "A+      1\n",
      "Name: ESG등급, dtype: int64\n",
      "----------\n",
      "d2:\n",
      " C     155\n",
      "B     145\n",
      "B+     78\n",
      "D      19\n",
      "A       9\n",
      "Name: ESG등급, dtype: int64\n",
      "----------\n",
      "----------\n",
      "----------\n",
      "----------\n"
     ]
    }
   ],
   "source": [
    "print('d0:\\n',d0['ESG등급'].value_counts())\n",
    "print('-'*10)\n",
    "print('d1:\\n',d1['ESG등급'].value_counts())\n",
    "print('-'*10)\n",
    "print('d2:\\n',d2['ESG등급'].value_counts())\n",
    "print('-'*10)\n",
    "#print('d3:\\n',d3['ESG등급'].value_counts())\n",
    "print('-'*10)\n",
    "#print('d4:\\n',d4['ESG등급'].value_counts())\n",
    "print('-'*10)\n",
    "#print('d5:\\n',d5['ESG등급'].value_counts())\n",
    "print('-'*10)"
   ]
  },
  {
   "cell_type": "markdown",
   "metadata": {},
   "source": [
    "* 상대적으로 봤을 때, 1보다 2에 B와 B+이 더 많으므로 그나마 성공적인듯"
   ]
  },
  {
   "cell_type": "markdown",
   "metadata": {},
   "source": [
    "### test set 활용"
   ]
  },
  {
   "cell_type": "code",
   "execution_count": 148,
   "metadata": {},
   "outputs": [],
   "source": [
    "scaler = MinMaxScaler()"
   ]
  },
  {
   "cell_type": "code",
   "execution_count": 212,
   "metadata": {},
   "outputs": [],
   "source": [
    "test_s = scaler.fit_transform(x_test_s)"
   ]
  },
  {
   "cell_type": "code",
   "execution_count": 213,
   "metadata": {},
   "outputs": [
    {
     "data": {
      "text/plain": [
       "array([[0.00371619, 0.08678454, 0.05430236, ..., 0.00499053, 0.01682555,\n",
       "        0.02506468],\n",
       "       [0.01040951, 0.20013098, 0.09320593, ..., 0.00288101, 0.01065729,\n",
       "        0.00087815],\n",
       "       [0.00101852, 0.18501637, 0.00958066, ..., 0.00042091, 0.0141628 ,\n",
       "        0.04657273],\n",
       "       ...,\n",
       "       [0.00206384, 0.16204322, 0.00479298, ..., 0.00111186, 0.01120418,\n",
       "        0.04657273],\n",
       "       [0.01864511, 0.14333988, 0.01567501, ..., 0.0125019 , 0.14962251,\n",
       "        0.03238059],\n",
       "       [0.00580231, 0.11334643, 0.02048707, ..., 0.00143196, 0.00588764,\n",
       "        0.04657273]])"
      ]
     },
     "execution_count": 213,
     "metadata": {},
     "output_type": "execute_result"
    }
   ],
   "source": [
    "test_s"
   ]
  },
  {
   "cell_type": "code",
   "execution_count": 214,
   "metadata": {},
   "outputs": [
    {
     "data": {
      "text/plain": [
       "['상장주식수_s',\n",
       " '등락률_s',\n",
       " '거래량_x_s',\n",
       " '거래대금_x_s',\n",
       " '온실가스 배출량(tCO2-eq)_s',\n",
       " '에너지 사용량(TJ)_s',\n",
       " '자산총계_s',\n",
       " '자본금_s',\n",
       " '자본총계_s',\n",
       " '매출액_s',\n",
       " '영업이익_s',\n",
       " '순이익_s',\n",
       " '종가_s',\n",
       " '시가총액_s',\n",
       " '거래량_y_s',\n",
       " '거래대금_y_s',\n",
       " '기준가&종가 평균_s',\n",
       " '온실가스/매출액_s']"
      ]
     },
     "execution_count": 214,
     "metadata": {},
     "output_type": "execute_result"
    }
   ],
   "source": [
    "c=[]\n",
    "for i in [3,7,8,9,10,11,12,13,14,15,16,17,18,19,20,21,23,25]:\n",
    "    col=x_test.columns[i]+'_s'\n",
    "    c.append(col)\n",
    "\n",
    "c"
   ]
  },
  {
   "cell_type": "code",
   "execution_count": 215,
   "metadata": {},
   "outputs": [],
   "source": [
    "scale = pd.DataFrame(test_s, columns=c)"
   ]
  },
  {
   "cell_type": "code",
   "execution_count": 216,
   "metadata": {},
   "outputs": [
    {
     "data": {
      "text/html": [
       "<div>\n",
       "<style scoped>\n",
       "    .dataframe tbody tr th:only-of-type {\n",
       "        vertical-align: middle;\n",
       "    }\n",
       "\n",
       "    .dataframe tbody tr th {\n",
       "        vertical-align: top;\n",
       "    }\n",
       "\n",
       "    .dataframe thead th {\n",
       "        text-align: right;\n",
       "    }\n",
       "</style>\n",
       "<table border=\"1\" class=\"dataframe\">\n",
       "  <thead>\n",
       "    <tr style=\"text-align: right;\">\n",
       "      <th></th>\n",
       "      <th>상장주식수_s</th>\n",
       "      <th>등락률_s</th>\n",
       "      <th>거래량_x_s</th>\n",
       "      <th>거래대금_x_s</th>\n",
       "      <th>온실가스 배출량(tCO2-eq)_s</th>\n",
       "      <th>에너지 사용량(TJ)_s</th>\n",
       "      <th>자산총계_s</th>\n",
       "      <th>자본금_s</th>\n",
       "      <th>자본총계_s</th>\n",
       "      <th>매출액_s</th>\n",
       "      <th>영업이익_s</th>\n",
       "      <th>순이익_s</th>\n",
       "      <th>종가_s</th>\n",
       "      <th>시가총액_s</th>\n",
       "      <th>거래량_y_s</th>\n",
       "      <th>거래대금_y_s</th>\n",
       "      <th>기준가&amp;종가 평균_s</th>\n",
       "      <th>온실가스/매출액_s</th>\n",
       "    </tr>\n",
       "  </thead>\n",
       "  <tbody>\n",
       "    <tr>\n",
       "      <th>0</th>\n",
       "      <td>0.003716</td>\n",
       "      <td>0.086785</td>\n",
       "      <td>0.054302</td>\n",
       "      <td>0.020076</td>\n",
       "      <td>0.004370</td>\n",
       "      <td>0.005161</td>\n",
       "      <td>0.108760</td>\n",
       "      <td>0.153659</td>\n",
       "      <td>0.024860</td>\n",
       "      <td>0.009652</td>\n",
       "      <td>0.012005</td>\n",
       "      <td>0.013844</td>\n",
       "      <td>0.017929</td>\n",
       "      <td>0.000543</td>\n",
       "      <td>0.032985</td>\n",
       "      <td>0.004991</td>\n",
       "      <td>0.016826</td>\n",
       "      <td>0.025065</td>\n",
       "    </tr>\n",
       "    <tr>\n",
       "      <th>1</th>\n",
       "      <td>0.010410</td>\n",
       "      <td>0.200131</td>\n",
       "      <td>0.093206</td>\n",
       "      <td>0.015863</td>\n",
       "      <td>0.042820</td>\n",
       "      <td>0.062184</td>\n",
       "      <td>0.009914</td>\n",
       "      <td>0.020445</td>\n",
       "      <td>0.007301</td>\n",
       "      <td>0.006768</td>\n",
       "      <td>0.005985</td>\n",
       "      <td>0.008067</td>\n",
       "      <td>0.011074</td>\n",
       "      <td>0.001001</td>\n",
       "      <td>0.028542</td>\n",
       "      <td>0.002881</td>\n",
       "      <td>0.010657</td>\n",
       "      <td>0.000878</td>\n",
       "    </tr>\n",
       "    <tr>\n",
       "      <th>2</th>\n",
       "      <td>0.001019</td>\n",
       "      <td>0.185016</td>\n",
       "      <td>0.009581</td>\n",
       "      <td>0.002673</td>\n",
       "      <td>0.000035</td>\n",
       "      <td>0.000554</td>\n",
       "      <td>0.023475</td>\n",
       "      <td>0.051393</td>\n",
       "      <td>0.016274</td>\n",
       "      <td>0.023692</td>\n",
       "      <td>0.010880</td>\n",
       "      <td>0.011725</td>\n",
       "      <td>0.014694</td>\n",
       "      <td>0.000083</td>\n",
       "      <td>0.003218</td>\n",
       "      <td>0.000421</td>\n",
       "      <td>0.014163</td>\n",
       "      <td>0.046573</td>\n",
       "    </tr>\n",
       "    <tr>\n",
       "      <th>3</th>\n",
       "      <td>0.000896</td>\n",
       "      <td>0.110989</td>\n",
       "      <td>0.000021</td>\n",
       "      <td>0.000000</td>\n",
       "      <td>0.000000</td>\n",
       "      <td>0.000305</td>\n",
       "      <td>0.023475</td>\n",
       "      <td>0.051393</td>\n",
       "      <td>0.016274</td>\n",
       "      <td>0.023692</td>\n",
       "      <td>0.010880</td>\n",
       "      <td>0.011725</td>\n",
       "      <td>0.081161</td>\n",
       "      <td>0.000679</td>\n",
       "      <td>0.000050</td>\n",
       "      <td>0.000034</td>\n",
       "      <td>0.094126</td>\n",
       "      <td>0.046573</td>\n",
       "    </tr>\n",
       "    <tr>\n",
       "      <th>4</th>\n",
       "      <td>0.001659</td>\n",
       "      <td>0.075625</td>\n",
       "      <td>0.004403</td>\n",
       "      <td>0.002571</td>\n",
       "      <td>0.001317</td>\n",
       "      <td>0.001815</td>\n",
       "      <td>0.021086</td>\n",
       "      <td>0.067466</td>\n",
       "      <td>0.016410</td>\n",
       "      <td>0.019997</td>\n",
       "      <td>0.020174</td>\n",
       "      <td>0.019189</td>\n",
       "      <td>0.031407</td>\n",
       "      <td>0.000425</td>\n",
       "      <td>0.001668</td>\n",
       "      <td>0.000448</td>\n",
       "      <td>0.046116</td>\n",
       "      <td>0.003916</td>\n",
       "    </tr>\n",
       "    <tr>\n",
       "      <th>...</th>\n",
       "      <td>...</td>\n",
       "      <td>...</td>\n",
       "      <td>...</td>\n",
       "      <td>...</td>\n",
       "      <td>...</td>\n",
       "      <td>...</td>\n",
       "      <td>...</td>\n",
       "      <td>...</td>\n",
       "      <td>...</td>\n",
       "      <td>...</td>\n",
       "      <td>...</td>\n",
       "      <td>...</td>\n",
       "      <td>...</td>\n",
       "      <td>...</td>\n",
       "      <td>...</td>\n",
       "      <td>...</td>\n",
       "      <td>...</td>\n",
       "      <td>...</td>\n",
       "    </tr>\n",
       "    <tr>\n",
       "      <th>91</th>\n",
       "      <td>0.006821</td>\n",
       "      <td>0.117878</td>\n",
       "      <td>0.009126</td>\n",
       "      <td>0.000720</td>\n",
       "      <td>0.004370</td>\n",
       "      <td>0.005161</td>\n",
       "      <td>0.108760</td>\n",
       "      <td>0.153659</td>\n",
       "      <td>0.024860</td>\n",
       "      <td>0.009652</td>\n",
       "      <td>0.012005</td>\n",
       "      <td>0.013844</td>\n",
       "      <td>0.004227</td>\n",
       "      <td>0.000238</td>\n",
       "      <td>0.003299</td>\n",
       "      <td>0.000147</td>\n",
       "      <td>0.004673</td>\n",
       "      <td>0.025065</td>\n",
       "    </tr>\n",
       "    <tr>\n",
       "      <th>92</th>\n",
       "      <td>0.032786</td>\n",
       "      <td>0.218389</td>\n",
       "      <td>0.017120</td>\n",
       "      <td>0.002860</td>\n",
       "      <td>0.004370</td>\n",
       "      <td>0.005161</td>\n",
       "      <td>0.010453</td>\n",
       "      <td>0.226589</td>\n",
       "      <td>0.009695</td>\n",
       "      <td>0.000000</td>\n",
       "      <td>0.004780</td>\n",
       "      <td>0.008024</td>\n",
       "      <td>0.011474</td>\n",
       "      <td>0.003396</td>\n",
       "      <td>0.021100</td>\n",
       "      <td>0.002202</td>\n",
       "      <td>0.011222</td>\n",
       "      <td>0.000000</td>\n",
       "    </tr>\n",
       "    <tr>\n",
       "      <th>93</th>\n",
       "      <td>0.002064</td>\n",
       "      <td>0.162043</td>\n",
       "      <td>0.004793</td>\n",
       "      <td>0.000725</td>\n",
       "      <td>0.115162</td>\n",
       "      <td>0.061214</td>\n",
       "      <td>0.023475</td>\n",
       "      <td>0.051393</td>\n",
       "      <td>0.016274</td>\n",
       "      <td>0.023692</td>\n",
       "      <td>0.010880</td>\n",
       "      <td>0.011725</td>\n",
       "      <td>0.009811</td>\n",
       "      <td>0.000129</td>\n",
       "      <td>0.012228</td>\n",
       "      <td>0.001112</td>\n",
       "      <td>0.011204</td>\n",
       "      <td>0.046573</td>\n",
       "    </tr>\n",
       "    <tr>\n",
       "      <th>94</th>\n",
       "      <td>0.018645</td>\n",
       "      <td>0.143340</td>\n",
       "      <td>0.015675</td>\n",
       "      <td>0.032496</td>\n",
       "      <td>0.764160</td>\n",
       "      <td>0.709860</td>\n",
       "      <td>0.073556</td>\n",
       "      <td>0.066873</td>\n",
       "      <td>0.035268</td>\n",
       "      <td>0.136180</td>\n",
       "      <td>0.067182</td>\n",
       "      <td>0.047752</td>\n",
       "      <td>0.131070</td>\n",
       "      <td>0.020540</td>\n",
       "      <td>0.011582</td>\n",
       "      <td>0.012502</td>\n",
       "      <td>0.149623</td>\n",
       "      <td>0.032381</td>\n",
       "    </tr>\n",
       "    <tr>\n",
       "      <th>95</th>\n",
       "      <td>0.005802</td>\n",
       "      <td>0.113346</td>\n",
       "      <td>0.020487</td>\n",
       "      <td>0.001960</td>\n",
       "      <td>0.115162</td>\n",
       "      <td>0.061214</td>\n",
       "      <td>0.023475</td>\n",
       "      <td>0.051393</td>\n",
       "      <td>0.016274</td>\n",
       "      <td>0.023692</td>\n",
       "      <td>0.010880</td>\n",
       "      <td>0.011725</td>\n",
       "      <td>0.004704</td>\n",
       "      <td>0.000216</td>\n",
       "      <td>0.029575</td>\n",
       "      <td>0.001432</td>\n",
       "      <td>0.005888</td>\n",
       "      <td>0.046573</td>\n",
       "    </tr>\n",
       "  </tbody>\n",
       "</table>\n",
       "<p>96 rows × 18 columns</p>\n",
       "</div>"
      ],
      "text/plain": [
       "     상장주식수_s     등락률_s   거래량_x_s  거래대금_x_s  온실가스 배출량(tCO2-eq)_s  \\\n",
       "0   0.003716  0.086785  0.054302  0.020076             0.004370   \n",
       "1   0.010410  0.200131  0.093206  0.015863             0.042820   \n",
       "2   0.001019  0.185016  0.009581  0.002673             0.000035   \n",
       "3   0.000896  0.110989  0.000021  0.000000             0.000000   \n",
       "4   0.001659  0.075625  0.004403  0.002571             0.001317   \n",
       "..       ...       ...       ...       ...                  ...   \n",
       "91  0.006821  0.117878  0.009126  0.000720             0.004370   \n",
       "92  0.032786  0.218389  0.017120  0.002860             0.004370   \n",
       "93  0.002064  0.162043  0.004793  0.000725             0.115162   \n",
       "94  0.018645  0.143340  0.015675  0.032496             0.764160   \n",
       "95  0.005802  0.113346  0.020487  0.001960             0.115162   \n",
       "\n",
       "    에너지 사용량(TJ)_s    자산총계_s     자본금_s    자본총계_s     매출액_s    영업이익_s     순이익_s  \\\n",
       "0        0.005161  0.108760  0.153659  0.024860  0.009652  0.012005  0.013844   \n",
       "1        0.062184  0.009914  0.020445  0.007301  0.006768  0.005985  0.008067   \n",
       "2        0.000554  0.023475  0.051393  0.016274  0.023692  0.010880  0.011725   \n",
       "3        0.000305  0.023475  0.051393  0.016274  0.023692  0.010880  0.011725   \n",
       "4        0.001815  0.021086  0.067466  0.016410  0.019997  0.020174  0.019189   \n",
       "..            ...       ...       ...       ...       ...       ...       ...   \n",
       "91       0.005161  0.108760  0.153659  0.024860  0.009652  0.012005  0.013844   \n",
       "92       0.005161  0.010453  0.226589  0.009695  0.000000  0.004780  0.008024   \n",
       "93       0.061214  0.023475  0.051393  0.016274  0.023692  0.010880  0.011725   \n",
       "94       0.709860  0.073556  0.066873  0.035268  0.136180  0.067182  0.047752   \n",
       "95       0.061214  0.023475  0.051393  0.016274  0.023692  0.010880  0.011725   \n",
       "\n",
       "        종가_s    시가총액_s   거래량_y_s  거래대금_y_s  기준가&종가 평균_s  온실가스/매출액_s  \n",
       "0   0.017929  0.000543  0.032985  0.004991     0.016826    0.025065  \n",
       "1   0.011074  0.001001  0.028542  0.002881     0.010657    0.000878  \n",
       "2   0.014694  0.000083  0.003218  0.000421     0.014163    0.046573  \n",
       "3   0.081161  0.000679  0.000050  0.000034     0.094126    0.046573  \n",
       "4   0.031407  0.000425  0.001668  0.000448     0.046116    0.003916  \n",
       "..       ...       ...       ...       ...          ...         ...  \n",
       "91  0.004227  0.000238  0.003299  0.000147     0.004673    0.025065  \n",
       "92  0.011474  0.003396  0.021100  0.002202     0.011222    0.000000  \n",
       "93  0.009811  0.000129  0.012228  0.001112     0.011204    0.046573  \n",
       "94  0.131070  0.020540  0.011582  0.012502     0.149623    0.032381  \n",
       "95  0.004704  0.000216  0.029575  0.001432     0.005888    0.046573  \n",
       "\n",
       "[96 rows x 18 columns]"
      ]
     },
     "execution_count": 216,
     "metadata": {},
     "output_type": "execute_result"
    }
   ],
   "source": [
    "scale"
   ]
  },
  {
   "cell_type": "code",
   "execution_count": 217,
   "metadata": {},
   "outputs": [],
   "source": [
    "test_scale = pd.concat([x_test,scale], axis=1)"
   ]
  },
  {
   "cell_type": "code",
   "execution_count": 218,
   "metadata": {},
   "outputs": [
    {
     "name": "stdout",
     "output_type": "stream",
     "text": [
      "<class 'pandas.core.frame.DataFrame'>\n",
      "RangeIndex: 96 entries, 0 to 95\n",
      "Data columns (total 44 columns):\n",
      " #   Column               Non-Null Count  Dtype  \n",
      "---  ------               --------------  -----  \n",
      " 0   업종                   96 non-null     object \n",
      " 1   지역                   96 non-null     object \n",
      " 2   시장구분                 96 non-null     object \n",
      " 3   상장주식수                96 non-null     int64  \n",
      " 4   환경                   96 non-null     object \n",
      " 5   사회                   96 non-null     object \n",
      " 6   지배구조                 96 non-null     object \n",
      " 7   등락률                  96 non-null     float64\n",
      " 8   거래량_x                96 non-null     float64\n",
      " 9   거래대금_x               96 non-null     float64\n",
      " 10  온실가스 배출량(tCO2-eq)    96 non-null     float64\n",
      " 11  에너지 사용량(TJ)          96 non-null     float64\n",
      " 12  자산총계                 96 non-null     float64\n",
      " 13  자본금                  96 non-null     float64\n",
      " 14  자본총계                 96 non-null     float64\n",
      " 15  매출액                  96 non-null     float64\n",
      " 16  영업이익                 96 non-null     float64\n",
      " 17  순이익                  96 non-null     float64\n",
      " 18  종가                   96 non-null     float64\n",
      " 19  시가총액                 96 non-null     float64\n",
      " 20  거래량_y                96 non-null     float64\n",
      " 21  거래대금_y               96 non-null     float64\n",
      " 22  총개수                  96 non-null     float64\n",
      " 23  기준가&종가 평균            96 non-null     float64\n",
      " 24  업종 대분류               96 non-null     object \n",
      " 25  온실가스/매출액             96 non-null     float64\n",
      " 26  상장주식수_s              96 non-null     float64\n",
      " 27  등락률_s                96 non-null     float64\n",
      " 28  거래량_x_s              96 non-null     float64\n",
      " 29  거래대금_x_s             96 non-null     float64\n",
      " 30  온실가스 배출량(tCO2-eq)_s  96 non-null     float64\n",
      " 31  에너지 사용량(TJ)_s        96 non-null     float64\n",
      " 32  자산총계_s               96 non-null     float64\n",
      " 33  자본금_s                96 non-null     float64\n",
      " 34  자본총계_s               96 non-null     float64\n",
      " 35  매출액_s                96 non-null     float64\n",
      " 36  영업이익_s               96 non-null     float64\n",
      " 37  순이익_s                96 non-null     float64\n",
      " 38  종가_s                 96 non-null     float64\n",
      " 39  시가총액_s               96 non-null     float64\n",
      " 40  거래량_y_s              96 non-null     float64\n",
      " 41  거래대금_y_s             96 non-null     float64\n",
      " 42  기준가&종가 평균_s          96 non-null     float64\n",
      " 43  온실가스/매출액_s           96 non-null     float64\n",
      "dtypes: float64(36), int64(1), object(7)\n",
      "memory usage: 33.1+ KB\n"
     ]
    }
   ],
   "source": [
    "test_scale.info()"
   ]
  },
  {
   "cell_type": "code",
   "execution_count": 219,
   "metadata": {},
   "outputs": [],
   "source": [
    "clus = test_scale.iloc[:,[0,1,2,4,5,6,22,26,27,28,29,30,31,32,33,34,35,36,37,38,39,40,41,42,43]]"
   ]
  },
  {
   "cell_type": "code",
   "execution_count": 220,
   "metadata": {},
   "outputs": [],
   "source": [
    "categorical = [0,1,2,3,4,5,6]"
   ]
  },
  {
   "cell_type": "code",
   "execution_count": 221,
   "metadata": {},
   "outputs": [
    {
     "data": {
      "text/plain": [
       "array([2, 1, 1, 1, 2, 1, 2, 1, 1, 1, 2, 1, 2, 1, 1, 0, 2, 2, 2, 1, 2, 2,\n",
       "       2, 1, 2, 2, 1, 2, 2, 2, 2, 1, 1, 1, 1, 0, 1, 2, 1, 2, 2, 1, 1, 1,\n",
       "       1, 2, 2, 2, 2, 1, 2, 1, 2, 1, 1, 2, 2, 1, 1, 1, 1, 2, 1, 2, 1, 1,\n",
       "       2, 1, 1, 1, 2, 2, 1, 2, 2, 2, 2, 2, 1, 1, 2, 1, 2, 1, 2, 1, 1, 2,\n",
       "       1, 1, 1, 2, 2, 1, 2, 2], dtype=uint16)"
      ]
     },
     "execution_count": 221,
     "metadata": {},
     "output_type": "execute_result"
    }
   ],
   "source": [
    "# +는 합쳐서 A, B, C+D\n",
    "kprototype = KPrototypes(n_clusters = 3, init = 'Huang')\n",
    "kprototype.fit_predict(clus, categorical = categorical)"
   ]
  },
  {
   "cell_type": "code",
   "execution_count": 222,
   "metadata": {},
   "outputs": [],
   "source": [
    "x_test['Cluster Labels'] = kprototype.labels_"
   ]
  },
  {
   "cell_type": "code",
   "execution_count": 223,
   "metadata": {},
   "outputs": [
    {
     "data": {
      "text/plain": [
       "1    48\n",
       "2    46\n",
       "0     2\n",
       "Name: Cluster Labels, dtype: int64"
      ]
     },
     "execution_count": 223,
     "metadata": {},
     "output_type": "execute_result"
    }
   ],
   "source": [
    "x_test['Cluster Labels'].value_counts()"
   ]
  },
  {
   "cell_type": "markdown",
   "metadata": {},
   "source": [
    "* A, A+ 총: 176개\n",
    "* B, B+ 총: 393개\n",
    "* C, D  총: 290개\n",
    "* 1번에 C,D .. 2번에 B, B+ .. 0번에 A, A+가 많으면 얼추 성공적인듯"
   ]
  },
  {
   "cell_type": "code",
   "execution_count": 224,
   "metadata": {},
   "outputs": [],
   "source": [
    "y_test['labels'] = kprototype.labels_"
   ]
  },
  {
   "cell_type": "code",
   "execution_count": 225,
   "metadata": {},
   "outputs": [],
   "source": [
    "d0 = y_test[y_test['labels']==0]\n",
    "d1 = y_test[y_test['labels']==1]\n",
    "d2 = y_test[y_test['labels']==2]\n",
    "#d3 = y_train[y_train['labels']==3]\n",
    "#d4 = y_train[y_train['labels']==4]\n",
    "#d5 = y_train[y_train['labels']==5]"
   ]
  },
  {
   "cell_type": "code",
   "execution_count": 226,
   "metadata": {},
   "outputs": [
    {
     "data": {
      "text/html": [
       "<div>\n",
       "<style scoped>\n",
       "    .dataframe tbody tr th:only-of-type {\n",
       "        vertical-align: middle;\n",
       "    }\n",
       "\n",
       "    .dataframe tbody tr th {\n",
       "        vertical-align: top;\n",
       "    }\n",
       "\n",
       "    .dataframe thead th {\n",
       "        text-align: right;\n",
       "    }\n",
       "</style>\n",
       "<table border=\"1\" class=\"dataframe\">\n",
       "  <thead>\n",
       "    <tr style=\"text-align: right;\">\n",
       "      <th></th>\n",
       "      <th>ESG등급</th>\n",
       "      <th>labels</th>\n",
       "    </tr>\n",
       "  </thead>\n",
       "  <tbody>\n",
       "    <tr>\n",
       "      <th>0</th>\n",
       "      <td>B+</td>\n",
       "      <td>2</td>\n",
       "    </tr>\n",
       "    <tr>\n",
       "      <th>1</th>\n",
       "      <td>C</td>\n",
       "      <td>1</td>\n",
       "    </tr>\n",
       "    <tr>\n",
       "      <th>2</th>\n",
       "      <td>B</td>\n",
       "      <td>1</td>\n",
       "    </tr>\n",
       "    <tr>\n",
       "      <th>3</th>\n",
       "      <td>C</td>\n",
       "      <td>1</td>\n",
       "    </tr>\n",
       "    <tr>\n",
       "      <th>4</th>\n",
       "      <td>A</td>\n",
       "      <td>2</td>\n",
       "    </tr>\n",
       "    <tr>\n",
       "      <th>...</th>\n",
       "      <td>...</td>\n",
       "      <td>...</td>\n",
       "    </tr>\n",
       "    <tr>\n",
       "      <th>91</th>\n",
       "      <td>A</td>\n",
       "      <td>2</td>\n",
       "    </tr>\n",
       "    <tr>\n",
       "      <th>92</th>\n",
       "      <td>A+</td>\n",
       "      <td>2</td>\n",
       "    </tr>\n",
       "    <tr>\n",
       "      <th>93</th>\n",
       "      <td>C</td>\n",
       "      <td>1</td>\n",
       "    </tr>\n",
       "    <tr>\n",
       "      <th>94</th>\n",
       "      <td>A+</td>\n",
       "      <td>2</td>\n",
       "    </tr>\n",
       "    <tr>\n",
       "      <th>95</th>\n",
       "      <td>B</td>\n",
       "      <td>2</td>\n",
       "    </tr>\n",
       "  </tbody>\n",
       "</table>\n",
       "<p>96 rows × 2 columns</p>\n",
       "</div>"
      ],
      "text/plain": [
       "   ESG등급  labels\n",
       "0     B+       2\n",
       "1      C       1\n",
       "2      B       1\n",
       "3      C       1\n",
       "4      A       2\n",
       "..   ...     ...\n",
       "91     A       2\n",
       "92    A+       2\n",
       "93     C       1\n",
       "94    A+       2\n",
       "95     B       2\n",
       "\n",
       "[96 rows x 2 columns]"
      ]
     },
     "execution_count": 226,
     "metadata": {},
     "output_type": "execute_result"
    }
   ],
   "source": [
    "y_test"
   ]
  },
  {
   "cell_type": "code",
   "execution_count": 227,
   "metadata": {},
   "outputs": [
    {
     "name": "stdout",
     "output_type": "stream",
     "text": [
      "C     30\n",
      "B     28\n",
      "A     20\n",
      "B+    13\n",
      "A+     3\n",
      "D      2\n",
      "Name: ESG등급, dtype: int64\n",
      "---------------\n",
      "1    48\n",
      "2    46\n",
      "0     2\n",
      "Name: labels, dtype: int64\n"
     ]
    }
   ],
   "source": [
    "print(y_test['ESG등급'].value_counts())\n",
    "print('-'*15)\n",
    "print(y_test['labels'].value_counts())"
   ]
  },
  {
   "cell_type": "code",
   "execution_count": 228,
   "metadata": {
    "scrolled": true
   },
   "outputs": [
    {
     "name": "stdout",
     "output_type": "stream",
     "text": [
      "d0:\n",
      " B+    2\n",
      "Name: ESG등급, dtype: int64\n",
      "----------\n",
      "d1:\n",
      " C     29\n",
      "B     15\n",
      "D      2\n",
      "B+     2\n",
      "Name: ESG등급, dtype: int64\n",
      "----------\n",
      "d2:\n",
      " A     20\n",
      "B     13\n",
      "B+     9\n",
      "A+     3\n",
      "C      1\n",
      "Name: ESG등급, dtype: int64\n",
      "----------\n",
      "----------\n",
      "----------\n",
      "----------\n"
     ]
    }
   ],
   "source": [
    "print('d0:\\n',d0['ESG등급'].value_counts())\n",
    "print('-'*10)\n",
    "print('d1:\\n',d1['ESG등급'].value_counts())\n",
    "print('-'*10)\n",
    "print('d2:\\n',d2['ESG등급'].value_counts())\n",
    "print('-'*10)\n",
    "#print('d3:\\n',d3['ESG등급'].value_counts())\n",
    "print('-'*10)\n",
    "#print('d4:\\n',d4['ESG등급'].value_counts())\n",
    "print('-'*10)\n",
    "#print('d5:\\n',d5['ESG등급'].value_counts())\n",
    "print('-'*10)"
   ]
  },
  {
   "cell_type": "code",
   "execution_count": null,
   "metadata": {},
   "outputs": [],
   "source": []
  }
 ],
 "metadata": {
  "kernelspec": {
   "display_name": "Python 3",
   "language": "python",
   "name": "python3"
  },
  "language_info": {
   "codemirror_mode": {
    "name": "ipython",
    "version": 3
   },
   "file_extension": ".py",
   "mimetype": "text/x-python",
   "name": "python",
   "nbconvert_exporter": "python",
   "pygments_lexer": "ipython3",
   "version": "3.8.5"
  },
  "toc": {
   "base_numbering": 1,
   "nav_menu": {},
   "number_sections": true,
   "sideBar": true,
   "skip_h1_title": false,
   "title_cell": "Table of Contents",
   "title_sidebar": "Contents",
   "toc_cell": false,
   "toc_position": {
    "height": "calc(100% - 180px)",
    "left": "10px",
    "top": "150px",
    "width": "303.825px"
   },
   "toc_section_display": true,
   "toc_window_display": true
  }
 },
 "nbformat": 4,
 "nbformat_minor": 4
}
